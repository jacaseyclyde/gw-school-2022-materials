{
 "cells": [
  {
   "cell_type": "markdown",
   "id": "0a12670a",
   "metadata": {},
   "source": [
    "# PINT"
   ]
  },
  {
   "cell_type": "markdown",
   "id": "44267c07",
   "metadata": {},
   "source": [
    "(credit: [PINT documentation](https://nanograv-pint.readthedocs.io/en/latest/))"
   ]
  },
  {
   "cell_type": "markdown",
   "id": "fcf47662",
   "metadata": {},
   "source": [
    "PINT (Pint is not tempo3) is a Python package designed for producing timing solution. It is independent of other timing software like tempo and tempo2."
   ]
  },
  {
   "cell_type": "code",
   "execution_count": 1,
   "id": "8624bc10",
   "metadata": {},
   "outputs": [
    {
     "data": {
      "text/plain": [
       "1"
      ]
     },
     "execution_count": 1,
     "metadata": {},
     "output_type": "execute_result"
    }
   ],
   "source": [
    "import astropy.units as u\n",
    "import matplotlib.pyplot as plt\n",
    "\n",
    "import pint.fitter\n",
    "from pint.models import get_model_and_toas\n",
    "from pint.residuals import Residuals\n",
    "from pint.toa import get_TOAs\n",
    "import pint.logging\n",
    "\n",
    "pint.logging.setup(level=\"INFO\")"
   ]
  },
  {
   "cell_type": "markdown",
   "id": "da3692f4",
   "metadata": {},
   "source": [
    "To familiarize ourselves with the PINT framework, we will work with the example pulsar that is provided with the PINT installation."
   ]
  },
  {
   "cell_type": "code",
   "execution_count": 2,
   "id": "60c6321c",
   "metadata": {},
   "outputs": [],
   "source": [
    "#Use internally provided dataset\n",
    "\n",
    "import pint.config\n",
    "\n",
    "parfile = pint.config.examplefile(\"NGC6440E.par\")\n",
    "timfile = pint.config.examplefile(\"NGC6440E.tim\")"
   ]
  },
  {
   "cell_type": "code",
   "execution_count": 3,
   "id": "44325491",
   "metadata": {},
   "outputs": [
    {
     "name": "stderr",
     "output_type": "stream",
     "text": [
      "\u001b[33m\u001b[1mWARNING \u001b[0m (pint.logging                  ): \u001b[33m\u001b[1m/Users/jacaseyclyde/miniconda3/envs/viper/lib/python3.9/site-packages/pint/models/timing_model.py:375 UserWarning: PINT only supports 'T2CMETHOD IAU2000B'\u001b[0m\n",
      "\u001b[33m\u001b[1mWARNING \u001b[0m (pint.toa                      ): \u001b[33m\u001b[1mCLOCK = UTC(NIST) is not implemented. Using TT(BIPM2021) instead.\u001b[0m\n",
      "\u001b[33m\u001b[1mWARNING \u001b[0m (pint.toa                      ): \u001b[33m\u001b[1mUnknown command MODE in line MODE 1\n",
      "\u001b[0m\n",
      "\u001b[1mINFO    \u001b[0m (pint.observatory.global_clock_corrections): \u001b[1mFile index.txt to be downloaded due to download policy if_expired: https://raw.githubusercontent.com/ipta/pulsar-clock-corrections/main/index.txt\u001b[0m\n",
      "\u001b[1mINFO    \u001b[0m (pint.observatory.global_clock_corrections): \u001b[1mFile tempo/clock/time_gbt.dat to be downloaded due to download policy if_missing: https://raw.githubusercontent.com/ipta/pulsar-clock-corrections/main/tempo/clock/time_gbt.dat\u001b[0m\n",
      "\u001b[1mINFO    \u001b[0m (pint.observatory.topo_obs     ): \u001b[1mUsing global clock file for time_gbt.dat\u001b[0m\n",
      "\u001b[1mINFO    \u001b[0m (pint.observatory.topo_obs     ): \u001b[1mApplying observatory clock corrections.\u001b[0m\n",
      "\u001b[1mINFO    \u001b[0m (pint.observatory.topo_obs     ): \u001b[1mApplying GPS to UTC clock correction (~few nanoseconds)\u001b[0m\n",
      "\u001b[1mINFO    \u001b[0m (pint.observatory.topo_obs     ): \u001b[1mLoading global GPS clock file for gbt\u001b[0m\n",
      "\u001b[1mINFO    \u001b[0m (pint.observatory.global_clock_corrections): \u001b[1mFile T2runtime/clock/gps2utc.clk to be downloaded due to download policy if_missing: https://raw.githubusercontent.com/ipta/pulsar-clock-corrections/main/T2runtime/clock/gps2utc.clk\u001b[0m\n",
      "\u001b[1mINFO    \u001b[0m (pint.observatory.topo_obs     ): \u001b[1mUsing global clock file for gps2utc.clk\u001b[0m\n",
      "\u001b[1mINFO    \u001b[0m (pint.observatory.topo_obs     ): \u001b[1mApplying TT(TAI) to TT(BIPM2021) clock correction (~27 us)\u001b[0m\n",
      "\u001b[1mINFO    \u001b[0m (pint.observatory.topo_obs     ): \u001b[1mLoading BIPM clock version bipm2021 for gbt\u001b[0m\n",
      "\u001b[1mINFO    \u001b[0m (pint.observatory.global_clock_corrections): \u001b[1mFile T2runtime/clock/tai2tt_bipm2021.clk to be downloaded due to download policy if_missing: https://raw.githubusercontent.com/ipta/pulsar-clock-corrections/main/T2runtime/clock/tai2tt_bipm2021.clk\u001b[0m\n",
      "\u001b[1mINFO    \u001b[0m (pint.observatory.topo_obs     ): \u001b[1mUsing global clock file for tai2tt_bipm2021.clk\u001b[0m\n",
      "\u001b[1mINFO    \u001b[0m (pint.solar_system_ephemerides ): \u001b[1mSet solar system ephemeris to de421 from download\u001b[0m\n"
     ]
    }
   ],
   "source": [
    "#Load in the timing model from the parfile and TOAs from the timfile\n",
    "\n",
    "m, t_all = get_model_and_toas(parfile, timfile)"
   ]
  },
  {
   "cell_type": "code",
   "execution_count": 4,
   "id": "e740a85e",
   "metadata": {},
   "outputs": [
    {
     "data": {
      "text/plain": [
       "TimingModel(\n",
       "  AbsPhase(\n",
       "    MJDParameter(   TZRMJD              53801.3860512007484954 (d) frozen=True),\n",
       "    strParameter(   TZRSITE             1                 frozen=True),\n",
       "    floatParameter( TZRFRQ              1949.609          (MHz) frozen=True)),\n",
       "  AstrometryEquatorial(\n",
       "    MJDParameter(   POSEPOCH            53750.0000000000000000 (d) frozen=True),\n",
       "    floatParameter( PX                  0.0               (mas) frozen=True),\n",
       "    AngleParameter( RAJ                 17:48:52.75000000 (hourangle) +/- 0h00m00.05s frozen=False),\n",
       "    AngleParameter( DECJ                -20:21:29.00000000 (deg) +/- 0d00m00.4s frozen=False),\n",
       "    floatParameter( PMRA                0.0               (mas / yr) frozen=True),\n",
       "    floatParameter( PMDEC               0.0               (mas / yr) frozen=True)),\n",
       "  DispersionDM(\n",
       "    floatParameter( DM                  223.9             (pc / cm3) +/- 0.3 pc / cm3 frozen=False),\n",
       "    floatParameter( DM1                 UNSET,\n",
       "    MJDParameter(   DMEPOCH             UNSET),\n",
       "  SolarSystemShapiro(\n",
       "    boolParameter(  PLANET_SHAPIRO      N                 frozen=True)),\n",
       "  SolarWindDispersion(\n",
       "    floatParameter( NE_SW               0.0               (1 / cm3) frozen=True),\n",
       "    floatParameter( SWM                 0.0               () frozen=True)),\n",
       "  Spindown(\n",
       "    floatParameter( F0                  61.485476554      (Hz) +/- 5e-10 Hz frozen=False),\n",
       "    MJDParameter(   PEPOCH              53750.0000000000000000 (d) frozen=True),\n",
       "    floatParameter( F1                  -1.181e-15        (Hz / s) +/- 1e-18 Hz / s frozen=False)),\n",
       "  TroposphereDelay(\n",
       "    boolParameter(  CORRECT_TROPOSPHERE N                 frozen=True))\n",
       ")"
      ]
     },
     "execution_count": 4,
     "metadata": {},
     "output_type": "execute_result"
    }
   ],
   "source": [
    "m"
   ]
  },
  {
   "cell_type": "code",
   "execution_count": 5,
   "id": "750c0f6e",
   "metadata": {},
   "outputs": [
    {
     "name": "stdout",
     "output_type": "stream",
     "text": [
      "Number of TOAs:  62\n",
      "Number of commands:  1\n",
      "Number of observatories: 1 ['gbt']\n",
      "MJD span:  53478.286 to 54187.587\n",
      "Date span: 2005-04-18 06:51:39.290648106 to 2007-03-28 14:05:44.808308037\n",
      "gbt TOAs (62):\n",
      "  Min freq:      1549.609 MHz\n",
      "  Max freq:      2212.109 MHz\n",
      "  Min error:     13.2 us\n",
      "  Max error:     118 us\n",
      "  Median error:  22.1 us\n",
      "\n"
     ]
    }
   ],
   "source": [
    "t_all.print_summary()"
   ]
  },
  {
   "cell_type": "code",
   "execution_count": 6,
   "id": "8138c267",
   "metadata": {
    "scrolled": true
   },
   "outputs": [
    {
     "data": {
      "image/png": "[encoded data removed]",
      "text/plain": [
       "<Figure size 432x288 with 1 Axes>"
      ]
     },
     "metadata": {
      "needs_background": "light"
     },
     "output_type": "display_data"
    }
   ],
   "source": [
    "#Calculate the pre-fit residuals\n",
    "rs = Residuals(t_all, m)\n",
    "xt = rs.toas.get_mjds()\n",
    "\n",
    "plt.figure()\n",
    "plt.plot(xt, rs.time_resids.to(u.us), \"x\")\n",
    "plt.title(\"%s Pre-Fit Timing Residuals\" % m.PSR.value)\n",
    "plt.xlabel(\"MJD\")\n",
    "plt.ylabel(\"Residual (us)\")\n",
    "plt.grid()"
   ]
  },
  {
   "cell_type": "code",
   "execution_count": 7,
   "id": "1e525fe5",
   "metadata": {},
   "outputs": [
    {
     "name": "stdout",
     "output_type": "stream",
     "text": [
      "Number of TOAs:  44\n",
      "Number of commands:  1\n",
      "Number of observatories: 1 ['gbt']\n",
      "MJD span:  53478.286 to 54187.587\n",
      "Date span: 2005-04-18 06:51:39.290648106 to 2007-03-28 14:05:44.808308037\n",
      "gbt TOAs (44):\n",
      "  Min freq:      1724.609 MHz\n",
      "  Max freq:      1949.609 MHz\n",
      "  Min error:     13.2 us\n",
      "  Max error:     29.9 us\n",
      "  Median error:  21.5 us\n",
      "\n"
     ]
    }
   ],
   "source": [
    "#As an example, we want to excise all data with errors greater than 30 us\n",
    "error_ok = t_all.table[\"error\"] <= 30 * u.us\n",
    "t = t_all[error_ok]\n",
    "t.print_summary()"
   ]
  },
  {
   "cell_type": "code",
   "execution_count": 8,
   "id": "e5567001",
   "metadata": {},
   "outputs": [
    {
     "data": {
      "image/png": "[encoded data removed]",
      "text/plain": [
       "<Figure size 432x288 with 1 Axes>"
      ]
     },
     "metadata": {
      "needs_background": "light"
     },
     "output_type": "display_data"
    }
   ],
   "source": [
    "#Plot residuals after excision\n",
    "rs = Residuals(t, m).phase_resids\n",
    "xt = t.get_mjds()\n",
    "\n",
    "plt.figure()\n",
    "plt.plot(xt, rs, \"x\")\n",
    "plt.title(\"%s Pre-Fit Timing Residuals\" % m.PSR.value)\n",
    "plt.xlabel(\"MJD\")\n",
    "plt.ylabel(\"Residual (phase)\")\n",
    "plt.grid()"
   ]
  },
  {
   "cell_type": "code",
   "execution_count": 9,
   "id": "b9aab4bf",
   "metadata": {},
   "outputs": [
    {
     "name": "stderr",
     "output_type": "stream",
     "text": [
      "\u001b[1mINFO    \u001b[0m (pint.fitter                   ): \u001b[1mFor narrowband TOAs without correlated errors and downhill fitter, returning 'DownhillWLSFitter'\u001b[0m\n"
     ]
    }
   ],
   "source": [
    "#Fit the timing model to the TOAs\n",
    "#Let PINT figure out which fitter to use.\n",
    "#Many fitters available in PINT.\n",
    "\n",
    "f = pint.fitter.Fitter.auto(t, m)\n",
    "f.fit_toas()"
   ]
  },
  {
   "cell_type": "code",
   "execution_count": 10,
   "id": "7c3da7f5",
   "metadata": {},
   "outputs": [
    {
     "name": "stdout",
     "output_type": "stream",
     "text": [
      "Best fit has reduced chi^2 of 1.0367398353759580725\n",
      "RMS in phase is 0.001117920026596454\n",
      "RMS in time is 18.181855122509482 us\n"
     ]
    }
   ],
   "source": [
    "# Print some basic params\n",
    "print(\"Best fit has reduced chi^2 of\", f.resids.chi2_reduced)\n",
    "print(\"RMS in phase is\", f.resids.phase_resids.std())\n",
    "print(\"RMS in time is\", f.resids.time_resids.std().to(u.us))"
   ]
  },
  {
   "cell_type": "code",
   "execution_count": 11,
   "id": "d21cc47b",
   "metadata": {},
   "outputs": [
    {
     "name": "stdout",
     "output_type": "stream",
     "text": [
      "Fitted model using downhill_wls method with 5 free parameters to 44 TOAs\n",
      "Prefit residuals Wrms = 1113.6432901099379 us, Postfit residuals Wrms = 18.175665173095865 us\n",
      "Chisq = 39.396 for 38 d.o.f. for reduced Chisq of 1.037\n",
      "\n",
      "PAR                        Prefit                  Postfit            Units\n",
      "=================== ==================== ============================ =====\n",
      "PSR                           1748-2021E 1748-2021E                   None\n",
      "EPHEM                              DE421 DE421                        None\n",
      "CLOCK                          UTC(NIST) TT(BIPM2021)                 None\n",
      "UNITS                                TDB TDB                          None\n",
      "START                                                         53478.3 d \n",
      "FINISH                                                        54187.6 d \n",
      "TIMEEPH                             FB90 FB90                         None\n",
      "T2CMETHOD                       IAU2000B IAU2000B                     None\n",
      "DILATEFREQ                             N                              None\n",
      "DMDATA                                 N                              None\n",
      "NTOA                                   0                              None \n",
      "CHI2                                   0                               \n",
      "POSEPOCH                           53750                              d \n",
      "PX                                     0                              mas \n",
      "RAJ                         17h48m52.75s  17h48m52.80032123s +/- 0.00014 hourangle_second \n",
      "DECJ                          -20d21m29s  -20d21m29.39582206s +/- 0.034 arcsec \n",
      "PMRA                                   0                              mas / yr \n",
      "PMDEC                                  0                              mas / yr \n",
      "F0                               61.4855          61.485476554374(18) Hz \n",
      "PEPOCH                             53750                              d \n",
      "F1                            -1.181e-15            -1.1817(15)×10⁻¹⁵ Hz / s \n",
      "CORRECT_TROPOSPHERE                    N                              None\n",
      "PLANET_SHAPIRO                         N                              None\n",
      "NE_SW                                  0                              1 / cm3 \n",
      "SWM                                    0                               \n",
      "DM                                 223.9                    224.07(8) pc / cm3 \n",
      "TZRMJD                           53801.4                              d \n",
      "TZRSITE                                1 1                            None\n",
      "TZRFRQ                           1949.61                              MHz \n",
      "\n",
      "Derived Parameters:\n",
      "Period = 0.016264003404375785 s +/- 4.870715505991999e-15 s\n",
      "Pdot = 3.125733812358092e-19 +/- 3.8562954336673395e-22\n",
      "Characteristic age = 8.244e+08 yr (braking index = 3)\n",
      "Surface magnetic field = 2.28e+09 G\n",
      "Magnetic field at light cylinder = 4806 G\n",
      "Spindown Edot = 2.868e+33 erg / s (I=1e+45 cm2 g)\n",
      "\n"
     ]
    }
   ],
   "source": [
    "f.print_summary()"
   ]
  },
  {
   "cell_type": "code",
   "execution_count": 12,
   "id": "c581de3a",
   "metadata": {},
   "outputs": [
    {
     "data": {
      "image/png": "[encoded data removed]",
      "text/plain": [
       "<Figure size 432x288 with 1 Axes>"
      ]
     },
     "metadata": {
      "needs_background": "light"
     },
     "output_type": "display_data"
    }
   ],
   "source": [
    "plt.figure()\n",
    "plt.errorbar(\n",
    "    xt.value,\n",
    "    f.resids.time_resids.to(u.us).value,\n",
    "    t.get_errors().to(u.us).value,\n",
    "    fmt=\"x\",\n",
    ")\n",
    "plt.title(\"%s Post-Fit Timing Residuals\" % m.PSR.value)\n",
    "plt.xlabel(\"MJD\")\n",
    "plt.ylabel(\"Residual (us)\")\n",
    "plt.grid()"
   ]
  },
  {
   "cell_type": "code",
   "execution_count": 13,
   "id": "8acaf00a",
   "metadata": {},
   "outputs": [
    {
     "data": {
      "text/plain": [
       "<matplotlib.legend.Legend at 0x17fcd0b20>"
      ]
     },
     "execution_count": 13,
     "metadata": {},
     "output_type": "execute_result"
    },
    {
     "data": {
      "image/png": "[encoded data removed]",
      "text/plain": [
       "<Figure size 432x288 with 1 Axes>"
      ]
     },
     "metadata": {
      "needs_background": "light"
     },
     "output_type": "display_data"
    }
   ],
   "source": [
    "t_bad = t_all[~error_ok]\n",
    "r_bad = Residuals(t_bad, f.model)\n",
    "plt.figure()\n",
    "plt.errorbar(\n",
    "    xt.value,\n",
    "    f.resids.time_resids.to(u.us).value,\n",
    "    t.get_errors().to(u.us).value,\n",
    "    fmt=\"x\",\n",
    "    label=\"used in fit\",\n",
    ")\n",
    "plt.errorbar(\n",
    "    t_bad.get_mjds().value,\n",
    "    r_bad.time_resids.to(u.us).value,\n",
    "    t_bad.get_errors().to(u.us).value,\n",
    "    fmt=\"x\",\n",
    "    label=\"bad data\",\n",
    ")\n",
    "plt.title(\"%s Post-Fit Timing Residuals\" % m.PSR.value)\n",
    "plt.xlabel(\"MJD\")\n",
    "plt.ylabel(\"Residual (us)\")\n",
    "plt.grid()\n",
    "plt.legend(loc=\"upper left\")"
   ]
  },
  {
   "cell_type": "code",
   "execution_count": 14,
   "id": "f0d7e111",
   "metadata": {},
   "outputs": [
    {
     "name": "stdout",
     "output_type": "stream",
     "text": [
      "# Created: 2022-07-12T12:18:32.307585\n",
      "# PINT_version: 0.9.0\n",
      "# User: jacaseyclyde\n",
      "# Host: Js-MacBook-Pro.local\n",
      "# OS: macOS-12.3.1-x86_64-i386-64bit\n",
      "# Format: pint\n",
      "PSR                            1748-2021E\n",
      "EPHEM                               DE421\n",
      "CLK                          TT(BIPM2021)\n",
      "UNITS                                 TDB\n",
      "START              53478.2858714195382639\n",
      "FINISH             54187.5873241702319097\n",
      "TIMEEPH                              FB90\n",
      "T2CMETHOD                        IAU2000B\n",
      "DILATEFREQ                              N\n",
      "DMDATA                                  N\n",
      "NTOA                                   44\n",
      "CHI2                                  0.0\n",
      "RAJ                     17:48:52.80032123 1 0.00013868970124516575\n",
      "DECJ                   -20:21:29.39582206 1 0.03403292479977480106\n",
      "PMRA                                  0.0\n",
      "PMDEC                                 0.0\n",
      "PX                                    0.0\n",
      "POSEPOCH           53750.0000000000000000\n",
      "F0                  61.485476554373615327 1 1.841356378258758307e-11\n",
      "F1              -1.1816723610820746874e-15 1 1.457858539366134596e-18\n",
      "PEPOCH             53750.0000000000000000\n",
      "CORRECT_TROPOSPHERE                         N\n",
      "PLANET_SHAPIRO                          N\n",
      "SOLARN0                               0.0\n",
      "SWM                                   0.0\n",
      "DM                  224.06649960623855271 1 0.08272226644786455363\n",
      "TZRMJD             53801.3860512007484954\n",
      "TZRSITE                                 1\n",
      "TZRFRQ                           1949.609\n",
      "\n"
     ]
    }
   ],
   "source": [
    "print(f.model.as_parfile())"
   ]
  },
  {
   "cell_type": "code",
   "execution_count": null,
   "id": "9fd8f6e1",
   "metadata": {},
   "outputs": [],
   "source": []
  },
  {
   "cell_type": "markdown",
   "id": "693ec056",
   "metadata": {},
   "source": [
    "### Creating a timing model from scratch"
   ]
  },
  {
   "cell_type": "markdown",
   "id": "618f9d41",
   "metadata": {},
   "source": [
    "Since PINT is a pure Python construct, the timing model construction can be broken down in the following steps:\n",
    "\n",
    "1. Create an instance of the TimingModel class.\n",
    "2. Choose and add Components to the TimingModel class.\n",
    "3. Set the values of the Parameters in the Components.\n",
    "4. Setup and validate the TimingModel.\n",
    "5. Fit!\n",
    "6. Collect new data (i.e. TOAs) and go to 2.\n",
    "\n"
   ]
  },
  {
   "cell_type": "code",
   "execution_count": 15,
   "id": "a9bf4cff",
   "metadata": {},
   "outputs": [],
   "source": [
    "import astropy.units as u  # Astropy units is a very useful module.\n",
    "import pint.logging\n",
    "\n",
    "# setup logging\n",
    "pint.logging.setup(level=\"INFO\")\n",
    "from pint.models import (\n",
    "    parameter as p,\n",
    ")  # We would like to add parameters to the model, so we need parameter module.\n",
    "from pint.models.timing_model import (\n",
    "    TimingModel,\n",
    "    Component,\n",
    ")  # Interface for timing model\n",
    "import pint\n",
    "from astropy.time import Time  # PINT uses astropy Time objects to represent times"
   ]
  },
  {
   "cell_type": "code",
   "execution_count": 16,
   "id": "3065acab",
   "metadata": {},
   "outputs": [
    {
     "name": "stdout",
     "output_type": "stream",
     "text": [
      "AbsPhase\n",
      "AstrometryEquatorial\n",
      "AstrometryEcliptic\n",
      "BinaryBT\n",
      "BinaryDD\n",
      "BinaryDDK\n",
      "BinaryELL1\n",
      "BinaryELL1H\n",
      "DispersionDM\n",
      "DispersionDMX\n",
      "DispersionJump\n",
      "FD\n",
      "Glitch\n",
      "PiecewiseSpindown\n",
      "IFunc\n",
      "PhaseJump\n",
      "ScaleToaError\n",
      "ScaleDmError\n",
      "EcorrNoise\n",
      "PLRedNoise\n",
      "SolarSystemShapiro\n",
      "SolarWindDispersion\n",
      "Spindown\n",
      "TroposphereDelay\n",
      "Wave\n"
     ]
    }
   ],
   "source": [
    "# list all the existing components\n",
    "# all_components is a dictionary, with the component name as the key and component class as the value.\n",
    "all_components = Component.component_types\n",
    "# Print the component class names.\n",
    "_ = [print(x) for x in all_components]  # The \"_ =\" just suppresses excess output"
   ]
  },
  {
   "cell_type": "code",
   "execution_count": 17,
   "id": "b2fccb55",
   "metadata": {},
   "outputs": [],
   "source": [
    "selected_components = [\"AbsPhase\", \"AstrometryEquatorial\", \"Spindown\"]\n",
    "component_instances = []\n",
    "\n",
    "# Initiate the component instances\n",
    "for cp_name in selected_components:\n",
    "    component_class = all_components[cp_name]  # Get the component class\n",
    "    component_instance = component_class()  # Instantiate a component object\n",
    "    component_instances.append(component_instance)"
   ]
  },
  {
   "cell_type": "code",
   "execution_count": 18,
   "id": "19c37e1b",
   "metadata": {},
   "outputs": [],
   "source": [
    "# Construct timing model instance, given a name and a list of components to include (that we just created above)\n",
    "tm = TimingModel(\"NGC6400E\", component_instances)"
   ]
  },
  {
   "cell_type": "code",
   "execution_count": 19,
   "id": "6528103d",
   "metadata": {},
   "outputs": [
    {
     "name": "stdout",
     "output_type": "stream",
     "text": [
      "AbsPhase AbsPhase(\n",
      "    MJDParameter(   TZRMJD              UNSET,\n",
      "    strParameter(   TZRSITE             UNSET,\n",
      "    floatParameter( TZRFRQ              UNSET)\n",
      "Spindown Spindown(\n",
      "    floatParameter( F0                  0.0               (Hz) frozen=True),\n",
      "    MJDParameter(   PEPOCH              UNSET)\n",
      "AstrometryEquatorial AstrometryEquatorial(\n",
      "    MJDParameter(   POSEPOCH            UNSET,\n",
      "    floatParameter( PX                  0.0               (mas) frozen=True),\n",
      "    AngleParameter( RAJ                 UNSET,\n",
      "    AngleParameter( DECJ                UNSET,\n",
      "    floatParameter( PMRA                0.0               (mas / yr) frozen=True),\n",
      "    floatParameter( PMDEC               0.0               (mas / yr) frozen=True))\n"
     ]
    }
   ],
   "source": [
    "# print the components in the timing model\n",
    "for (cp_name, cp_instance) in tm.components.items():\n",
    "    print(cp_name, cp_instance)"
   ]
  },
  {
   "cell_type": "code",
   "execution_count": null,
   "id": "54c15dc5",
   "metadata": {},
   "outputs": [],
   "source": []
  },
  {
   "cell_type": "code",
   "execution_count": 20,
   "id": "efd4c810",
   "metadata": {},
   "outputs": [],
   "source": [
    "# We build a dictionary with a key for each parameter we want to set.\n",
    "# The dictionary entries can be either\n",
    "#  {'pulsar name': (parameter value, TEMPO_Fit_flag, uncertainty)} akin to a TEMPO par file form\n",
    "# or\n",
    "# {'pulsar name': (parameter value, )} for parameters that can't be fit\n",
    "# NOTE: The values here are assumed to be in the default units for each parameter\n",
    "# Notice that we assign values with units, and pint defines a special hourangle_second unit that can be use for\n",
    "# right ascensions.  Also, angles can be specified as strings that will be parsed by astropy.\n",
    "params = {\n",
    "    \"PSR\": (\"1748-2021E\",),\n",
    "    \"RAJ\": (\"17:48:52.75\", 1, 0.05 * pint.hourangle_second),\n",
    "    \"DECJ\": (\"-20:21:29.0\", 1, 0.4 * u.arcsec),\n",
    "    \"F0\": (61.585476554 * u.Hz, 1, 5e-10 * u.Hz),\n",
    "    \"PEPOCH\": (Time(53750.000000, format=\"mjd\", scale=\"tdb\"),),\n",
    "    \"POSEPOCH\": (Time(53750.000000, format=\"mjd\", scale=\"tdb\"),),\n",
    "    \"TZRMJD\": (Time(53801.38605120074849, format=\"mjd\", scale=\"tdb\"),),\n",
    "    \"TZRFRQ\": (1949.609 * u.MHz,),\n",
    "    \"TZRSITE\": (1,),\n",
    "}\n",
    "\n",
    "# Assign the parameters\n",
    "for name, info in params.items():\n",
    "    par = getattr(tm, name)  # Get parameter object from name\n",
    "    par.quantity = info[0]  # set parameter value\n",
    "    if len(info) > 1:\n",
    "        if info[1] == 1:\n",
    "            par.frozen = False  # Frozen means not fit.\n",
    "        par.uncertainty = info[2]"
   ]
  },
  {
   "cell_type": "code",
   "execution_count": 21,
   "id": "114dcf7b",
   "metadata": {},
   "outputs": [
    {
     "name": "stdout",
     "output_type": "stream",
     "text": [
      "# Created: 2022-07-11T21:35:17.779955\n",
      "# PINT_version: 0.9.0\n",
      "# User: jovyan\n",
      "# Host: 8c04a9de1003\n",
      "# OS: Linux-4.18.0-348.20.1.el8_5.x86_64-x86_64-with-glibc2.31\n",
      "# Format: pint\n",
      "PSR                            1748-2021E\n",
      "DILATEFREQ                              N\n",
      "DMDATA                                  N\n",
      "NTOA                                    0\n",
      "CHI2                                  0.0\n",
      "RAJ                     17:48:52.75000000 1 0.04999999999999999584\n",
      "DECJ                   -20:21:29.00000000 1 0.40000000000000002220\n",
      "PMRA                                  0.0\n",
      "PMDEC                                 0.0\n",
      "PX                                    0.0\n",
      "POSEPOCH           53750.0000000000000000\n",
      "F0                   61.58547655400000309 1 5.0000000000000003114e-10\n",
      "PEPOCH             53750.0000000000000000\n",
      "TZRMJD             53801.3860512007449870\n",
      "TZRSITE                                 1\n",
      "TZRFRQ                           1949.609\n",
      "\n"
     ]
    }
   ],
   "source": [
    "tm.setup()\n",
    "tm.validate()\n",
    "# You should see all the assigned parameters.\n",
    "# Printing a TimingModel object shows the parfile representation\n",
    "print(tm)"
   ]
  },
  {
   "cell_type": "code",
   "execution_count": null,
   "id": "d9cd6025",
   "metadata": {},
   "outputs": [],
   "source": []
  },
  {
   "cell_type": "code",
   "execution_count": 22,
   "id": "f7b2e4dd",
   "metadata": {},
   "outputs": [],
   "source": [
    "dispersion_class = all_components[\"DispersionDM\"]\n",
    "dispersion = dispersion_class()  # Make the dispersion instance.\n",
    "\n",
    "# Using validate=False here allows a component being added first and validate later.\n",
    "tm.add_component(dispersion, validate=False)"
   ]
  },
  {
   "cell_type": "code",
   "execution_count": 23,
   "id": "816c97c9",
   "metadata": {},
   "outputs": [
    {
     "name": "stdout",
     "output_type": "stream",
     "text": [
      "All components in timing model:\n"
     ]
    },
    {
     "data": {
      "text/plain": [
       "{'AbsPhase': AbsPhase(\n",
       "     MJDParameter(   TZRMJD              53801.3860512007449870 (d) frozen=True),\n",
       "     strParameter(   TZRSITE             1                 frozen=True),\n",
       "     floatParameter( TZRFRQ              1949.609          (MHz) frozen=True)),\n",
       " 'Spindown': Spindown(\n",
       "     floatParameter( F0                  61.58547655400000309 (Hz) +/- 5e-10 Hz frozen=False),\n",
       "     MJDParameter(   PEPOCH              53750.0000000000000000 (d) frozen=True)),\n",
       " 'AstrometryEquatorial': AstrometryEquatorial(\n",
       "     MJDParameter(   POSEPOCH            53750.0000000000000000 (d) frozen=True),\n",
       "     floatParameter( PX                  0.0               (mas) frozen=True),\n",
       "     AngleParameter( RAJ                 17:48:52.75000000 (hourangle) +/- 0h00m00.05s frozen=False),\n",
       "     AngleParameter( DECJ                -20:21:29.00000000 (deg) +/- 0d00m00.4s frozen=False),\n",
       "     floatParameter( PMRA                0.0               (mas / yr) frozen=True),\n",
       "     floatParameter( PMDEC               0.0               (mas / yr) frozen=True)),\n",
       " 'DispersionDM': DispersionDM(\n",
       "     floatParameter( DM                  0.0               (pc / cm3) frozen=True),\n",
       "     floatParameter( DM1                 UNSET,\n",
       "     MJDParameter(   DMEPOCH             UNSET)}"
      ]
     },
     "metadata": {},
     "output_type": "display_data"
    },
    {
     "name": "stdout",
     "output_type": "stream",
     "text": [
      "\n",
      "\n",
      "Delay components in the DelayComponent_list (order matters!):\n"
     ]
    },
    {
     "data": {
      "text/plain": [
       "[AstrometryEquatorial(\n",
       "     MJDParameter(   POSEPOCH            53750.0000000000000000 (d) frozen=True),\n",
       "     floatParameter( PX                  0.0               (mas) frozen=True),\n",
       "     AngleParameter( RAJ                 17:48:52.75000000 (hourangle) +/- 0h00m00.05s frozen=False),\n",
       "     AngleParameter( DECJ                -20:21:29.00000000 (deg) +/- 0d00m00.4s frozen=False),\n",
       "     floatParameter( PMRA                0.0               (mas / yr) frozen=True),\n",
       "     floatParameter( PMDEC               0.0               (mas / yr) frozen=True)),\n",
       " DispersionDM(\n",
       "     floatParameter( DM                  0.0               (pc / cm3) frozen=True),\n",
       "     floatParameter( DM1                 UNSET,\n",
       "     MJDParameter(   DMEPOCH             UNSET)]"
      ]
     },
     "metadata": {},
     "output_type": "display_data"
    }
   ],
   "source": [
    "# print the components out, DispersionDM should be there.\n",
    "print(\"All components in timing model:\")\n",
    "display(tm.components)\n",
    "\n",
    "print(\"\\n\")\n",
    "print(\"Delay components in the DelayComponent_list (order matters!):\")\n",
    "\n",
    "# print the delay component order, dispersion should be after the astrometry\n",
    "display(tm.DelayComponent_list)"
   ]
  },
  {
   "cell_type": "code",
   "execution_count": 24,
   "id": "a56c20a0",
   "metadata": {},
   "outputs": [],
   "source": [
    "tm.DM.quantity = 224 * u.pc / u.cm**3\n",
    "tm.DM.frozen = False  # Frozen means not fit.\n",
    "tm.DM.uncertainty = 0.3 * u.pc / u.cm**3"
   ]
  },
  {
   "cell_type": "code",
   "execution_count": 25,
   "id": "13f71911",
   "metadata": {},
   "outputs": [],
   "source": [
    "tm.validate()"
   ]
  },
  {
   "cell_type": "code",
   "execution_count": null,
   "id": "f3a6489d",
   "metadata": {},
   "outputs": [],
   "source": []
  },
  {
   "cell_type": "markdown",
   "id": "16da5bbe",
   "metadata": {},
   "source": [
    "Adding in prefixParameters"
   ]
  },
  {
   "cell_type": "code",
   "execution_count": 30,
   "id": "315ec0a7",
   "metadata": {},
   "outputs": [],
   "source": [
    "f1 = p.prefixParameter(\n",
    "    parameter_type=\"float\", name=\"F1\", value=0.0, units=u.Hz / (u.s), longdouble=True\n",
    ")\n",
    "\n",
    "#f2 = p.prefixParameter(\n",
    "#    parameter_type=\"float\",\n",
    "#    name=\"F2\",\n",
    "#    value=0.0,\n",
    "#    units=u.Hz / (u.s) ** 2,\n",
    "#    longdouble=True,\n",
    "#)"
   ]
  },
  {
   "cell_type": "code",
   "execution_count": 31,
   "id": "e17d45d3",
   "metadata": {},
   "outputs": [],
   "source": [
    "tm.components[\"Spindown\"].add_param(f1, setup=True)\n",
    "#tm.components[\"Spindown\"].add_param(f2, setup=True)"
   ]
  },
  {
   "cell_type": "code",
   "execution_count": 32,
   "id": "937cf845",
   "metadata": {},
   "outputs": [],
   "source": [
    "tm.validate()"
   ]
  },
  {
   "cell_type": "code",
   "execution_count": 33,
   "id": "5ebe7959",
   "metadata": {},
   "outputs": [],
   "source": [
    "tm.F1.quantity = -1.181e-15 * u.Hz / u.s\n",
    "tm.F1.uncertainty = 1e-18 * u.Hz / u.s\n",
    "tm.F1.frozen = False\n",
    "#tm.F2.quantity = 2e-10 * u.Hz / u.s**2\n",
    "#display(tm.F2)"
   ]
  },
  {
   "cell_type": "code",
   "execution_count": 34,
   "id": "7b56e1ce",
   "metadata": {},
   "outputs": [
    {
     "data": {
      "text/plain": [
       "TimingModel(\n",
       "  AbsPhase(\n",
       "    MJDParameter(   TZRMJD              53801.3860512007449870 (d) frozen=True),\n",
       "    strParameter(   TZRSITE             1                 frozen=True),\n",
       "    floatParameter( TZRFRQ              1949.609          (MHz) frozen=True)),\n",
       "  AstrometryEquatorial(\n",
       "    MJDParameter(   POSEPOCH            53750.0000000000000000 (d) frozen=True),\n",
       "    floatParameter( PX                  0.0               (mas) frozen=True),\n",
       "    AngleParameter( RAJ                 17:48:52.75000000 (hourangle) +/- 0h00m00.05s frozen=False),\n",
       "    AngleParameter( DECJ                -20:21:29.00000000 (deg) +/- 0d00m00.4s frozen=False),\n",
       "    floatParameter( PMRA                0.0               (mas / yr) frozen=True),\n",
       "    floatParameter( PMDEC               0.0               (mas / yr) frozen=True)),\n",
       "  DispersionDM(\n",
       "    floatParameter( DM                  224.0             (pc / cm3) +/- 0.3 pc / cm3 frozen=False),\n",
       "    floatParameter( DM1                 UNSET,\n",
       "    MJDParameter(   DMEPOCH             UNSET),\n",
       "  Spindown(\n",
       "    floatParameter( F0                  61.58547655400000309 (Hz) +/- 5e-10 Hz frozen=False),\n",
       "    MJDParameter(   PEPOCH              53750.0000000000000000 (d) frozen=True),\n",
       "    floatParameter( F1                  -1.181e-15        (Hz / s) +/- 1e-18 Hz / s frozen=False))\n",
       ")"
      ]
     },
     "execution_count": 34,
     "metadata": {},
     "output_type": "execute_result"
    }
   ],
   "source": [
    "tm"
   ]
  },
  {
   "cell_type": "code",
   "execution_count": null,
   "id": "19874b1f",
   "metadata": {},
   "outputs": [],
   "source": []
  },
  {
   "cell_type": "code",
   "execution_count": null,
   "id": "9bf93426",
   "metadata": {},
   "outputs": [],
   "source": []
  }
 ],
 "metadata": {
  "kernelspec": {
   "display_name": "Python 3 (ipykernel)",
   "language": "python",
   "name": "python3"
  },
  "language_info": {
   "codemirror_mode": {
    "name": "ipython",
    "version": 3
   },
   "file_extension": ".py",
   "mimetype": "text/x-python",
   "name": "python",
   "nbconvert_exporter": "python",
   "pygments_lexer": "ipython3",
   "version": "3.9.13"
  }
 },
 "nbformat": 4,
 "nbformat_minor": 5
}
