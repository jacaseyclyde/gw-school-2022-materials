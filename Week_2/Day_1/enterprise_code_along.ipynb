{
 "cells": [
  {
   "cell_type": "code",
   "execution_count": 1,
   "id": "70aee4f3",
   "metadata": {},
   "outputs": [],
   "source": [
    "import os\n",
    "import numpy as np"
   ]
  },
  {
   "cell_type": "markdown",
   "id": "0bb70ec8",
   "metadata": {},
   "source": [
    "You can run terminal commands in a Jupyter notebook by prefacing them with `!`. This will untar the `data/` directory:"
   ]
  },
  {
   "cell_type": "code",
   "execution_count": 2,
   "id": "b8633529",
   "metadata": {},
   "outputs": [],
   "source": [
    "!tar -xzf data.tgz"
   ]
  },
  {
   "cell_type": "markdown",
   "id": "246efda7",
   "metadata": {},
   "source": [
    "# building an `enterprise` model\n",
    "\n",
    "The main purpose of `enterprise` is to generate the PTA **likelihood** function.\n",
    "Then you can use that function to do whatever you want.\n",
    "\n",
    "The multivariat Gaussian likelihood is defined:\n",
    "$$\\mathcal{L} = \\left(2\\pi\\, \\det\\mathbb{C} \\right)^{-1/2} \\,\\, \\exp\\left( -\\frac{1}{2} \\vec{q}\\cdot \\mathbb{C}^{-1} \\cdot \\vec{q} \\right)$$\n",
    "where $\\mathbb{C}$ is the covariance matrix and $\\vec{q}$ is the residual vector.\n",
    "\n",
    "In the PTA case, we construct $\\mathbb{C}$ from white noise covariance $\\mathbb{N}$, the design matrix of for the Gaussian process (GP) models $\\mathbb{T}$, and the prior for the GP coefficients $\\mathbb{B}$.\n",
    "The residual vector contains the TOA residuals, $\\delta\\vec{t}$, and any deterministic signals in the model, $\\vec{s}$, (e.g. a continuous GW from a single SMBHB).\n",
    "\n",
    "$$ \\mathbb{C} = \\mathbb{N} + \\mathbb{TBT}^T $$\n",
    "$$ \\vec{q} = \\delta\\vec{t} - \\vec{s} $$\n",
    "\n",
    "\n",
    "\n",
    "While the likelihood is always a multivariate Gaussian likelihood, the details will depend on the particulars of the  model.\n",
    "`enterprise` is set up so that you specify the **data**, **model**, and **model parameters**, then it constructs the covariance matrix and residual vector needed to calculate the likelihood for a given set of parameters.  The `enterprise` parameter specification is based on the **prior** for each parameter.\n",
    "\n",
    "The `enterprise.signals.signal_base.PTA` object has two commonly used methods:\n",
    "* `PTA.get_lnlikelihood()`\n",
    "* `PTA.get_lnprior()`\n",
    "\n",
    "each takes a parameter vector (list or dict of parameter values) as an input.\n",
    "These two methods are commonly passed to a **Markov chain Monte Carlo** (MCMC) sampler in order to draw samples from the model posterior probability distribution.\n",
    "\n",
    "The `enterprise.signals` module contains nearly everything we need to construct the data model and get our likelihood and prior functions."
   ]
  },
  {
   "cell_type": "markdown",
   "id": "960a3131",
   "metadata": {},
   "source": [
    "## load data\n",
    "\n",
    "The `data/` directory contains `.par` and `.tim` files for three pulsars, one from each recent PTA dataset:\n",
    "* J1600-3053 from EPTA 6 pulsar\n",
    "* J2241-5236 from PPTA DR2\n",
    "* J2317+1439 from NANOGrav 12.5 yr\n",
    "\n",
    "Each PTA uses a slightly different data model, so these three will give us an introductory walkthrough of what we can do with `enterprise`.\n",
    "\n",
    "To keep things organized here's a dictionary of the filenames for each pulsar:"
   ]
  },
  {
   "cell_type": "code",
   "execution_count": 3,
   "id": "c81980e9",
   "metadata": {},
   "outputs": [],
   "source": [
    "datafiles = {\n",
    "    \"J1600-3053\":{\"par\":\"J1600-3053_EPTA_6psr.par\", \"tim\":\"J1600-3053_EPTA_6psr.tim\"},\n",
    "    \"J2241-5236\":{\"par\":\"J2241-5236_PPTA_dr2.par\", \"tim\":\"J2241-5236_PPTA_dr2.tim\"},\n",
    "    \"J2317+1439\":{\"par\":\"J2317+1439_NANOGrav_12y.par\", \"tim\":\"J2317+1439_NANOGrav_12y.tim\"},\n",
    "}"
   ]
  },
  {
   "cell_type": "markdown",
   "id": "6d86f89d",
   "metadata": {},
   "source": [
    "Let's load the data for J2317+1439 as an `enterprise.pulsar.Pulsar` object and construct its model"
   ]
  },
  {
   "cell_type": "code",
   "execution_count": 4,
   "id": "c592b52e",
   "metadata": {},
   "outputs": [
    {
     "name": "stderr",
     "output_type": "stream",
     "text": [
      "WARNING: AstropyDeprecationWarning: The private astropy._erfa module has been made into its own package, pyerfa, which is a dependency of astropy and can be imported directly using \"import erfa\" [astropy._erfa]\n"
     ]
    }
   ],
   "source": [
    "from enterprise.pulsar import Pulsar"
   ]
  },
  {
   "cell_type": "code",
   "execution_count": 5,
   "id": "883b3d39",
   "metadata": {},
   "outputs": [],
   "source": [
    "datadir = os.path.abspath(\"data\")"
   ]
  },
  {
   "cell_type": "code",
   "execution_count": 6,
   "id": "c8a3c01f",
   "metadata": {},
   "outputs": [
    {
     "name": "stdout",
     "output_type": "stream",
     "text": [
      "[tempo2Util.C:396] Warning: [MISC1] Unknown parameter in par file:  DMX\n",
      "[tempo2Util.C:401] Warning: [DUP1] duplicated warnings have been suppressed.\n",
      "\n",
      "WARNING: Using tempo RNAMP parameter: setting TNRedC to 100!\n",
      "[tempo2Util.C:396] Warning: [PAR2] Have not set a DM epoch. The period epoch will be used instead. J2317+1439_NANOGrav_12y.par\n",
      "[tempo2Util.C:396] Warning: [TIM1] Please place MODE flags in the parameter file \n",
      "[observatory.C:271] Warning: Assuming site '3' means 'ao'\n"
     ]
    }
   ],
   "source": [
    "pfile = os.path.join(datadir, datafiles['J2317+1439']['par'])\n",
    "tfile = os.path.join(datadir, datafiles['J2317+1439']['tim'])\n",
    "\n",
    "psr = Pulsar(pfile, tfile)"
   ]
  },
  {
   "cell_type": "markdown",
   "id": "75f0334b",
   "metadata": {},
   "source": [
    "(the warnings are generated by `tempo2` and are nothing to worry about...)"
   ]
  },
  {
   "cell_type": "code",
   "execution_count": 7,
   "id": "d8a0bf8f-c758-4ec7-a673-287306a13951",
   "metadata": {},
   "outputs": [
    {
     "data": {
      "text/plain": [
       "array([53355.88885866, 53355.88885878, 53355.88885886, ...,\n",
       "       57933.4178968 , 57933.41789684, 57933.41789688])"
      ]
     },
     "execution_count": 7,
     "metadata": {},
     "output_type": "execute_result"
    }
   ],
   "source": [
    "psr.toas / 24 / 3600"
   ]
  },
  {
   "cell_type": "code",
   "execution_count": 8,
   "id": "27c07cba-ef52-41dc-9524-3164def94cee",
   "metadata": {},
   "outputs": [
    {
     "data": {
      "text/plain": [
       "array([1.107e-06, 3.720e-07, 7.950e-07, ..., 1.018e-06, 7.290e-07,\n",
       "       5.200e-07])"
      ]
     },
     "execution_count": 8,
     "metadata": {},
     "output_type": "execute_result"
    }
   ],
   "source": [
    "psr.toaerrs"
   ]
  },
  {
   "cell_type": "code",
   "execution_count": 9,
   "id": "f11b65a7-e7e4-45ed-bfde-ed1a4dcb3617",
   "metadata": {},
   "outputs": [
    {
     "data": {
      "text/plain": [
       "array([ 2.05402358e-05,  1.98079570e-05,  2.19405660e-05, ...,\n",
       "       -7.09092625e-06, -5.62472991e-06, -5.84097656e-06])"
      ]
     },
     "execution_count": 9,
     "metadata": {},
     "output_type": "execute_result"
    }
   ],
   "source": [
    "psr.residuals"
   ]
  },
  {
   "cell_type": "code",
   "execution_count": 10,
   "id": "54398fc9-68c1-48b0-8207-e755e7114f13",
   "metadata": {},
   "outputs": [
    {
     "data": {
      "text/plain": [
       "{'fe': array(['430', '430', '430', ..., '430', '430', '430'], dtype='<U32'),\n",
       " 'be': array(['ASP', 'ASP', 'ASP', ..., 'PUPPI', 'PUPPI', 'PUPPI'], dtype='<U32'),\n",
       " 'f': array(['430_ASP', '430_ASP', '430_ASP', ..., '430_PUPPI', '430_PUPPI',\n",
       "        '430_PUPPI'], dtype='<U32'),\n",
       " 'bw': array(['4', '4', '4', ..., '1.562', '1.562', '1.562'], dtype='<U32'),\n",
       " 'tobs': array(['902.19', '902.19', '902.19', ..., '1200.2', '1200.2', '1200.2'],\n",
       "       dtype='<U32'),\n",
       " 'tmplt': array(['J2317+1439.430.PUPPI.9y.x.sum.sm',\n",
       "        'J2317+1439.430.PUPPI.9y.x.sum.sm',\n",
       "        'J2317+1439.430.PUPPI.9y.x.sum.sm', ...,\n",
       "        'J2317+1439.430.PUPPI.9y.x.sum.sm',\n",
       "        'J2317+1439.430.PUPPI.9y.x.sum.sm',\n",
       "        'J2317+1439.430.PUPPI.9y.x.sum.sm'], dtype='<U32'),\n",
       " 'gof': array(['1.07', '1.04', '1.14', ..., '1.14', '1.03', '1.54'], dtype='<U32'),\n",
       " 'nbin': array(['2048', '2048', '2048', ..., '2048', '2048', '2048'], dtype='<U32'),\n",
       " 'nch': array(['1', '1', '1', ..., '1', '1', '1'], dtype='<U32'),\n",
       " 'chan': array(['1', '2', '3', ..., '39', '40', '41'], dtype='<U32'),\n",
       " 'subint': array(['0', '0', '0', ..., '0', '0', '0'], dtype='<U32'),\n",
       " 'snr': array(['85.871', '227.04', '103.79', ..., '80.686', '121', '164.31'],\n",
       "       dtype='<U32'),\n",
       " 'wt': array(['15', '15', '15', ..., '0.83885', '0.80945', '0.61723'],\n",
       "       dtype='<U32'),\n",
       " 'proc': array(['9y', '9y', '9y', ..., '12y', '12y', '12y'], dtype='<U32'),\n",
       " 'pta': array(['NANOGrav', 'NANOGrav', 'NANOGrav', ..., 'NANOGrav', 'NANOGrav',\n",
       "        'NANOGrav'], dtype='<U32'),\n",
       " 'to': array(['-0.789e-6', '-0.789e-6', '-0.789e-6', ..., '', '', ''],\n",
       "       dtype='<U32'),\n",
       " 'flux': array(['', '', '', ..., '4.53866', '6.91117', '14.0564'], dtype='<U32'),\n",
       " 'fluxe': array(['', '', '', ..., '0.056', '0.057', '0.086'], dtype='<U32'),\n",
       " 'ver': array(['', '', '', ..., '20180829', '20180829', '20180829'], dtype='<U32'),\n",
       " 'simul': array(['', '', '', ..., '', '', ''], dtype='<U32'),\n",
       " 'img': array(['', '', '', ..., '', '', ''], dtype='<U32')}"
      ]
     },
     "execution_count": 10,
     "metadata": {},
     "output_type": "execute_result"
    }
   ],
   "source": [
    "psr.flags"
   ]
  },
  {
   "cell_type": "markdown",
   "id": "62d852aa",
   "metadata": {},
   "source": [
    "## white noise model\n",
    "\n",
    "The basic PTA white noise model contains **EFAC** and **EQUAD**.\n",
    "EQUAD, $\\mathcal{Q}$ is an additional error term added in quadrature to the timing uncertainty for each TOA, $\\sigma$.\n",
    "EFAC, $\\mathcal{F}$, is an overall scale factor that multiplies the timing uncertainty for each TOA.\n",
    "Both account for excess white noise that is not captured by the timing uncertainty.\n",
    "In a perfect world if we understand the noise in our telescopes, EFAC would be $1$.\n",
    "In practice it is often pretty close to $1$.\n",
    "\n",
    "The basic white noise covariance matrix $\\mathbb{N}$ is diagonal\n",
    "$$\\mathbb{N}_{ii} = \\mathcal{F}^2\\left({\\sigma_i}^2 + \\mathcal{Q}^2\\right) $$\n",
    "\n",
    "(note: this definition of WN uses the \"tempo2 convention\")\n",
    "\n",
    "In practice each observing system may have different noise properties.\n",
    "We define $\\mathcal{F}_k$ and $\\mathcal{Q}_k$, where $k$ denotes the observing system (e.g. L-band PUPPI or PDFB 20cm), so each system gets its own noise model.\n",
    "This is referred to as **white noise per backend**.\n",
    "\n",
    "* `white_signals.MeasurementNoise` implements this base white noise model\n",
    "* `selelections.Selection` implements the backend (or any other) selection scheme\n",
    "* the `parameter` module contains what we'll need to specify the parameter priors"
   ]
  },
  {
   "cell_type": "code",
   "execution_count": 11,
   "id": "2b5a492d",
   "metadata": {},
   "outputs": [],
   "source": [
    "from enterprise.signals import white_signals\n",
    "from enterprise.signals import selections\n",
    "from enterprise.signals import parameter"
   ]
  },
  {
   "cell_type": "markdown",
   "id": "3ecf801b",
   "metadata": {},
   "source": [
    "### Construct a white noise \"signal\" with EFAC and EQUAD per backend\n",
    "the priors are:\n",
    "* EFAC $\\rightarrow$ Uniform(0.1, 10)\n",
    "* EQUAD $\\rightarrow$ LogUniform($10^{-8.5}, 10^{-5}$) sec\n",
    "  * $\\log_{10}$(EQUAD) $\\rightarrow$ Uniform(-8.5, -5)"
   ]
  },
  {
   "cell_type": "code",
   "execution_count": 12,
   "id": "2ca316c3",
   "metadata": {},
   "outputs": [],
   "source": [
    "# define model parameters\n",
    "efac = parameter.Uniform(0.1, 10)\n",
    "equad = parameter.Uniform(-8.5, -5)"
   ]
  },
  {
   "cell_type": "code",
   "execution_count": 13,
   "id": "104f34d8",
   "metadata": {},
   "outputs": [],
   "source": [
    "# use built in backend selection\n",
    "backend = selections.Selection(selections.by_backend)"
   ]
  },
  {
   "cell_type": "code",
   "execution_count": 14,
   "id": "f0bde891",
   "metadata": {},
   "outputs": [],
   "source": [
    "# make white noise \"signal\"\n",
    "wn = white_signals.MeasurementNoise(efac=efac, log10_t2equad=equad, selection=backend)"
   ]
  },
  {
   "cell_type": "markdown",
   "id": "778470c6",
   "metadata": {},
   "source": [
    "The NANOGrav 12.5yr dataset used **channelized TOAs**, breaking a single observation into many TOAs for each radio frequency channel.  To account for jitter noise, which is highly correlated in all TOAs from the same observation, we use the ECORR model.\n",
    "\n",
    "This makes the whitenoise covariance matrix, $\\mathbb{N}$, block diagonal, where each block groups all of the TOAs from the same observation.\n",
    "\n",
    "### Construct a per backend ECORR \"signal\"\n",
    "prior:\n",
    "* ECORR $\\rightarrow$ LogUniform($10^{-8.5}, 10^{-5}$) sec\n",
    " * $\\log_{10}$(ECORR) $\\rightarrow$ Uniform(-8.5, -5)\n",
    "\n",
    "When additional signals are added to a model in `enterprise` they are literally **added** to make the joint model:\n",
    "```python\n",
    "model = modA + modB\n",
    "```"
   ]
  },
  {
   "cell_type": "code",
   "execution_count": 15,
   "id": "98867f97",
   "metadata": {},
   "outputs": [],
   "source": [
    "# define model parameters\n",
    "ecorr = parameter.Uniform(-8.5, -5)"
   ]
  },
  {
   "cell_type": "code",
   "execution_count": 16,
   "id": "cbfe959a",
   "metadata": {},
   "outputs": [],
   "source": [
    "# make ecorr \"signal\" and add it to the existing WN signal\n",
    "wn += white_signals.EcorrKernelNoise(log10_ecorr=ecorr, selection=backend)"
   ]
  },
  {
   "cell_type": "markdown",
   "id": "c6e0726b",
   "metadata": {},
   "source": [
    "## Gaussian process models\n",
    "\n",
    "Gaussian process models are defined by a design matrix $\\mathbb{T}$, a vector of basis coefficients $\\vec{b}$, and a prior on the coefficients, $\\mathbb{B}$.  For instance in the powerlaw red noise model the basis coefficients are the amplitude of various Fourier modes and the prior is the powerlaw which constrains these amplitudes to the right spectral shape.\n",
    "\n",
    "The PTA likelihood **marginalizes** over the coefficients.\n",
    "Only the GP prior affects the likelihood calculation."
   ]
  },
  {
   "cell_type": "code",
   "execution_count": 17,
   "id": "d6cd89d7",
   "metadata": {},
   "outputs": [],
   "source": [
    "from enterprise.signals import gp_signals\n",
    "from enterprise.signals import gp_priors"
   ]
  },
  {
   "cell_type": "markdown",
   "id": "0bcbdd0d",
   "metadata": {},
   "source": [
    "### Construct a Fourier basis GP model for red noise and GWB\n",
    "Both signals will use the `gp_signals.FourierBasisGP` class, in order to differentiate them we will pass the GWB signal a name.\n",
    "\n",
    "prior:\n",
    "* $\\log_{10}(A_\\mathrm{RN}) \\rightarrow$ Uniform(-20, -11)\n",
    "* $\\gamma_\\mathrm{RN} \\rightarrow$ Uniform(0, 7)\n",
    "\n",
    "\n",
    "* $\\log_{10}(A_\\mathrm{GWB}) \\rightarrow$ Uniform(-18, -13)\n",
    "* $\\gamma_\\mathrm{GWB} = 13/3$, constant (for SMBHB background)\n",
    "\n",
    "We can also pass a name to `Parameter` classes, which tells them not to generate a common parameter for all pulsars, rather than a new one for each.  This is important for GWB parameters."
   ]
  },
  {
   "cell_type": "code",
   "execution_count": 18,
   "id": "a99b9b75",
   "metadata": {},
   "outputs": [],
   "source": [
    "# define RN model parameters\n",
    "rn_logA = parameter.Uniform(-20, -11)\n",
    "rn_gam = parameter.Uniform(0, 7)"
   ]
  },
  {
   "cell_type": "code",
   "execution_count": 19,
   "id": "1dad7048",
   "metadata": {},
   "outputs": [],
   "source": [
    "# define powerlaw for GP prior\n",
    "powlaw = gp_priors.powerlaw(log10_A=rn_logA, gamma=rn_gam)"
   ]
  },
  {
   "cell_type": "code",
   "execution_count": 20,
   "id": "dce21e74",
   "metadata": {},
   "outputs": [],
   "source": [
    "# make RN signal\n",
    "rn = gp_signals.FourierBasisGP(\n",
    "    powlaw,\n",
    "    components=30,\n",
    ")"
   ]
  },
  {
   "cell_type": "code",
   "execution_count": 21,
   "id": "e632a27a",
   "metadata": {},
   "outputs": [],
   "source": [
    "# define GWB model parameters (don't forget to pass each a name)\n",
    "gw_logA = parameter.Uniform(-18, -13)(\"gw_log10A\")\n",
    "gw_gam = parameter.Constant(13/3)(\"gw_gamma\")"
   ]
  },
  {
   "cell_type": "code",
   "execution_count": 22,
   "id": "57e39b31",
   "metadata": {},
   "outputs": [],
   "source": [
    "# define powerlaw for GP prior using GWB parameters\n",
    "powlaw_gw = gp_priors.powerlaw(log10_A=gw_logA, gamma=gw_gam)"
   ]
  },
  {
   "cell_type": "code",
   "execution_count": 23,
   "id": "78eb9534",
   "metadata": {},
   "outputs": [],
   "source": [
    "# make GWB signal (don't forget to name it)\n",
    "gw = gp_signals.FourierBasisGP(\n",
    "    powlaw_gw,\n",
    "    components=30,\n",
    "    name=\"gw\",\n",
    ")"
   ]
  },
  {
   "cell_type": "code",
   "execution_count": 24,
   "id": "1c5d73ed-0555-4e24-bddb-3853133e5b7d",
   "metadata": {},
   "outputs": [
    {
     "data": {
      "text/plain": [
       "gw_gamma:Constant=4.333333333333333"
      ]
     },
     "execution_count": 24,
     "metadata": {},
     "output_type": "execute_result"
    }
   ],
   "source": [
    "gw_gam"
   ]
  },
  {
   "cell_type": "markdown",
   "id": "c3382253",
   "metadata": {},
   "source": [
    "### instantiate a built in gp signal object for the timing model\n",
    "There are two implementations of the linear timing model:\n",
    "\n",
    "* `gp_signals.TimingModel`\n",
    "* `gp_signals.MarginalizingTimingModel`\n",
    "\n",
    "Each can take an option to use an SVD, which helps stablize the matrix when the timing model is poorly constrained."
   ]
  },
  {
   "cell_type": "code",
   "execution_count": 25,
   "id": "73d9ed44",
   "metadata": {},
   "outputs": [],
   "source": [
    "# make the linear timing model signal\n",
    "tm = gp_signals.TimingModel(use_svd=True)"
   ]
  },
  {
   "cell_type": "markdown",
   "id": "a918fcba",
   "metadata": {},
   "source": [
    "## instantiate a `PTA` and compute the log-likelihood\n",
    "\n",
    "Remember a model is the literal sum of its parts.\n",
    "When we add `Signal` objects together we get a `SignalCollection` object.\n",
    "\n",
    "The `enterprise` `SignalCollection` is a class factory.\n",
    "It acts like a function that takes a `Pulsar` object as its input in order to apply that model to that pulsar\n",
    "and returns an instantiated class instance.\n",
    "\n",
    "The `signal_base.PTA` object can take either a single, instantiated pulsar model or a list of several pulsar models.\n",
    "To do a single pulsar noiserun we will use just this one pulsar."
   ]
  },
  {
   "cell_type": "code",
   "execution_count": 26,
   "id": "21fa7156",
   "metadata": {},
   "outputs": [],
   "source": [
    "from enterprise.signals import signal_base"
   ]
  },
  {
   "cell_type": "code",
   "execution_count": 27,
   "id": "c9a45afa",
   "metadata": {},
   "outputs": [],
   "source": [
    "# add together the signals\n",
    "sig = tm + wn + rn + gw"
   ]
  },
  {
   "cell_type": "code",
   "execution_count": 28,
   "id": "fdc04509",
   "metadata": {},
   "outputs": [],
   "source": [
    "# make a PTA object\n",
    "pta = signal_base.PTA(sig(psr))"
   ]
  },
  {
   "cell_type": "markdown",
   "id": "eda82ce2",
   "metadata": {},
   "source": [
    "## generate a random point in the model domain and calculate the likelihood and prior.\n",
    "\n",
    "Each `enterprise` parameter object comes with its own `.sample` method, which draws a random sample from the prior distribution.\n",
    "We can generate a point in the domain by sampling each parameter in turn.\n",
    "\n",
    "`PTA.get_lnlikelihood` and `PTA.get_lnprior` can take an array-like input for the parameter vector or a dictionary.  Lets make a dictionary, whose keys are the parameter names and values are the random samples."
   ]
  },
  {
   "cell_type": "code",
   "execution_count": 29,
   "id": "fff9d2d8",
   "metadata": {},
   "outputs": [],
   "source": [
    "# make a parameter vector as a dictionary\n",
    "p0 = {pp.name:pp.sample() for pp in pta.params}"
   ]
  },
  {
   "cell_type": "code",
   "execution_count": 30,
   "id": "be3ac542",
   "metadata": {},
   "outputs": [
    {
     "data": {
      "text/plain": [
       "(KernelMatrix(104292.9146352), -29.742876109482033)"
      ]
     },
     "execution_count": 30,
     "metadata": {},
     "output_type": "execute_result"
    }
   ],
   "source": [
    "# calculate logL and logPr\n",
    "pta.get_lnlikelihood(p0), pta.get_lnprior(p0)"
   ]
  },
  {
   "cell_type": "markdown",
   "id": "e1a43dfe",
   "metadata": {},
   "source": [
    "The `PTA` object contains all of the other objects that went into making it, including `Parameter`s and `Signal`s.\n",
    "\n",
    "Let's look at what's in there...\n",
    "\n",
    "### take a look at the output of each:\n",
    "* `PTA.signals`\n",
    "* `PTA.params`\n",
    "* `PTA.param_names`\n",
    "* `PTA.pulsars`\n",
    "* `PTA.pulsarmodels`"
   ]
  },
  {
   "cell_type": "code",
   "execution_count": 31,
   "id": "5beaad8a",
   "metadata": {},
   "outputs": [
    {
     "data": {
      "text/plain": [
       "{'J2317+1439_linear_timing_model_svd': <Enterprise Signal object linear_timing_model_svd[]>,\n",
       " 'J2317+1439_measurement_noise': <Enterprise Signal object measurement_noise[J2317+1439_327_ASP_efac, J2317+1439_327_ASP_log10_t2equad, J2317+1439_327_PUPPI_efac, J2317+1439_327_PUPPI_log10_t2equad, J2317+1439_430_ASP_efac, J2317+1439_430_ASP_log10_t2equad, J2317+1439_430_PUPPI_efac, J2317+1439_430_PUPPI_log10_t2equad, J2317+1439_L-wide_PUPPI_efac, J2317+1439_L-wide_PUPPI_log10_t2equad]>,\n",
       " 'J2317+1439_ecorr_sherman-morrison': <Enterprise Signal object ecorr_sherman-morrison[J2317+1439_327_ASP_log10_ecorr, J2317+1439_327_PUPPI_log10_ecorr, J2317+1439_430_ASP_log10_ecorr, J2317+1439_430_PUPPI_log10_ecorr, J2317+1439_L-wide_PUPPI_log10_ecorr]>,\n",
       " 'J2317+1439_red_noise': <Enterprise Signal object red_noise[J2317+1439_red_noise_log10_A, J2317+1439_red_noise_gamma]>,\n",
       " 'J2317+1439_gw': <Enterprise Signal object gw[gw_log10A]>}"
      ]
     },
     "execution_count": 31,
     "metadata": {},
     "output_type": "execute_result"
    }
   ],
   "source": [
    "pta.signals"
   ]
  },
  {
   "cell_type": "code",
   "execution_count": 32,
   "id": "726f1ffb",
   "metadata": {},
   "outputs": [
    {
     "data": {
      "text/plain": [
       "[J2317+1439_327_ASP_efac:Uniform(pmin=0.1, pmax=10),\n",
       " J2317+1439_327_ASP_log10_ecorr:Uniform(pmin=-8.5, pmax=-5),\n",
       " J2317+1439_327_ASP_log10_t2equad:Uniform(pmin=-8.5, pmax=-5),\n",
       " J2317+1439_327_PUPPI_efac:Uniform(pmin=0.1, pmax=10),\n",
       " J2317+1439_327_PUPPI_log10_ecorr:Uniform(pmin=-8.5, pmax=-5),\n",
       " J2317+1439_327_PUPPI_log10_t2equad:Uniform(pmin=-8.5, pmax=-5),\n",
       " J2317+1439_430_ASP_efac:Uniform(pmin=0.1, pmax=10),\n",
       " J2317+1439_430_ASP_log10_ecorr:Uniform(pmin=-8.5, pmax=-5),\n",
       " J2317+1439_430_ASP_log10_t2equad:Uniform(pmin=-8.5, pmax=-5),\n",
       " J2317+1439_430_PUPPI_efac:Uniform(pmin=0.1, pmax=10),\n",
       " J2317+1439_430_PUPPI_log10_ecorr:Uniform(pmin=-8.5, pmax=-5),\n",
       " J2317+1439_430_PUPPI_log10_t2equad:Uniform(pmin=-8.5, pmax=-5),\n",
       " J2317+1439_L-wide_PUPPI_efac:Uniform(pmin=0.1, pmax=10),\n",
       " J2317+1439_L-wide_PUPPI_log10_ecorr:Uniform(pmin=-8.5, pmax=-5),\n",
       " J2317+1439_L-wide_PUPPI_log10_t2equad:Uniform(pmin=-8.5, pmax=-5),\n",
       " J2317+1439_red_noise_gamma:Uniform(pmin=0, pmax=7),\n",
       " J2317+1439_red_noise_log10_A:Uniform(pmin=-20, pmax=-11),\n",
       " gw_log10A:Uniform(pmin=-18, pmax=-13)]"
      ]
     },
     "execution_count": 32,
     "metadata": {},
     "output_type": "execute_result"
    }
   ],
   "source": [
    "pta.params"
   ]
  },
  {
   "cell_type": "code",
   "execution_count": 33,
   "id": "02bd0186",
   "metadata": {},
   "outputs": [
    {
     "data": {
      "text/plain": [
       "['J2317+1439_327_ASP_efac',\n",
       " 'J2317+1439_327_ASP_log10_ecorr',\n",
       " 'J2317+1439_327_ASP_log10_t2equad',\n",
       " 'J2317+1439_327_PUPPI_efac',\n",
       " 'J2317+1439_327_PUPPI_log10_ecorr',\n",
       " 'J2317+1439_327_PUPPI_log10_t2equad',\n",
       " 'J2317+1439_430_ASP_efac',\n",
       " 'J2317+1439_430_ASP_log10_ecorr',\n",
       " 'J2317+1439_430_ASP_log10_t2equad',\n",
       " 'J2317+1439_430_PUPPI_efac',\n",
       " 'J2317+1439_430_PUPPI_log10_ecorr',\n",
       " 'J2317+1439_430_PUPPI_log10_t2equad',\n",
       " 'J2317+1439_L-wide_PUPPI_efac',\n",
       " 'J2317+1439_L-wide_PUPPI_log10_ecorr',\n",
       " 'J2317+1439_L-wide_PUPPI_log10_t2equad',\n",
       " 'J2317+1439_red_noise_gamma',\n",
       " 'J2317+1439_red_noise_log10_A',\n",
       " 'gw_log10A']"
      ]
     },
     "execution_count": 33,
     "metadata": {},
     "output_type": "execute_result"
    }
   ],
   "source": [
    "pta.param_names"
   ]
  },
  {
   "cell_type": "code",
   "execution_count": 34,
   "id": "f2dd81ce",
   "metadata": {},
   "outputs": [
    {
     "data": {
      "text/plain": [
       "['J2317+1439']"
      ]
     },
     "execution_count": 34,
     "metadata": {},
     "output_type": "execute_result"
    }
   ],
   "source": [
    "pta.pulsars"
   ]
  },
  {
   "cell_type": "code",
   "execution_count": 35,
   "id": "1002f98a",
   "metadata": {},
   "outputs": [
    {
     "data": {
      "text/plain": [
       "[<Enterprise SignalCollection object J2317+1439: linear_timing_model_svd, measurement_noise, ecorr_sherman-morrison, red_noise, gw>]"
      ]
     },
     "execution_count": 35,
     "metadata": {},
     "output_type": "execute_result"
    }
   ],
   "source": [
    "pta.pulsarmodels"
   ]
  },
  {
   "cell_type": "markdown",
   "id": "e6e8c244",
   "metadata": {},
   "source": [
    "The `PTA.summary` method outputs some information about the `PTA` object.\n",
    "It's useful to print it or save it to file to keep track of things.\n",
    "\n",
    "### print the output of `PTA.summary`"
   ]
  },
  {
   "cell_type": "code",
   "execution_count": 36,
   "id": "c0645d5b",
   "metadata": {},
   "outputs": [
    {
     "name": "stdout",
     "output_type": "stream",
     "text": [
      "enterprise v3.3.1,  Python v3.9.13\n",
      "==========================================================================================\n",
      "\n",
      "Signal Name                              Signal Class                   no. Parameters      \n",
      "==========================================================================================\n",
      "J2317+1439_linear_timing_model_svd       TimingModel                    0                   \n",
      "\n",
      "params:\n",
      "__________________________________________________________________________________________\n",
      "J2317+1439_measurement_noise             MeasurementNoise               10                  \n",
      "\n",
      "params:\n",
      "J2317+1439_327_ASP_efac:Uniform(pmin=0.1, pmax=10)                                        \n",
      "J2317+1439_327_ASP_log10_t2equad:Uniform(pmin=-8.5, pmax=-5)                              \n",
      "J2317+1439_327_PUPPI_efac:Uniform(pmin=0.1, pmax=10)                                      \n",
      "J2317+1439_327_PUPPI_log10_t2equad:Uniform(pmin=-8.5, pmax=-5)                            \n",
      "J2317+1439_430_ASP_efac:Uniform(pmin=0.1, pmax=10)                                        \n",
      "J2317+1439_430_ASP_log10_t2equad:Uniform(pmin=-8.5, pmax=-5)                              \n",
      "J2317+1439_430_PUPPI_efac:Uniform(pmin=0.1, pmax=10)                                      \n",
      "J2317+1439_430_PUPPI_log10_t2equad:Uniform(pmin=-8.5, pmax=-5)                            \n",
      "J2317+1439_L-wide_PUPPI_efac:Uniform(pmin=0.1, pmax=10)                                   \n",
      "J2317+1439_L-wide_PUPPI_log10_t2equad:Uniform(pmin=-8.5, pmax=-5)                         \n",
      "__________________________________________________________________________________________\n",
      "J2317+1439_ecorr_sherman-morrison        EcorrKernelNoise               5                   \n",
      "\n",
      "params:\n",
      "J2317+1439_327_ASP_log10_ecorr:Uniform(pmin=-8.5, pmax=-5)                                \n",
      "J2317+1439_327_PUPPI_log10_ecorr:Uniform(pmin=-8.5, pmax=-5)                              \n",
      "J2317+1439_430_ASP_log10_ecorr:Uniform(pmin=-8.5, pmax=-5)                                \n",
      "J2317+1439_430_PUPPI_log10_ecorr:Uniform(pmin=-8.5, pmax=-5)                              \n",
      "J2317+1439_L-wide_PUPPI_log10_ecorr:Uniform(pmin=-8.5, pmax=-5)                           \n",
      "__________________________________________________________________________________________\n",
      "J2317+1439_red_noise                     FourierBasisGP                 2                   \n",
      "\n",
      "params:\n",
      "J2317+1439_red_noise_log10_A:Uniform(pmin=-20, pmax=-11)                                  \n",
      "J2317+1439_red_noise_gamma:Uniform(pmin=0, pmax=7)                                        \n",
      "__________________________________________________________________________________________\n",
      "J2317+1439_gw                            FourierBasisGP                 1                   \n",
      "\n",
      "params:\n",
      "gw_log10A:Uniform(pmin=-18, pmax=-13)                                                     \n",
      "gw_gamma:Constant=4.333333333333333                                                       \n",
      "__________________________________________________________________________________________\n",
      "==========================================================================================\n",
      "Total params: 19\n",
      "Varying params: 18\n",
      "Common params: 1\n",
      "Fixed params: 1\n",
      "Number of pulsars: 1\n",
      "\n"
     ]
    }
   ],
   "source": [
    "print(pta.summary())"
   ]
  },
  {
   "cell_type": "markdown",
   "id": "dfe31872",
   "metadata": {},
   "source": [
    "## What's goes into the likelihood?\n",
    "\n",
    "The full covariance matrix $\\mathbb{C}$ is $N_\\mathrm{TOA}\\times N_\\mathrm{TOA}$, which is a nightmare to directly invert.\n",
    "There's a lot of fancy linear algebraic manipulations that build $\\mathbb{C}^{-1}$ out of more manageable parts."
   ]
  },
  {
   "cell_type": "markdown",
   "id": "994b6639",
   "metadata": {},
   "source": [
    "### T-matrix\n",
    "\n",
    "The $\\mathbb{T}$ matrix is $N_\\mathrm{TOA} \\times N_\\mathrm{coef}$, where $N_\\mathrm{coef}$ is the total number of GP coefficients in all GP models.  The $\\mathbb{T}$ matrix is the *design matrix* for the **GP basis**.  We can access it with the `PTA.get_basis` method.\n",
    "\n",
    "The GW and RN models share common Fourier basis with $60$ coefficients ($30$ sine amplitudes & $30$ cosine).\n",
    "\n",
    "J2317 has $230$ timing model parameters!\n",
    "There are $19$ \"traditional\" timing model parameters:\n",
    "* spin: $(2)$: F0, F1\n",
    "* astrometric $(5)$: ELONG, ELAT, PMELONG, PMELAT, PX\n",
    "* binary ELL1H $(7)$: A1, PB, TASC, EPS1, EPS2, H3, H4\n",
    "* FD $(3)$\n",
    "* jumps $(2)$\n",
    "\n",
    "But the DMX model which has $211$ bins!\n",
    "\n",
    "This makes $N_\\mathrm{coef} = 290$."
   ]
  },
  {
   "cell_type": "code",
   "execution_count": 37,
   "id": "90baa38e",
   "metadata": {},
   "outputs": [
    {
     "data": {
      "text/plain": [
       "(9835,)"
      ]
     },
     "execution_count": 37,
     "metadata": {},
     "output_type": "execute_result"
    }
   ],
   "source": [
    "# check the number of TOAs\n",
    "psr.toas.shape"
   ]
  },
  {
   "cell_type": "code",
   "execution_count": 38,
   "id": "68ee5e71",
   "metadata": {},
   "outputs": [
    {
     "data": {
      "text/plain": [
       "(1, 9835, 290)"
      ]
     },
     "execution_count": 38,
     "metadata": {},
     "output_type": "execute_result"
    }
   ],
   "source": [
    "# check the shape of the the \"T-matrix\"\n",
    "np.shape(pta.get_basis())"
   ]
  },
  {
   "cell_type": "markdown",
   "id": "0c7883bb",
   "metadata": {},
   "source": [
    "### N-matrix\n",
    "\n",
    "The block-diagonal white noise covariance $\\mathbb{N}$ matrix is accessed via `PTA.get_ndiag`.\n",
    "\n",
    "It's not much to look at, because it is obscured as a special class that sets up the Sherman-Morrison matrix inversion scheme."
   ]
  },
  {
   "cell_type": "code",
   "execution_count": 39,
   "id": "08e9e025",
   "metadata": {},
   "outputs": [
    {
     "data": {
      "text/plain": [
       "[<enterprise.signals.signal_base.ShermanMorrison at 0x176846370>]"
      ]
     },
     "execution_count": 39,
     "metadata": {},
     "output_type": "execute_result"
    }
   ],
   "source": [
    "# check the output of the \"N-matrix\"\n",
    "pta.get_ndiag(p0)"
   ]
  },
  {
   "cell_type": "markdown",
   "id": "5c466b9e",
   "metadata": {},
   "source": [
    "### B-matrix\n",
    "\n",
    "The GP prior $\\mathbb{B}$ matrix is can be broken out as:\n",
    "$$\n",
    "  \\mathbb{B} =\n",
    "    \\begin{bmatrix}\n",
    "    \\infty & 0\\\\\n",
    "    0 & \\varphi\n",
    "    \\end{bmatrix},\n",
    "$$\n",
    "where $\\infty$ is a diagonal matrix of infinities representing the improper, uniform prior on the linear timing model coefficients and $\\varphi$ is the Fourier basis prior.\n",
    "The Fourier modes are approximately orthogonal, so $\\varphi$ is diagonal too.\n",
    "This means the whole $\\mathbb{B}$ matrix is diagonal and can be stored as a vector.\n",
    "\n",
    "Since $\\varphi$ is the non-trivial part of the $\\mathbb{B}$ matrix, the two aren't always clearly distinguished...\n",
    "In `enterprise` the `PTA.get_phi` and `PTA.get_phiinv` methods access the $\\mathbb{B}$ matrix and its inverse."
   ]
  },
  {
   "cell_type": "code",
   "execution_count": 40,
   "id": "eff3e825",
   "metadata": {},
   "outputs": [
    {
     "data": {
      "text/plain": [
       "(290,)"
      ]
     },
     "execution_count": 40,
     "metadata": {},
     "output_type": "execute_result"
    }
   ],
   "source": [
    "#check the shape of the \"B-matrix\"\n",
    "pta.get_phi(p0)[0].shape"
   ]
  },
  {
   "cell_type": "code",
   "execution_count": 41,
   "id": "e90283f3-b4e1-4cbb-bbde-6524135eaf64",
   "metadata": {},
   "outputs": [
    {
     "data": {
      "text/plain": [
       "array([2.52845454e-09, 5.05690908e-09, 7.58536362e-09, 1.01138182e-08,\n",
       "       1.26422727e-08, 1.51707272e-08, 1.76991818e-08, 2.02276363e-08,\n",
       "       2.27560909e-08, 2.52845454e-08, 2.78129999e-08, 3.03414545e-08,\n",
       "       3.28699090e-08, 3.53983635e-08, 3.79268181e-08, 4.04552726e-08,\n",
       "       4.29837272e-08, 4.55121817e-08, 4.80406362e-08, 5.05690908e-08,\n",
       "       5.30975453e-08, 5.56259999e-08, 5.81544544e-08, 6.06829089e-08,\n",
       "       6.32113635e-08, 6.57398180e-08, 6.82682726e-08, 7.07967271e-08,\n",
       "       7.33251816e-08, 7.58536362e-08])"
      ]
     },
     "execution_count": 41,
     "metadata": {},
     "output_type": "execute_result"
    }
   ],
   "source": [
    "# frequencies\n",
    "Tspan = psr.toas.max() - psr.toas.min()\n",
    "np.arange(1, 31) / Tspan"
   ]
  },
  {
   "cell_type": "markdown",
   "id": "c9da93fc",
   "metadata": {},
   "source": [
    "### other parts of the covariance matrix\n",
    "Some other useful combinations of matrices are used in the $\\mathbb{C}$ matrix inversion for the likelihood calculation\n",
    ". For example `PTA.get_TNT` and `PTA.get_TNr`:"
   ]
  },
  {
   "cell_type": "code",
   "execution_count": 42,
   "id": "fa87e540",
   "metadata": {},
   "outputs": [
    {
     "data": {
      "text/plain": [
       "(290, 290)"
      ]
     },
     "execution_count": 42,
     "metadata": {},
     "output_type": "execute_result"
    }
   ],
   "source": [
    "pta.get_TNT(p0)[0].shape"
   ]
  },
  {
   "cell_type": "code",
   "execution_count": 43,
   "id": "7f118c78",
   "metadata": {},
   "outputs": [
    {
     "data": {
      "text/plain": [
       "(290,)"
      ]
     },
     "execution_count": 43,
     "metadata": {},
     "output_type": "execute_result"
    }
   ],
   "source": [
    "pta.get_TNr(p0)[0].shape"
   ]
  },
  {
   "cell_type": "markdown",
   "id": "c8d576c9",
   "metadata": {},
   "source": [
    "### s-vector\n",
    "Our model doesn't have a deterministic signal, $\\vec{s}$.  But if it did, we could find it in the `PTA` as `get_delay`."
   ]
  },
  {
   "cell_type": "code",
   "execution_count": 44,
   "id": "e070d545",
   "metadata": {},
   "outputs": [
    {
     "data": {
      "text/plain": [
       "[0]"
      ]
     },
     "execution_count": 44,
     "metadata": {},
     "output_type": "execute_result"
    }
   ],
   "source": [
    "# \"s-vector\"\n",
    "pta.get_delay(p0)"
   ]
  },
  {
   "cell_type": "code",
   "execution_count": null,
   "id": "5203ef82",
   "metadata": {},
   "outputs": [],
   "source": []
  }
 ],
 "metadata": {
  "kernelspec": {
   "display_name": "Python 3 (ipykernel)",
   "language": "python",
   "name": "python3"
  },
  "language_info": {
   "codemirror_mode": {
    "name": "ipython",
    "version": 3
   },
   "file_extension": ".py",
   "mimetype": "text/x-python",
   "name": "python",
   "nbconvert_exporter": "python",
   "pygments_lexer": "ipython3",
   "version": "3.9.13"
  }
 },
 "nbformat": 4,
 "nbformat_minor": 5
}
