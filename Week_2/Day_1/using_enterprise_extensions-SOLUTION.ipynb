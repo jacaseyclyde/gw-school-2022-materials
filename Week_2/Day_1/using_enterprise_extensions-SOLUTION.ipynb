{
 "cells": [
  {
   "cell_type": "code",
   "execution_count": 1,
   "id": "d17c6ac4",
   "metadata": {},
   "outputs": [
    {
     "name": "stderr",
     "output_type": "stream",
     "text": [
      "WARNING: AstropyDeprecationWarning: The private astropy._erfa module has been made into its own package, pyerfa, which is a dependency of astropy and can be imported directly using \"import erfa\" [astropy._erfa]\n"
     ]
    }
   ],
   "source": [
    "import os, json, pickle\n",
    "\n",
    "import numpy as np\n",
    "from matplotlib import pyplot as plt\n",
    "\n",
    "from enterprise import constants as const\n",
    "from enterprise.pulsar import Pulsar\n",
    "from enterprise.signals import signal_base\n",
    "from enterprise.signals import gp_signals\n",
    "from enterprise.signals import gp_priors\n",
    "from enterprise.signals import parameter\n",
    "from enterprise.signals import selections\n",
    "\n",
    "from enterprise_extensions import blocks"
   ]
  },
  {
   "cell_type": "markdown",
   "id": "f8069808",
   "metadata": {},
   "source": [
    "# using `enterprise_extensions`\n",
    "\n",
    "`enterprise_extensions` provides \"recipes\" for commonly used functionality in `enterprise`.\n",
    "\n",
    "Lets build a 3 pulsar PTA that we could use to search for a gravitational wave background. "
   ]
  },
  {
   "cell_type": "markdown",
   "id": "eb8e668f",
   "metadata": {},
   "source": [
    "## load data"
   ]
  },
  {
   "cell_type": "code",
   "execution_count": 2,
   "id": "fe89ef47",
   "metadata": {},
   "outputs": [],
   "source": [
    "datafiles = {\n",
    "    \"J1600-3053\":{\"par\":\"J1600-3053_EPTA_6psr.par\", \"tim\":\"J1600-3053_EPTA_6psr.tim\"},\n",
    "    \"J2241-5236\":{\"par\":\"J2241-5236_PPTA_dr2.par\", \"tim\":\"J2241-5236_PPTA_dr2.tim\"},\n",
    "    \"J2317+1439\":{\"par\":\"J2317+1439_NANOGrav_12y.par\", \"tim\":\"J2317+1439_NANOGrav_12y.tim\"},\n",
    "}\n",
    "\n",
    "datadir = os.path.abspath(\"data\")"
   ]
  },
  {
   "cell_type": "code",
   "execution_count": 3,
   "id": "489a766e",
   "metadata": {},
   "outputs": [
    {
     "name": "stdout",
     "output_type": "stream",
     "text": [
      "Current filename = J1600-3053_EPTA_6psr.tim\n",
      "Rel path = /Users/ptbaker/Projects/viper_enterprise/data/epta_tims/EFF.P200.1400.tim\n",
      "Current filename = J1600-3053_EPTA_6psr.tim\n",
      "Rel path = /Users/ptbaker/Projects/viper_enterprise/data/epta_tims/EFF.P217.1400.tim\n",
      "Current filename = J1600-3053_EPTA_6psr.tim\n",
      "Rel path = /Users/ptbaker/Projects/viper_enterprise/data/epta_tims/EFF.S110.2639.tim\n",
      "Current filename = J1600-3053_EPTA_6psr.tim\n",
      "Rel path = /Users/ptbaker/Projects/viper_enterprise/data/epta_tims/JBO.ROACH.1520.tim\n",
      "[tempo2Util.C:396] Warning: [TIM1] Please place MODE flags in the parameter file \n",
      "Current filename = J1600-3053_EPTA_6psr.tim\n",
      "Rel path = /Users/ptbaker/Projects/viper_enterprise/data/epta_tims/LEAP.1396.tim\n",
      "Current filename = J1600-3053_EPTA_6psr.tim\n",
      "Rel path = /Users/ptbaker/Projects/viper_enterprise/data/epta_tims/NRT.BON.1400.tim\n",
      "[tempo2Util.C:401] Warning: [DUP1] duplicated warnings have been suppressed.\n",
      "Current filename = J1600-3053_EPTA_6psr.tim\n",
      "Rel path = /Users/ptbaker/Projects/viper_enterprise/data/epta_tims/NRT.BON.1600.tim\n",
      "Current filename = J1600-3053_EPTA_6psr.tim\n",
      "Rel path = /Users/ptbaker/Projects/viper_enterprise/data/epta_tims/NRT.BON.2000.tim\n",
      "Current filename = J1600-3053_EPTA_6psr.tim\n",
      "Rel path = /Users/ptbaker/Projects/viper_enterprise/data/epta_tims/NRT.NUPPI.1484.tim\n",
      "Current filename = J1600-3053_EPTA_6psr.tim\n",
      "Rel path = /Users/ptbaker/Projects/viper_enterprise/data/epta_tims/NRT.NUPPI.1854.tim\n",
      "Current filename = J1600-3053_EPTA_6psr.tim\n",
      "Rel path = /Users/ptbaker/Projects/viper_enterprise/data/epta_tims/NRT.NUPPI.2154.tim\n",
      "Current filename = J1600-3053_EPTA_6psr.tim\n",
      "Rel path = /Users/ptbaker/Projects/viper_enterprise/data/epta_tims/NRT.NUPPI.2539.tim\n",
      "Current filename = J1600-3053_EPTA_6psr.tim\n",
      "Rel path = /Users/ptbaker/Projects/viper_enterprise/data/epta_tims/WSRT.P2.1380.tim\n"
     ]
    },
    {
     "name": "stderr",
     "output_type": "stream",
     "text": [
      "WARNING: Could not find pulsar distance for PSR J2241-5236. Setting value to 1 with 20% uncertainty.\n"
     ]
    },
    {
     "name": "stdout",
     "output_type": "stream",
     "text": [
      "[preProcess.C:158] Warning: PSR J2241-5236 uses DM2+ but does not define DM_SERIES. Assume Taylor. This has behaviour has changed since June 2020!\n",
      "See https://bitbucket.org/psrsoft/tempo2/issues/27/tempo2-dm-polynomial-is-not-a-taylor\n",
      "\n",
      "[tempo2Util.C:396] Warning: [MISC1] Unknown parameter in par file:  DMX\n",
      "\n",
      "WARNING: Using tempo RNAMP parameter: setting TNRedC to 100!\n",
      "[tempo2Util.C:396] Warning: [PAR2] Have not set a DM epoch. The period epoch will be used instead. J2317+1439_NANOGrav_12y.par\n",
      "[observatory.C:271] Warning: Assuming site '3' means 'ao'\n"
     ]
    }
   ],
   "source": [
    "# load in each pulsar and append it to a list\n",
    "psrs = []\n",
    "for pname, fdict in datafiles.items():\n",
    "    pfile = os.path.join(datadir, fdict[\"par\"])\n",
    "    tfile = os.path.join(datadir, fdict[\"tim\"])\n",
    "    psrs.append(Pulsar(pfile, tfile))"
   ]
  },
  {
   "cell_type": "markdown",
   "id": "efbfdfc2",
   "metadata": {},
   "source": [
    "(once again, we can safely ignore these `tempo2` warnings)"
   ]
  },
  {
   "cell_type": "markdown",
   "id": "90524276",
   "metadata": {},
   "source": [
    "## determine the PTA `Tspan`\n",
    "When building a `PTA` using data from multiple pulsars it helps to have a common Fourier basis for all of the pulsars' red noise (and common red noise, like GWB).  The easy way to do this is to use the total time-span of all data to set the Fourier frequencies.\n",
    "\n",
    "`enterprise.signals.gp_signals.FourierBasisGP` can use an intput `Tspan` to figure out the frequencies, and several functions in `enterprise_extensions` can too."
   ]
  },
  {
   "cell_type": "code",
   "execution_count": 4,
   "id": "a562b4d6",
   "metadata": {},
   "outputs": [],
   "source": [
    "# calculate the total Tspan\n",
    "Tspan = np.max([pp.toas.max() - pp.toas.min() for pp in psrs])"
   ]
  },
  {
   "cell_type": "code",
   "execution_count": 5,
   "id": "12d3b14d",
   "metadata": {},
   "outputs": [
    {
     "data": {
      "text/plain": [
       "13.99862013884578"
      ]
     },
     "execution_count": 5,
     "metadata": {},
     "output_type": "execute_result"
    }
   ],
   "source": [
    "Tspan / const.yr"
   ]
  },
  {
   "cell_type": "markdown",
   "id": "b5e8c4b1",
   "metadata": {},
   "source": [
    "## generate an enterprise `PTA` for all three pulsars for a CRN analysis\n",
    "\n",
    "Each pulsar needs a different noise model.  For CRN analysis it is common to fix the WN parameters based on previous single pulsar noise runs.\n",
    "\n",
    "To speed up the likelihood calculation we can use the `enterprise.signals.gp_signals.MarginalizingTimingModel`, which breaks the GP coefficient marginalization into two steps.  The linear timing model is analytically marginalized first.  This reduces the size of the matrices that must be inverted at each likelihood evaluation.  Only the Fourier Basis GPs (RN, DM, GWB, ...) contribute.\n",
    "\n",
    "We're going to use a spatially correlated common red noies model with a powerlaw spectrum as our GWB.\n",
    "\n",
    "Let's start by building the parts of the model that all pulsars will include:\n",
    "\n",
    "* timing model\n",
    "* red noise -- 30 frequency powerlaw -- `enterprise_extensions.blocks.red_noise_block`\n",
    "* GWB -- 15 frequency powerlaw, Hellings-Downs correlated -- `enterprise_extensions.blocks.common_red_noise_block`\n",
    " * $\\log_{10} A \\rightarrow$ Uniform(-18, -13)\n",
    " * $\\gamma=13/3$"
   ]
  },
  {
   "cell_type": "code",
   "execution_count": 6,
   "id": "0a4f6040",
   "metadata": {},
   "outputs": [],
   "source": [
    "# make the timing model signal\n",
    "tm = gp_signals.MarginalizingTimingModel(use_svd=True)"
   ]
  },
  {
   "cell_type": "code",
   "execution_count": 7,
   "id": "fbae468e",
   "metadata": {},
   "outputs": [],
   "source": [
    "# make the RN signal\n",
    "rn = blocks.red_noise_block(\n",
    "    psd=\"powerlaw\", components=30,\n",
    "    Tspan=Tspan\n",
    ")"
   ]
  },
  {
   "cell_type": "code",
   "execution_count": 8,
   "id": "66d8b24f",
   "metadata": {},
   "outputs": [],
   "source": [
    "# make the GWB signal\n",
    "gw = blocks.common_red_noise_block(\n",
    "    psd=\"powerlaw\", components=15,\n",
    "    gamma_val=13/3,\n",
    "    orf=\"hd\",\n",
    "    Tspan=Tspan\n",
    ")"
   ]
  },
  {
   "cell_type": "markdown",
   "id": "bd93258d",
   "metadata": {},
   "source": [
    "Since each pulsar has a unique model, we'll store the three `SignalCollections` as a list."
   ]
  },
  {
   "cell_type": "code",
   "execution_count": 9,
   "id": "484831f9",
   "metadata": {},
   "outputs": [],
   "source": [
    "# empty list to store each pulsar's \"signal\" model\n",
    "sigs = []"
   ]
  },
  {
   "cell_type": "markdown",
   "id": "7f6242e9",
   "metadata": {},
   "source": [
    "### generate an enterprise signal model for EPTA's J1600 pulsar\n",
    "\n",
    "In addition to the timing model, RN, and GWB, we need to include:\n",
    "\n",
    "* white noise -- fixed EFAC & EQUAD per backend (no ECORR)\n",
    "* DM variations -- 100 frequency powerlaw DM GP\n",
    "\n",
    "These are easy to do using `enterprise_extensions.blocks`.\n",
    "\n",
    "For a GWB analysis it is common to hold the white noise parameters (EFAC/EQUAD/ECORR) fixed to some known value (as determined by a single pulsar analysis.\n",
    "This reduces the number of parameters in the full PTA model.\n",
    "`enterprise` accomplishes this by using the `parameter.Constant` class.\n",
    "`enterprise_extensions.blocks.white_noise_block` has a boolean option to control this behavior.\n",
    "We'll use `vary=False` for **fixed** WN."
   ]
  },
  {
   "cell_type": "code",
   "execution_count": 10,
   "id": "6d2b1490",
   "metadata": {},
   "outputs": [],
   "source": [
    "# make the WN signal\n",
    "wn = blocks.white_noise_block(vary=False, inc_ecorr=False, select=\"backend\")"
   ]
  },
  {
   "cell_type": "code",
   "execution_count": 11,
   "id": "b78bf4cd",
   "metadata": {},
   "outputs": [],
   "source": [
    "# make the DM GP signal\n",
    "dm = blocks.dm_noise_block(gp_kernel=\"diag\", psd=\"powerlaw\", components=100, Tspan=Tspan)"
   ]
  },
  {
   "cell_type": "code",
   "execution_count": 12,
   "id": "17abb777",
   "metadata": {},
   "outputs": [],
   "source": [
    "# append J1600's SignalCOllection to the list\n",
    "sigs.append(tm + wn + rn + dm + gw)"
   ]
  },
  {
   "cell_type": "markdown",
   "id": "99dd9c7a",
   "metadata": {},
   "source": [
    "### generate an enterprise signal model for PPTA's J2241 pulsar\n",
    "\n",
    "In addition to the timing model, RN, and GWB, we need to include:\n",
    "\n",
    "* white noise -- fixed EFAC & EQUAD per backend (no ECORR)\n",
    "* DM variations -- 100 frequency powerlaw DM GP\n",
    "* band noise -- 30 frequency powerlaw in the 20cm band\n",
    "\n",
    "We can reuse the same `wn` and `dm` signals from before.\n",
    "\n",
    "To implement band noise we need a `enterprise.signal.selections.Selection`.\n",
    "A selection function takes the `dict` of TOA flags and flagvals as input. \n",
    "It returns a `dict` whose keys are the flagvals to select and mask (array of True/False) telling which TOAs have that flag.\n",
    "\n",
    "There's a built in `by_band` selection function, but that applies band noise to **all** bands.\n",
    "We only want to apply this model to TOAs in the 20cm band, so we need a selection function that returns a `dict` with one key and a mask for that flagval."
   ]
  },
  {
   "cell_type": "code",
   "execution_count": 13,
   "id": "8966b3ae",
   "metadata": {},
   "outputs": [],
   "source": [
    "def band_20cm(flags):\n",
    "    \"\"\"function to select TOAs in 20cm band (-B 20CM)\"\"\"\n",
    "    flagval = \"20CM\"\n",
    "    return {flagval: flags[\"B\"] == flagval}\n",
    "\n",
    "by_band_20cm = selections.Selection(band_20cm)"
   ]
  },
  {
   "cell_type": "markdown",
   "id": "e33bfec8",
   "metadata": {},
   "source": [
    "There's no band noise block in `enterprise_extensions` but we can make a Fourier basis GP with the appropriate selection the old fashioned way!"
   ]
  },
  {
   "cell_type": "code",
   "execution_count": 14,
   "id": "735fa846",
   "metadata": {},
   "outputs": [],
   "source": [
    "# band noise parameters\n",
    "BN_logA = parameter.Uniform(-20, -11)\n",
    "BN_gamma = parameter.Uniform(0, 7)\n",
    "\n",
    "# band noise powerlaw prior\n",
    "powlaw = gp_priors.powerlaw(log10_A=BN_logA, gamma=BN_gamma)\n",
    "\n",
    "# make band noise signal (don't forget the name!)\n",
    "bn = gp_signals.FourierBasisGP(\n",
    "    powlaw,\n",
    "    components=30,\n",
    "    Tspan=Tspan,\n",
    "    selection=by_band_20cm,\n",
    "    name=\"band_noise\"\n",
    ")"
   ]
  },
  {
   "cell_type": "code",
   "execution_count": 15,
   "id": "61487ff0",
   "metadata": {},
   "outputs": [],
   "source": [
    "# append J2241's SignalCOllection to the list\n",
    "sigs.append(tm + wn + rn + bn + dm + gw)"
   ]
  },
  {
   "cell_type": "markdown",
   "id": "04ccf0ea",
   "metadata": {},
   "source": [
    "### generate an enterprise signal model for NANOGrav's J2317 pulsar\n",
    "\n",
    "In addition to the timing model, RN, and GWB, we need to include:\n",
    "\n",
    "* white noise -- fixed EFAC, EQUAD, **and ECORR** per backend\n",
    "\n",
    "Remember there is no DM variations model, because DMX is already in the timing model for NANOGrav's 12.5yr data release"
   ]
  },
  {
   "cell_type": "code",
   "execution_count": 16,
   "id": "0a1a37e2",
   "metadata": {},
   "outputs": [],
   "source": [
    "# make WN signal (now with ECORR!)\n",
    "wn_ec = blocks.white_noise_block(vary=False, inc_ecorr=True, select=\"backend\")"
   ]
  },
  {
   "cell_type": "code",
   "execution_count": 17,
   "id": "1f9599b8",
   "metadata": {},
   "outputs": [],
   "source": [
    "# append J2317's SignalCOllection to the list\n",
    "sigs.append(tm + wn_ec + rn + gw)"
   ]
  },
  {
   "cell_type": "markdown",
   "id": "3c1974df",
   "metadata": {},
   "source": [
    "## put the three pulsars together into a `PTA` object\n",
    "\n",
    "We can instantiate a PTA object with a list of three pulsar models.\n",
    "We simply feed each `Pulsar` to its `SignalCollection`, and then pass the whole list of instantiated models to `signal_base.PTA`."
   ]
  },
  {
   "cell_type": "code",
   "execution_count": 18,
   "id": "bf3f0c65",
   "metadata": {},
   "outputs": [],
   "source": [
    "pta = signal_base.PTA([ss(pp) for ss,pp in zip(sigs, psrs)])"
   ]
  },
  {
   "cell_type": "markdown",
   "id": "3847e23f",
   "metadata": {},
   "source": [
    "### load noise dictionary\n",
    "\n",
    "At this point we never actually told `enterprise` what to use for the fixed the WN parameters.\n",
    "We can use `PTA.set_default_params` to pass in the correct WN values from a `dict`.\n",
    "\n",
    "First we'll load the dictionary, which is stored as a `.json` file in the `data/` directory"
   ]
  },
  {
   "cell_type": "code",
   "execution_count": 19,
   "id": "51985d72",
   "metadata": {},
   "outputs": [],
   "source": [
    "nfile = os.path.join(datadir, \"viper_3psr_noise.json\")\n",
    "with open(nfile, \"r\") as f:\n",
    "    noisedict = json.load(f)"
   ]
  },
  {
   "cell_type": "code",
   "execution_count": 20,
   "id": "92fc90d1",
   "metadata": {},
   "outputs": [],
   "source": [
    "# set the fixed WN params\n",
    "pta.set_default_params(noisedict)"
   ]
  },
  {
   "cell_type": "markdown",
   "id": "37084a6b",
   "metadata": {},
   "source": [
    "### evaluate the log-likelihood!"
   ]
  },
  {
   "cell_type": "code",
   "execution_count": 21,
   "id": "b6840376",
   "metadata": {},
   "outputs": [],
   "source": [
    "# generate a random point\n",
    "x0 = {pp.name:pp.sample() for pp in pta.params}"
   ]
  },
  {
   "cell_type": "code",
   "execution_count": 22,
   "id": "f762da71",
   "metadata": {},
   "outputs": [
    {
     "data": {
      "text/plain": [
       "(225348.53184581103, -26.245102719469088)"
      ]
     },
     "execution_count": 22,
     "metadata": {},
     "output_type": "execute_result"
    }
   ],
   "source": [
    "# calculate logL and logPr\n",
    "pta.get_lnlikelihood(x0), pta.get_lnprior(x0)"
   ]
  },
  {
   "cell_type": "markdown",
   "id": "d3db14b6",
   "metadata": {},
   "source": [
    "For the spatially correlated GWB model, the $\\varphi$ matrix is no longer diagonal!  We can check the shape of `PTA.get_phiinv` and see that it is stored as a full matrix, not a vector."
   ]
  },
  {
   "cell_type": "code",
   "execution_count": 23,
   "id": "b4ab64a5",
   "metadata": {},
   "outputs": [
    {
     "data": {
      "text/plain": [
       "(640, 640)"
      ]
     },
     "execution_count": 23,
     "metadata": {},
     "output_type": "execute_result"
    }
   ],
   "source": [
    "# check the shape of phiinv\n",
    "pta.get_phiinv(x0).shape"
   ]
  },
  {
   "cell_type": "markdown",
   "id": "4c01a06d",
   "metadata": {},
   "source": [
    "The GP basis design matrix, $\\mathbb{T}$, is a list, containing an entry for each pulsar.\n",
    "Each entry is $N_\\mathrm{TOA}\\times N_\\mathrm{coef}$ for that pulsar.\n",
    "Because we used the `MarginalizingTimingModel`, the timing model which has no varying parameters already been marginalized.\n",
    "\n",
    "This leaves J2317 with a 30 component Fourier Basis GP and 60 basis coefficients.\n",
    "The GWB and RN models share a common basis, so the 15 GWB components don't add any extra.\n",
    "\n",
    "J1600 has an additional 200 coefficients, from the 100 component DM GP model.\n",
    "The DM variations are not applied the same way to all TOAs, different radio frequency observations are affected differently.  This means that even though the DM basis uses the same frequencies, it cannot share basis coefficients with the *achromatic* GWB and RN models.\n",
    "\n",
    "In addition to DM variations J2241 had a 30 component band-noise model, adding in an extra 60 coefficients.\n",
    "Band noise is achromatic, but it only applies to a subset of the full TOAs.\n",
    "This model can't share basis coefficients with the other models"
   ]
  },
  {
   "cell_type": "code",
   "execution_count": 24,
   "id": "4bdc8830",
   "metadata": {},
   "outputs": [
    {
     "data": {
      "text/plain": [
       "[(3345, 260), (5224, 320), (9835, 60)]"
      ]
     },
     "execution_count": 24,
     "metadata": {},
     "output_type": "execute_result"
    }
   ],
   "source": [
    "# check the shape of each T-matrix\n",
    "[T.shape for T in pta.get_basis()]"
   ]
  },
  {
   "cell_type": "code",
   "execution_count": null,
   "id": "a7bf53e2",
   "metadata": {},
   "outputs": [],
   "source": []
  },
  {
   "cell_type": "markdown",
   "id": "01550c20",
   "metadata": {},
   "source": [
    "# run a quick MCMC\n",
    "\n",
    "`enterprise_extensions.sampler.setup_sampler()` returns a `PTMCMCSampler` object.\n",
    "The MCMC sampler can be tuned to improve performance.\n",
    "The defaults of `setup_sampler` are often fine, but suboptimal.\n",
    "One can fine improved acceptance and convergence, but adjusting the inputs to `setup_sampler` or setting up the sampler manually."
   ]
  },
  {
   "cell_type": "code",
   "execution_count": 25,
   "id": "3d76eee2",
   "metadata": {},
   "outputs": [
    {
     "name": "stdout",
     "output_type": "stream",
     "text": [
      "Do not have mpi4py package.\n",
      "Do not have acor package\n"
     ]
    },
    {
     "name": "stderr",
     "output_type": "stream",
     "text": [
      "\n",
      "WARNING: version mismatch between CFITSIO header (v4.000999999999999) and linked library (v4.01).\n",
      "\n",
      "\n",
      "WARNING: version mismatch between CFITSIO header (v4.000999999999999) and linked library (v4.01).\n",
      "\n",
      "\n",
      "WARNING: version mismatch between CFITSIO header (v4.000999999999999) and linked library (v4.01).\n",
      "\n"
     ]
    }
   ],
   "source": [
    "from enterprise_extensions.sampler import setup_sampler\n",
    "from matplotlib import pyplot as plt"
   ]
  },
  {
   "cell_type": "markdown",
   "id": "8f37b4f0",
   "metadata": {},
   "source": [
    "### Run a short MCMC using this PTA object\n",
    "\n",
    "Check the output to see what is generated and plot a trace of the log-Posterior\n",
    "\n",
    "* set the output directory\n",
    "* specify yourself as the \"human\" running the job\n",
    "\n",
    "* remember the sampler takes a `numpy.ndarray` for the starting location, not a `dict`\n",
    "\n",
    "* set `burn=1000` (the DE buffer)\n",
    "* set `thin=2` (save every other sample)\n",
    "* collect `2000` samples (if we thin by 2, we'll need to run for `Niter=4000`!)"
   ]
  },
  {
   "cell_type": "code",
   "execution_count": 26,
   "id": "a20ebf5d",
   "metadata": {},
   "outputs": [],
   "source": [
    "# specify the output directory\n",
    "outdir = \"mcmc_test\""
   ]
  },
  {
   "cell_type": "code",
   "execution_count": 27,
   "id": "1c0ea5a2",
   "metadata": {},
   "outputs": [
    {
     "name": "stdout",
     "output_type": "stream",
     "text": [
      "Adding red noise prior draws...\n",
      "\n",
      "Adding DM GP noise prior draws...\n",
      "\n",
      "Adding GWB uniform distribution draws...\n",
      "\n"
     ]
    }
   ],
   "source": [
    "# setup the sampler\n",
    "sampler = setup_sampler(pta, outdir=outdir, human=\"ptb\")"
   ]
  },
  {
   "cell_type": "code",
   "execution_count": 28,
   "id": "eab5b1f5",
   "metadata": {},
   "outputs": [
    {
     "name": "stderr",
     "output_type": "stream",
     "text": [
      "/Users/ptbaker/opt/anaconda3/envs/ent15y/lib/python3.9/site-packages/enterprise/signals/parameter.py:62: RuntimeWarning: divide by zero encountered in log\n",
      "  logpdf = np.log(self.prior(value, **kwargs))\n"
     ]
    },
    {
     "name": "stdout",
     "output_type": "stream",
     "text": [
      "Finished 25.00 percent in 9.173659 s Acceptance rate = 0.357Adding DE jump with weight 20\n",
      "Finished 75.00 percent in 27.228359 s Acceptance rate = 0.368333\n",
      "Run Complete\n"
     ]
    }
   ],
   "source": [
    "# generate an initial sample and run the sampler!\n",
    "p0 = np.hstack(list(x0.values()))\n",
    "\n",
    "B = 1_000\n",
    "T = 2\n",
    "Nsamp = 2_000\n",
    "\n",
    "N = 2*Nsamp\n",
    "sampler.sample(\n",
    "    p0, Niter=N,\n",
    "    burn=B, thin=T\n",
    ")"
   ]
  },
  {
   "cell_type": "code",
   "execution_count": 29,
   "id": "3d693bbf",
   "metadata": {},
   "outputs": [
    {
     "data": {
      "text/plain": [
       "[<matplotlib.lines.Line2D at 0x120d8fac0>]"
      ]
     },
     "execution_count": 29,
     "metadata": {},
     "output_type": "execute_result"
    },
    {
     "data": {
      "image/png": "[encoded data removed]",
      "text/plain": [
       "<Figure size 432x288 with 1 Axes>"
      ]
     },
     "metadata": {
      "needs_background": "light"
     },
     "output_type": "display_data"
    }
   ],
   "source": [
    "burn = 0  # try setting burn to 200 or 500\n",
    "plt.plot(sampler._lnprob[burn:])"
   ]
  },
  {
   "cell_type": "code",
   "execution_count": 30,
   "id": "827f57f7",
   "metadata": {},
   "outputs": [
    {
     "data": {
      "text/plain": [
       "[<matplotlib.lines.Line2D at 0x120e7d220>]"
      ]
     },
     "execution_count": 30,
     "metadata": {},
     "output_type": "execute_result"
    },
    {
     "data": {
      "image/png": "[encoded data removed]",
      "text/plain": [
       "<Figure size 432x288 with 1 Axes>"
      ]
     },
     "metadata": {
      "needs_background": "light"
     },
     "output_type": "display_data"
    }
   ],
   "source": [
    "ii = pta.param_names.index(\"gw_log10_A\")\n",
    "\n",
    "plt.plot(sampler._chain[burn:, ii])"
   ]
  },
  {
   "cell_type": "markdown",
   "id": "bc12ed13",
   "metadata": {},
   "source": [
    "# Things to work on during the hack time\n",
    "\n",
    "You don't need to do all of these, and you don't need to do them in order.  Pick one (or more) to try.\n",
    "MCMC's can take a **long** time to run.  You may want to set up a notebook, then wait to run it overnight.\n",
    "I recommend using the `MarginalizingTimingModel` in all cases, because it is faster than `TimingModel`.\n",
    "Spatially correlated common signals (e.g. Hellings Downs GWB) are much slower to evaluate than uncorrelated common signals.  If you plan to run an MCMC at this workshop, I recommend only using uncorrelated common signals.\n",
    "\n",
    "While the MCMC is running you can open up a new notebook and read in the `$outdir/chain_1.txt` and `$outdir/pars.txt` to check on progress.\n",
    "The number of samples it will take to have well converged posteriors will depend on the specific model.\n",
    "Using these settings in `sampler.sample` will run for 100k samples, saving every tenth.\n",
    "That may be enough...\n",
    "* `Niter=100_000`\n",
    "* `burn=20_000`\n",
    "* `thin=10`\n",
    "Models with more parameters will require more samples to converge.\n",
    "\n",
    "\n",
    "## ideas:\n",
    "\n",
    "* Run an MCMC **noise run** with varying WN for one of the 3 pulsars.  Compare the median WN parameters from your MCMC to those in the noise dictionary, `viper_3psr_noise.json`.  Make sure to use the appropriate noise model for that pulsar.\n",
    "\n",
    "* Run an MCMC **noise run** with varying WN for J2241 **ommitting the band noise** model.  Compare the median WN parameters from your MCMC to those in the noise dictionary, `viper_3psr_noise.json`.\n",
    "\n",
    "* Setup a `PTA` object using all three pulsars for an **uncorrelated common red noise** signal instead of Hellings-Downs correlated GWB.  Check how the $\\mathbb{B}$ a.k.a. $\\varphi$ matrix is stored in this case.  Why is it different than the HD correlated case?  Run an MCMC and plot the 1D marginal posterior for the CRN amplitude.\n",
    "\n",
    "* Do an **uncorrelated common red noise** analysis with **varying spectral index**.  Make a corner plot for the two CRN parameters.\n",
    "\n",
    "* Pull recent public data from your favorite PTA and set up a `PTA` object to perform an **analysis of your choice**.  Here are `.pkl` files containing a list of `enterprise` `Pulsar` objects for three recent data releases:\n",
    " * [EPTA 6PSR](https://drive.google.com/file/d/1MyZX7ox_8TlRUhgk47NirNYcWfEz5ron/view?usp=sharing)\n",
    " * [PPTA DR2](https://drive.google.com/file/d/1at5S_ydfqGV2x0PzF4eCO_BXhQjfamKX/view?usp=sharing)\n",
    " * [NANOGrav 12.5y](https://drive.google.com/file/d/1eWNLgPOm7mYKAt3LYY_YIb1i19_n03xD/view?usp=sharing)"
   ]
  },
  {
   "cell_type": "code",
   "execution_count": null,
   "id": "5cac763a",
   "metadata": {},
   "outputs": [],
   "source": []
  }
 ],
 "metadata": {
  "kernelspec": {
   "display_name": "Python [conda env:ent15y] *",
   "language": "python",
   "name": "conda-env-ent15y-py"
  },
  "language_info": {
   "codemirror_mode": {
    "name": "ipython",
    "version": 3
   },
   "file_extension": ".py",
   "mimetype": "text/x-python",
   "name": "python",
   "nbconvert_exporter": "python",
   "pygments_lexer": "ipython3",
   "version": "3.9.12"
  }
 },
 "nbformat": 4,
 "nbformat_minor": 5
}
