{
 "cells": [
  {
   "cell_type": "code",
   "execution_count": 1,
   "id": "processed-destiny",
   "metadata": {},
   "outputs": [],
   "source": [
    "import glob, os, json, pickle\n",
    "import numpy as np\n",
    "import matplotlib.pyplot as plt\n",
    "\n",
    "import pandas as pd\n",
    "\n",
    "from enterprise.signals import gp_signals, signal_base, selections, white_signals, parameter\n",
    "\n",
    "from enterprise_extensions import models, blocks, model_utils\n",
    "from enterprise_extensions.frequentist import optimal_statistic as OS\n",
    "\n",
    "from tqdm.auto import tqdm"
   ]
  },
  {
   "cell_type": "markdown",
   "id": "587bebbb",
   "metadata": {},
   "source": [
    "# The Optimal Statistic In Practice\n",
    "\n",
    "In this tutorial, we'll play around with setting up the Optimal Statistic, testing how using different red noise parameters impacts the OS recovery, and looking at different ORFs. \n",
    "\n",
    "The datasets that we will be using only have red noise parameters in them, which will speed-up the various calculations. Below we will set-up the PTA object for these simulated datasets. "
   ]
  },
  {
   "cell_type": "code",
   "execution_count": 2,
   "id": "fb00334c",
   "metadata": {},
   "outputs": [
    {
     "name": "stderr",
     "output_type": "stream",
     "text": [
      "WARNING: AstropyDeprecationWarning: The private astropy._erfa module has been made into its own package, pyerfa, which is a dependency of astropy and can be imported directly using \"import erfa\" [astropy._erfa]\n"
     ]
    }
   ],
   "source": [
    "datadir = os.path.abspath(\"OSdata\")\n",
    "\n",
    "# Grab the Pickled Pulsars\n",
    "nfile = os.path.join(datadir, \"viper_OSpickle.pkl\")\n",
    "with open(nfile,'rb') as fin:\n",
    "    psr_list = pickle.load(fin)"
   ]
  },
  {
   "cell_type": "code",
   "execution_count": 3,
   "id": "functional-piece",
   "metadata": {},
   "outputs": [],
   "source": [
    "# Make PTA Objects\n",
    "\n",
    "# Set Tspan for RN\n",
    "Tspan_PTA = model_utils.get_tspan(psr_list)\n",
    "\n",
    "# common red noise block\n",
    "cs = blocks.common_red_noise_block(psd='powerlaw', prior='log-uniform', Tspan=Tspan_PTA,\n",
    "                                   components=30, gamma_val=4.33, name='gw')\n",
    "\n",
    "# intrinsic red noise\n",
    "s = blocks.red_noise_block(prior='log-uniform', Tspan=Tspan_PTA, components=30)\n",
    "\n",
    "# timing model\n",
    "s += gp_signals.TimingModel()\n",
    "\n",
    "# adding EFAC = 1 \n",
    "ef = white_signals.MeasurementNoise(efac=parameter.Constant(1))\n",
    "\n",
    "# acting on psr objects\n",
    "psr_models = []\n",
    "for psr in psr_list:\n",
    "        s2 = s + cs + ef\n",
    "        psr_models.append(s2(psr))\n",
    "\n",
    "# set up PTA\n",
    "pta = signal_base.PTA(psr_models)"
   ]
  },
  {
   "cell_type": "markdown",
   "id": "76d2609d",
   "metadata": {},
   "source": [
    "Now that we have the PTA object made, we can set up the Optimal Statistic. \n",
    "\n",
    "When we do this, we will be setting both the spectral shape (gamma value for the PSD) as well as the ORF that we will be incorporating. \n",
    "\n",
    "We'll start with HD."
   ]
  },
  {
   "cell_type": "markdown",
   "id": "968ff926",
   "metadata": {},
   "source": [
    "### Optimal Statistic w/ HD ORF\n",
    "    Looking at the effect of different RN parameters.\n",
    "    Here we'll look at three different noise values:\n",
    "        - one where we only include the pulsar's individual noise and no common signal, \n",
    "        - one where the common signal amplitude is maximized,\n",
    "        - and one other random value from an uncorrelated common process Bayesian analysis."
   ]
  },
  {
   "cell_type": "code",
   "execution_count": 4,
   "id": "7b88a93a",
   "metadata": {},
   "outputs": [],
   "source": [
    "# Make the OS\n",
    "optstat = OS.OptimalStatistic(psr_list, pta=pta, orf='hd')"
   ]
  },
  {
   "cell_type": "code",
   "execution_count": 5,
   "id": "7158ffe9",
   "metadata": {},
   "outputs": [],
   "source": [
    "# Load json file for first noise test\n",
    "nfile = os.path.join(datadir, \"OS_PulsarOnly_noise.json\")\n",
    "with open(nfile, \"r\") as f:\n",
    "    noisedict1 = json.load(f)"
   ]
  },
  {
   "cell_type": "code",
   "execution_count": 6,
   "id": "e95b3b5f",
   "metadata": {},
   "outputs": [],
   "source": [
    "xi1, rho1, rho_sig1, opt1, sig1 = optstat.compute_os(params=noisedict1)"
   ]
  },
  {
   "cell_type": "markdown",
   "id": "4906dfd7",
   "metadata": {},
   "source": [
    "`Compute_OS` returns the following information:\n",
    "- angular separation (xi), \n",
    "- the measured correlated power (rho), \n",
    "- the uncertainty in the measured correlated power (rho_sig), \n",
    "- the measured optimal statistic value (opt),\n",
    "- and the normalization factor for the OS (sig).\n",
    "\n",
    "REMEMBER: The SNR for the OS is opt / sig"
   ]
  },
  {
   "cell_type": "code",
   "execution_count": 7,
   "id": "b1a0f620",
   "metadata": {},
   "outputs": [],
   "source": [
    "# Load json file for second noise test \n",
    "nfile = os.path.join(datadir, \"OS_CommonMax_noise.json\")\n",
    "with open(nfile, \"r\") as f:\n",
    "    noisedict2 = json.load(f)\n",
    "    \n",
    "xi2, rho2, rho_sig2, opt2, sig2 = optstat.compute_os(params=noisedict2)"
   ]
  },
  {
   "cell_type": "code",
   "execution_count": 8,
   "id": "e05606bb",
   "metadata": {},
   "outputs": [],
   "source": [
    "# Load json file for third noise test \n",
    "nfile = os.path.join(datadir, \"OS_CommonMean_noise.json\")\n",
    "with open(nfile, \"r\") as f:\n",
    "    noisedict3 = json.load(f)\n",
    "    \n",
    "xi3, rho3, rho_sig3, opt3, sig3 = optstat.compute_os(params=noisedict3)"
   ]
  },
  {
   "cell_type": "markdown",
   "id": "e8820631",
   "metadata": {},
   "source": [
    "Let's compare these answers. "
   ]
  },
  {
   "cell_type": "code",
   "execution_count": 9,
   "id": "83e3c7df",
   "metadata": {},
   "outputs": [
    {
     "name": "stdout",
     "output_type": "stream",
     "text": [
      "Pulsar Noise Only - Ahat =  1.6364146547301717e-31  - SNR =  3.6584757651278497\n",
      "Pulsar Common Max - Ahat =  2.1881511496841375e-31  - SNR =  0.884696006450435\n",
      "Pulsar Common Mean - Ahat =  2.5801882920711757e-31  - SNR =  2.5363323913727807\n"
     ]
    }
   ],
   "source": [
    "print('Pulsar Noise Only - Ahat = ', opt1, ' - SNR = ', opt1/sig1)\n",
    "print('Pulsar Common Max - Ahat = ', opt2, ' - SNR = ', opt2/sig2)\n",
    "print('Pulsar Common Mean - Ahat = ', opt3, ' - SNR = ', opt3/sig3)"
   ]
  },
  {
   "cell_type": "markdown",
   "id": "5a9804fb",
   "metadata": {},
   "source": [
    "#### Plotting the OS Results\n",
    "\n",
    "Now we'll turn briefly to plotting the OS results using the functions below, which will bin the raw cross-correlation information into a weighted average that is easier to visualize. We'll also overplot the \"best-fit\" HD curve from the value of the OS. "
   ]
  },
  {
   "cell_type": "code",
   "execution_count": 10,
   "id": "terminal-twelve",
   "metadata": {},
   "outputs": [],
   "source": [
    "def weightedavg(rho, sig):\n",
    "    weights, avg = 0., 0.\n",
    "    for r,s in zip(rho,sig):\n",
    "        weights += 1./(s*s)\n",
    "        avg += r/(s*s)\n",
    "        \n",
    "    return avg/weights, np.sqrt(1./weights)\n",
    "\n",
    "def bin_crosscorr(zeta, xi, rho, sig):\n",
    "    \n",
    "    rho_avg, sig_avg = np.zeros(len(zeta)), np.zeros(len(zeta))\n",
    "    \n",
    "    for i,z in enumerate(zeta[:-1]):\n",
    "        myrhos, mysigs = [], []\n",
    "        for x,r,s in zip(xi,rho,sig):\n",
    "            if x >= z and x < (z+10.):\n",
    "                myrhos.append(r)\n",
    "                mysigs.append(s)\n",
    "        rho_avg[i], sig_avg[i] = weightedavg(myrhos, mysigs)\n",
    "        \n",
    "    return rho_avg, sig_avg\n",
    "\n",
    "def get_HD_curve(zeta):\n",
    "    \n",
    "    coszeta = np.cos(zeta*np.pi/180.)\n",
    "    xip = (1.-coszeta) / 2.\n",
    "    HD = 3.*( 1./3. + xip * ( np.log(xip) -1./6.) )\n",
    "    \n",
    "    return HD"
   ]
  },
  {
   "cell_type": "code",
   "execution_count": 11,
   "id": "designed-anchor",
   "metadata": {},
   "outputs": [],
   "source": [
    "z = np.linspace(0,180,19)\n",
    "rho_avg, sig_avg = bin_crosscorr(z, xi2*180/np.pi, rho2, rho_sig2)"
   ]
  },
  {
   "cell_type": "code",
   "execution_count": 12,
   "id": "8f0df00e",
   "metadata": {},
   "outputs": [
    {
     "data": {
      "image/png": "[encoded data removed]",
      "text/plain": [
       "<Figure size 432x288 with 1 Axes>"
      ]
     },
     "metadata": {
      "needs_background": "light"
     },
     "output_type": "display_data"
    }
   ],
   "source": [
    "plt.errorbar(z+5, rho_avg, marker='o', yerr=sig_avg, ls='', color='k')\n",
    "\n",
    "zeta = np.linspace(0.01,180,100)\n",
    "HD = get_HD_curve(zeta+1)\n",
    "plt.plot(zeta, HD*opt2, color='C0', label='HD')\n",
    "plt.axhline(0, color='k', lw=0.5)\n",
    "\n",
    "plt.xlim((0,180));\n",
    "plt.ylim((-1e-30, 1e-30));\n",
    "plt.xlabel(r'$\\zeta$ (deg)');\n",
    "\n",
    "plt.legend(loc=3);\n",
    "plt.tight_layout();"
   ]
  },
  {
   "cell_type": "markdown",
   "id": "9b28e40f",
   "metadata": {},
   "source": [
    "Now, do the same three tests with a monopole ORF. "
   ]
  },
  {
   "cell_type": "code",
   "execution_count": 13,
   "id": "228f2810",
   "metadata": {},
   "outputs": [],
   "source": [
    "# Make the OS\n",
    "optstat_mono = OS.OptimalStatistic(psr_list, pta=pta, orf='monopole')"
   ]
  },
  {
   "cell_type": "code",
   "execution_count": 14,
   "id": "05ed4b02-8bac-4ecd-a310-39fee96971b9",
   "metadata": {},
   "outputs": [],
   "source": [
    "xi1_mono, rho1_mono, rho_sig1_mono, opt1_mono, sig1_mono = optstat_mono.compute_os(params=noisedict1)\n",
    "xi2_mono, rho2_mono, rho_sig2_mono, opt2_mono, sig2_mono = optstat_mono.compute_os(params=noisedict2)\n",
    "xi3_mono, rho3_mono, rho_sig3_mono, opt3_mono, sig3_mono = optstat_mono.compute_os(params=noisedict3)"
   ]
  },
  {
   "cell_type": "code",
   "execution_count": 15,
   "id": "789b47fc-ae51-4a2a-af94-1cad5fd53ab1",
   "metadata": {},
   "outputs": [
    {
     "name": "stdout",
     "output_type": "stream",
     "text": [
      "Pulsar Noise Only - Ahat =  -3.505520166215632e-33  - SNR =  -0.43432074422814576\n",
      "Pulsar Common Max - Ahat =  8.951196901628358e-32  - SNR =  1.9814871912183654\n",
      "Pulsar Common Mean - Ahat =  4.2663457079159217e-32  - SNR =  2.3156949025439366\n"
     ]
    }
   ],
   "source": [
    "print('Pulsar Noise Only - Ahat = ', opt1_mono, ' - SNR = ', opt1_mono/sig1_mono)\n",
    "print('Pulsar Common Max - Ahat = ', opt2_mono, ' - SNR = ', opt2_mono/sig2_mono)\n",
    "print('Pulsar Common Mean - Ahat = ', opt3_mono, ' - SNR = ', opt3_mono/sig3_mono)"
   ]
  },
  {
   "cell_type": "markdown",
   "id": "fcf035ca",
   "metadata": {},
   "source": [
    "Clearly, what you set the red noise parameters to makes a difference!\n",
    "\n",
    "Now, let's look at the `noise_marginalized_OS`, where we marginalize over the red noise choice resulting in a distribution for the OS."
   ]
  },
  {
   "cell_type": "code",
   "execution_count": 16,
   "id": "f9612470",
   "metadata": {},
   "outputs": [],
   "source": [
    "# Load in an entire uncorrelated common process Bayesian MCMC chain\n",
    "chain_panda = pd.read_csv(os.path.join(datadir,\"OS_m2achain.csv.gz\"))\n",
    "model2Achain = chain_panda.to_numpy()[int(chain_panda.shape[0]*0.25):]\n",
    "pars = list(chain_panda.keys())"
   ]
  },
  {
   "cell_type": "code",
   "execution_count": 17,
   "id": "tender-sport",
   "metadata": {},
   "outputs": [
    {
     "data": {
      "application/vnd.jupyter.widget-view+json": {
       "model_id": "b2f49242141f448ba9e9c6cc551f64b8",
       "version_major": 2,
       "version_minor": 0
      },
      "text/plain": [
       "  0%|          | 0/250 [00:00<?, ?it/s]"
      ]
     },
     "metadata": {},
     "output_type": "display_data"
    }
   ],
   "source": [
    "# Set-up NMOS\n",
    "N = 250\n",
    "opt_m2a, sig_m2a = np.zeros(N), np.zeros(N)\n",
    "setpars = {}\n",
    "for ii in tqdm(range(N)):\n",
    "    idx = np.random.randint(0, model2Achain.shape[0])\n",
    "    setpars = dict(zip(pars,model2Achain[idx]))\n",
    "    ## Calculate OS\n",
    "    xi_tmp, rho_tmp, rho_sig_tmp, opt_m2a[ii], sig_m2a[ii] = optstat.compute_os(params=setpars)\n",
    "snr_m2a = opt_m2a / sig_m2a"
   ]
  },
  {
   "cell_type": "code",
   "execution_count": 18,
   "id": "368abb53",
   "metadata": {},
   "outputs": [
    {
     "data": {
      "text/plain": [
       "Text(0.5, 0, 'Opt Stat HD SNR')"
      ]
     },
     "execution_count": 18,
     "metadata": {},
     "output_type": "execute_result"
    },
    {
     "data": {
      "image/png": "[encoded data removed]",
      "text/plain": [
       "<Figure size 432x288 with 1 Axes>"
      ]
     },
     "metadata": {
      "needs_background": "light"
     },
     "output_type": "display_data"
    }
   ],
   "source": [
    "# Plot the resulting distribution and compare to the individual noise runs\n",
    "plt.hist(snr_m2a, histtype='step', lw=1.5, bins=30, density=True, color='C0')\n",
    "plt.axvline(opt1/sig1, label='Pulsar Noise Only', color='C1')\n",
    "plt.axvline(opt2/sig2, label='Common Signal Max', color='C2')\n",
    "plt.axvline(opt3/sig3, label='Common Signal Mean', color='C3')\n",
    "plt.legend(loc=1)\n",
    "plt.xlim(0,7)\n",
    "plt.xlabel('Opt Stat HD SNR')"
   ]
  },
  {
   "cell_type": "markdown",
   "id": "cca1a9dc",
   "metadata": {},
   "source": [
    "Now try running the `Noise_Marginalized_OS` for the monopole and plotting those distributions in the same way."
   ]
  },
  {
   "cell_type": "code",
   "execution_count": 19,
   "id": "518ac48a",
   "metadata": {},
   "outputs": [
    {
     "data": {
      "application/vnd.jupyter.widget-view+json": {
       "model_id": "8dfa3fb9ab3e4dbd9006ba190fde8bdc",
       "version_major": 2,
       "version_minor": 0
      },
      "text/plain": [
       "  0%|          | 0/250 [00:00<?, ?it/s]"
      ]
     },
     "metadata": {},
     "output_type": "display_data"
    }
   ],
   "source": [
    "# Set-up NMOS\n",
    "N = 250\n",
    "opt_mono, sig_mono = np.zeros(N), np.zeros(N)\n",
    "setpars_mono = {}\n",
    "for ii in tqdm(range(N)):\n",
    "    idx = np.random.randint(0, model2Achain.shape[0])\n",
    "    setpars_mono = dict(zip(pars,model2Achain[idx]))\n",
    "    ## Calculate OS\n",
    "    xi_tmp, rho_tmp, rho_sig_tmp, opt_mono[ii], sig_mono[ii] = optstat_mono.compute_os(params=setpars_mono)\n",
    "snr_mono = opt_mono / sig_mono"
   ]
  },
  {
   "cell_type": "code",
   "execution_count": 20,
   "id": "8331b39c-9dcf-40f6-8522-694e5a1f94ab",
   "metadata": {},
   "outputs": [
    {
     "data": {
      "text/plain": [
       "Text(0.5, 0, 'Opt Stat HD SNR')"
      ]
     },
     "execution_count": 20,
     "metadata": {},
     "output_type": "execute_result"
    },
    {
     "data": {
      "image/png": "[encoded data removed]",
      "text/plain": [
       "<Figure size 432x288 with 1 Axes>"
      ]
     },
     "metadata": {
      "needs_background": "light"
     },
     "output_type": "display_data"
    }
   ],
   "source": [
    "# Plot the resulting distribution and compare to the individual noise runs\n",
    "plt.hist(snr_mono, histtype='step', lw=1.5, bins=30, density=True, color='C0')\n",
    "plt.axvline(opt1_mono/sig1_mono, label='Pulsar Noise Only', color='C1')\n",
    "plt.axvline(opt2_mono/sig2_mono, label='Common Signal Max', color='C2')\n",
    "plt.axvline(opt3_mono/sig3_mono, label='Common Signal Mean', color='C3')\n",
    "plt.legend(loc=1)\n",
    "plt.xlim(-2,6)\n",
    "plt.xlabel('Opt Stat HD SNR')"
   ]
  },
  {
   "cell_type": "code",
   "execution_count": 21,
   "id": "cadb9192",
   "metadata": {},
   "outputs": [
    {
     "data": {
      "text/plain": [
       "Text(0.5, 0, 'Opt Stat HD SNR')"
      ]
     },
     "execution_count": 21,
     "metadata": {},
     "output_type": "execute_result"
    },
    {
     "data": {
      "image/png": "[encoded data removed]",
      "text/plain": [
       "<Figure size 432x288 with 1 Axes>"
      ]
     },
     "metadata": {
      "needs_background": "light"
     },
     "output_type": "display_data"
    }
   ],
   "source": [
    "# Compare\n",
    "plt.hist(snr_m2a, histtype='step', lw=1.5, bins=30, density=True, color='C0', label='HD')\n",
    "plt.hist(snr_mono, histtype='step', lw=1.5, bins=30, density=True, color='C1', label='Monopole')\n",
    "plt.legend(loc=1)\n",
    "plt.xlim(-2,6)\n",
    "plt.xlabel('Opt Stat HD SNR')"
   ]
  },
  {
   "cell_type": "code",
   "execution_count": 22,
   "id": "8e6d44f4-2c3e-41b8-9d75-17911d139540",
   "metadata": {},
   "outputs": [
    {
     "data": {
      "text/plain": [
       "Text(0.5, 0, 'Opt Stat HD SNR')"
      ]
     },
     "execution_count": 22,
     "metadata": {},
     "output_type": "execute_result"
    },
    {
     "data": {
      "image/png": "[encoded data removed]",
      "text/plain": [
       "<Figure size 432x288 with 1 Axes>"
      ]
     },
     "metadata": {
      "needs_background": "light"
     },
     "output_type": "display_data"
    }
   ],
   "source": [
    "# Plot the resulting distribution and compare to the individual noise runs\n",
    "plt.hist(opt_m2a, histtype='step', lw=1.5, bins=30, density=True, color='C0', label='HD')\n",
    "plt.hist(opt_mono, histtype='step', lw=1.5, bins=30, density=True, color='C1', label='Monopole')\n",
    "plt.legend(loc=1)\n",
    "# plt.xlim(-2,6)\n",
    "plt.xlabel('Opt Stat HD SNR')"
   ]
  },
  {
   "cell_type": "markdown",
   "id": "b6968e88",
   "metadata": {},
   "source": [
    "## Other Things To Do:\n",
    "    - Look at the value of the Opt Stat in addition to the SNR.\n",
    "    - Test out another ORF (dipole perhaps?).\n",
    "    - There are two other simulated datasets, one with a smaller injected GW and one with a louder one.\n",
    "      Play around with these to see what impact the choice of the noise values has when the signal changes. "
   ]
  },
  {
   "cell_type": "code",
   "execution_count": null,
   "id": "bf702e66",
   "metadata": {},
   "outputs": [],
   "source": []
  },
  {
   "cell_type": "code",
   "execution_count": null,
   "id": "2e22985e",
   "metadata": {},
   "outputs": [],
   "source": []
  }
 ],
 "metadata": {
  "kernelspec": {
   "display_name": "Python 3 (ipykernel)",
   "language": "python",
   "name": "python3"
  },
  "language_info": {
   "codemirror_mode": {
    "name": "ipython",
    "version": 3
   },
   "file_extension": ".py",
   "mimetype": "text/x-python",
   "name": "python",
   "nbconvert_exporter": "python",
   "pygments_lexer": "ipython3",
   "version": "3.9.13"
  }
 },
 "nbformat": 4,
 "nbformat_minor": 5
}
