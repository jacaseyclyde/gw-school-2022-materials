{
 "cells": [
  {
   "cell_type": "markdown",
   "id": "vietnamese-angola",
   "metadata": {},
   "source": [
    "# Spectroscopy tutorial\n",
    "2022 VIPER Summer School on PTA GW Astrophysics (07/20/2022)\n",
    "<br>\n",
    "J. Runnoe\n",
    "<br><br>\n",
    "In this tutorial, you will download a quasar spectrum, apply a Galactic extinction correction, and place the spectrum in the rest frame. This will be useful in the event that e.g., you have a gravitational wave detection or source of interest and want to analyze its optical spectra."
   ]
  },
  {
   "cell_type": "markdown",
   "id": "internal-toronto",
   "metadata": {},
   "source": [
    "# Install and import"
   ]
  },
  {
   "cell_type": "code",
   "execution_count": null,
   "id": "western-wedding",
   "metadata": {},
   "outputs": [],
   "source": [
    "# Try uncommenting these lines if things are not installed\n",
    "#!pip install astropy\n",
    "#!pip install extinction\n",
    "#!pip install sfdmap"
   ]
  },
  {
   "cell_type": "code",
   "execution_count": null,
   "id": "italian-coalition",
   "metadata": {},
   "outputs": [],
   "source": [
    "# If you do not have Galactic dust maps on your computer,\n",
    "# you will need to download some. These will save to ./sfddata/\n",
    "# in the current working directory. The whole thing is ~300MB.\n",
    "#!git clone https://github.com/kbarbary/sfddata"
   ]
  },
  {
   "cell_type": "code",
   "execution_count": null,
   "id": "disciplinary-scene",
   "metadata": {},
   "outputs": [],
   "source": [
    "import matplotlib.pyplot as plt\n",
    "%matplotlib inline\n",
    "import numpy as np\n",
    "import os\n",
    "from astropy.io import fits\n",
    "import sfdmap\n",
    "import extinction\n",
    "from astropy import units as u\n",
    "from astropy.coordinates import SkyCoord"
   ]
  },
  {
   "cell_type": "markdown",
   "id": "planned-yemen",
   "metadata": {},
   "source": [
    "# Definitions"
   ]
  },
  {
   "cell_type": "code",
   "execution_count": null,
   "id": "white-promise",
   "metadata": {},
   "outputs": [],
   "source": [
    "# some plot defaults\n",
    "plt.rc('text', usetex=True)"
   ]
  },
  {
   "cell_type": "code",
   "execution_count": null,
   "id": "intellectual-cisco",
   "metadata": {},
   "outputs": [],
   "source": [
    "# define paths\n",
    "path_dust = '/Users/runnojc1/Software/data/sfddata/' # this is where you saved sfddata/\n",
    "path_data = './spec/'                                # path where you will save fits files of spectra you download"
   ]
  },
  {
   "cell_type": "markdown",
   "id": "uniform-nowhere",
   "metadata": {},
   "source": [
    "# The Sloan Digital Sky Survey\n",
    "\n",
    "The Sloan Digital Sky Survey (SDSS) has been running for over 20 years and is a great source of quasar and galaxy spectra. The survey was conducted in five installments; the current iteration is SDSS V which is expected to run until 2026. Approximately annually, there are public data releases; the latest data release is DR17 (but there are some bugs in the associated tools and I'd recommend sticking to DR16 for now).\n",
    "\n",
    "Spectra in SDSS are identified based on three numbers: MJD-plate-fiber. Respectively, they are the mean Julian date (MJD) when the spectrum was taken, and number of the plate and fiber it was taken with. The SDSS telescope has a fiber-fed spectrograph so these numbers uniquely identify a spectrum.\n",
    "\n",
    "SDSS spectra are stored as fits files on the Science Archive Server (SAS). You can use your browser to see spectra for SDSS I-III <a href=\"https://data.sdss.org/sas/dr16/sdss/spectro/redux/26/spectra/\">here</a> and spectra for SDSS IV-V <a href=\"https://data.sdss.org/sas/dr16/eboss/spectro/redux/v5_13_0/spectra/\">here</a>. Spectra here are organized by their plates.\n",
    "\n",
    "Given the equatorial coordinates of a quasar, there are a few different ways for gathering the relevant MJD-plate-fiber so you can find its spectra in the SAS.\n",
    "\n",
    "1. If you have only one target, you can manually enter the coordinates on the latest <a href=\"http://skyserver.sdss.org/dr16/en/tools/chart/navi.aspx\">SDSS Navigate page</a>. If you click \"Explore\" on the right, it will take you to a page with lots of information for your target. If you click \"All Spectra\" on the left, you will see a list of all available spectra. Clicking one will give a version of the page for that spectrum, and then \"FITS\" will take you to a download page with a link that automatically grabs the spectrum from the SAS.\n",
    "2. You can <a href=\"https://dr16.sdss.org/optical/spectrum/search\">use this GUI</a> to do a bulk search of the SAS, but it is limited to 1000 objects.\n",
    "3. You can generate the commands to <a href=\"https://www.sdss.org/dr16/data_access/bulk/#OpticalSpectraPer-ObjectFiles\">use wget or rsync to bulk download</a> them from the SAS directly. You would need a <a href=\"https://www.sdss.org/dr16/algorithms/qso_catalog/\">quasar catalog</a> or <a href=\"http://skyserver.sdss.org/dr16/en/tools/search/sql.aspx\">SQL search</a> to obtain the MJD-plate-fiber to construct the wget query.\n",
    "    \n",
    "We will use the first option, but you could make automate this process using the other two."
   ]
  },
  {
   "cell_type": "markdown",
   "id": "detailed-association",
   "metadata": {},
   "source": [
    "# Download the spectra\n",
    "\n",
    "Go to the <a href=\"http://skyserver.sdss.org/dr16/en/tools/chart/navi.aspx\">DR16 Navigate</a> page and enter the coordinates below. Download a FITS file for the first spectrum of this object. "
   ]
  },
  {
   "cell_type": "code",
   "execution_count": null,
   "id": "religious-hierarchy",
   "metadata": {},
   "outputs": [],
   "source": [
    "ra = 15.60965549\n",
    "dec = -0.65125717"
   ]
  },
  {
   "cell_type": "markdown",
   "id": "mounted-witch",
   "metadata": {},
   "source": [
    "# Open the spectrum\n",
    "\n",
    "The <a href=\"https://data.sdss.org/datamodel/files/BOSS_SPECTRO_REDUX/RUN2D/spectra/PLATE4/spec.html\">SDSS spectral data model</a> describes what you have downloaded from the Explore page. These files include information from <a href=\"https://data.sdss.org/datamodel/files/SPECTRO_REDUX/specObj.html\">specObj</a>.\n",
    "\n",
    "Open a fits file, explore the header and data, and make a plot of the spectrum. If you are not familiar with reading FITS files in Python, read more <a href=\"https://docs.astropy.org/en/stable/io/fits/index.html#\">here</a>.\n",
    "\n",
    "Namely, you should read in the header data unit (HDU) which is a multi-extension stack of data and corresponding headers of information. Then, you can inspect the headers to learn what data are available, units, etc. You should identify the wavelength, flux, and flux uncertainty arrays to plot the spectrum, and pay particular attention to their units (check the data model)."
   ]
  },
  {
   "cell_type": "code",
   "execution_count": null,
   "id": "supposed-panic",
   "metadata": {},
   "outputs": [],
   "source": [
    "# the name of the file you downloaded\n",
    "file = "
   ]
  },
  {
   "cell_type": "code",
   "execution_count": null,
   "id": "advanced-charlotte",
   "metadata": {},
   "outputs": [],
   "source": [
    "# read in the header data unit (HDU)\n",
    "hdu = \n",
    "\n",
    "# print info about the HDU to see what the extensions are\n",
    "print()"
   ]
  },
  {
   "cell_type": "code",
   "execution_count": null,
   "id": "numeric-helping",
   "metadata": {},
   "outputs": [],
   "source": [
    "# grab the header and data for the extension with the spectrum\n",
    "hdr = \n",
    "dat = "
   ]
  },
  {
   "cell_type": "code",
   "execution_count": null,
   "id": "controversial-mills",
   "metadata": {},
   "outputs": [],
   "source": [
    "# define the wavelength, flux, and uncertainty arrays\n",
    "# make sure to note the units, which are found in the data model description\n",
    "obs_wave    = \n",
    "obs_flux    = \n",
    "obs_fluxerr = "
   ]
  },
  {
   "cell_type": "code",
   "execution_count": null,
   "id": "delayed-student",
   "metadata": {},
   "outputs": [],
   "source": [
    "# plot flux versus wavelength\n",
    "# include units on axis labels\n",
    "# use drawstyle='steps-mid' to display spectra properly\n",
    "\n",
    "# can you identify any of the emission lines?"
   ]
  },
  {
   "cell_type": "markdown",
   "id": "tested-dominant",
   "metadata": {},
   "source": [
    "# Get the redshift\n",
    "\n",
    "Quasars are at cosmological redshifts. SDSS spectra store a pipeline redshift, which is calculated by identifying emission lines with known wavelengths in the spectrum. It is usually (but not always) reliable."
   ]
  },
  {
   "cell_type": "code",
   "execution_count": null,
   "id": "identical-darwin",
   "metadata": {},
   "outputs": [],
   "source": [
    "# grab the best redshift\n",
    "z = "
   ]
  },
  {
   "cell_type": "markdown",
   "id": "adequate-drove",
   "metadata": {},
   "source": [
    "# Correct the fluxes for Galactic extinction\n",
    "\n",
    "Light from quasars is attenuated by dust in our own Galaxy and SDSS spectra are not corrected for this effect.\n",
    "\n",
    "To correct for Galactic extinction, you will need to:\n",
    "1. Use <a href=\"https://github.com/kbarbary/sfdmap\">sfdmap</a> to load a map of dust in the Milky Way.\n",
    "2. Calculate the amount of reddening, given by the color excess $E(B-V)$, along the line of sight to your target.\n",
    "3. Calculate $A_{V}$, the magnitudes of extinction in the $V$ band, assuming $R_{V} = A_{V}/E(B-V) = 3.1$. This is appropriate for the Milky Way, but can differ in other galaxies.\n",
    "4. Use a dust law from the <a href=\"https://extinction.readthedocs.io/en/latest/\">extinction</a> package to translate magnitudes of extinction in the $V$ band to each wavelength in your wavelength array. Different grain compositions, grain sizes, etc. can cause different dust laws. The Fitzpatrick et al. (1999) is a good choice for Milky Way extinction.\n",
    "5. Correct the flux and flux uncertainty arrays for Galactic extinction, following $f_{\\lambda,\\textrm{dered}} = f_{\\lambda,\\textrm{obs}} \\times 10^{(0.4\\times A_{\\lambda})}$. Extinction has a built-in package for this."
   ]
  },
  {
   "cell_type": "code",
   "execution_count": null,
   "id": "brave-toilet",
   "metadata": {},
   "outputs": [],
   "source": [
    "# load the dust map\n",
    "m   = "
   ]
  },
  {
   "cell_type": "code",
   "execution_count": null,
   "id": "skilled-proxy",
   "metadata": {},
   "outputs": [],
   "source": [
    "# calculate reddening along the line of sight\n",
    "ebv = "
   ]
  },
  {
   "cell_type": "code",
   "execution_count": null,
   "id": "valuable-mountain",
   "metadata": {},
   "outputs": [],
   "source": [
    "# calculate magnitudes of extinction\n",
    "Av  = "
   ]
  },
  {
   "cell_type": "code",
   "execution_count": null,
   "id": "quiet-discretion",
   "metadata": {},
   "outputs": [],
   "source": [
    "# translate to other wavelengths\n",
    "Alam = "
   ]
  },
  {
   "cell_type": "code",
   "execution_count": null,
   "id": "extraordinary-values",
   "metadata": {},
   "outputs": [],
   "source": [
    "# correct for extinction\n",
    "flux = "
   ]
  },
  {
   "cell_type": "code",
   "execution_count": null,
   "id": "residential-tactics",
   "metadata": {},
   "outputs": [],
   "source": [
    "# plot and verify that the corrected flux is brighter\n"
   ]
  },
  {
   "cell_type": "markdown",
   "id": "running-device",
   "metadata": {},
   "source": [
    "# Correct for cosmic expansion\n",
    "\n",
    "Remove the effect of redshift, by dividing wavelength array by $1+z$."
   ]
  },
  {
   "cell_type": "code",
   "execution_count": null,
   "id": "variable-floor",
   "metadata": {},
   "outputs": [],
   "source": [
    "# calculate the rest wavelength\n",
    "wave = "
   ]
  },
  {
   "cell_type": "code",
   "execution_count": null,
   "id": "wound-traffic",
   "metadata": {},
   "outputs": [],
   "source": [
    "# plot and verify that there are strong emission lines \n",
    "# for H-alpha and H-beta\n"
   ]
  },
  {
   "cell_type": "markdown",
   "id": "latest-electron",
   "metadata": {},
   "source": [
    "# What's next?\n",
    "\n",
    "Now you have a spectrum that's ready for further analysis. Other useful tasks include:\n",
    "\n",
    "- Explore the process of downloading spectra, with the aim of doing as many steps as possible in Python. It's possible to run the entire thing from a Jupyter notebook.\n",
    "- Automate all of the above steps, so that you can give a list of RAs and decs and obtain extinction corrected, rest-frame spectra.\n",
    "- What could scientific analysis look like? You might do a spectral decomposition, e.g. using a package like <a href=\"https://github.com/legolason/PyQSOFit\">this</a>, to isolate the continuum and width of a broad line so that you can <a href=\"https://ui.adsabs.harvard.edu/abs/2006ApJ...641..689V/abstract\">calculate black hole mass</a>."
   ]
  }
 ],
 "metadata": {
  "kernelspec": {
   "display_name": "Python [conda env:python37] *",
   "language": "python",
   "name": "conda-env-python37-py"
  },
  "language_info": {
   "codemirror_mode": {
    "name": "ipython",
    "version": 3
   },
   "file_extension": ".py",
   "mimetype": "text/x-python",
   "name": "python",
   "nbconvert_exporter": "python",
   "pygments_lexer": "ipython3",
   "version": "3.7.0"
  }
 },
 "nbformat": 4,
 "nbformat_minor": 5
}
