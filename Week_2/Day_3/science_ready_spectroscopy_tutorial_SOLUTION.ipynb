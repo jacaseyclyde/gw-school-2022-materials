{
 "cells": [
  {
   "cell_type": "markdown",
   "id": "instrumental-europe",
   "metadata": {},
   "source": [
    "# Spectroscopy tutorial\n",
    "2022 VIPER Summer School on PTA GW Astrophysics (07/20/2022)\n",
    "<br>\n",
    "J. Runnoe\n",
    "<br><br>\n",
    "In this tutorial, you will download a quasar spectrum, apply a Galactic extinction correction, and place the spectrum in the rest frame. This will be useful in the event that e.g., you have a gravitational wave detection or source of interest and want to analyze its optical spectra."
   ]
  },
  {
   "cell_type": "markdown",
   "id": "educational-sperm",
   "metadata": {},
   "source": [
    "# Install and import"
   ]
  },
  {
   "cell_type": "code",
   "execution_count": 1,
   "id": "chemical-arrow",
   "metadata": {},
   "outputs": [],
   "source": [
    "# Try uncommenting these lines if things are not installed\n",
    "#!pip install astropy\n",
    "#!pip install extinction\n",
    "#!pip install sfdmap"
   ]
  },
  {
   "cell_type": "code",
   "execution_count": 2,
   "id": "higher-production",
   "metadata": {},
   "outputs": [],
   "source": [
    "# If you do not have Galactic dust maps on your computer,\n",
    "# you will need to download some. These will save to ./sfddata/\n",
    "# in the current working directory. The whole thing is ~300MB.\n",
    "#!git clone https://github.com/kbarbary/sfddata"
   ]
  },
  {
   "cell_type": "code",
   "execution_count": 3,
   "id": "naval-polls",
   "metadata": {},
   "outputs": [],
   "source": [
    "import matplotlib.pyplot as plt\n",
    "%matplotlib inline\n",
    "import numpy as np\n",
    "import os\n",
    "from astropy.io import fits\n",
    "import sfdmap\n",
    "import extinction\n",
    "from astropy import units as u\n",
    "from astropy.coordinates import SkyCoord"
   ]
  },
  {
   "cell_type": "markdown",
   "id": "peripheral-ceramic",
   "metadata": {},
   "source": [
    "# Definitions"
   ]
  },
  {
   "cell_type": "code",
   "execution_count": 4,
   "id": "racial-centre",
   "metadata": {},
   "outputs": [],
   "source": [
    "# some plot defaults\n",
    "plt.rc('text', usetex=True)"
   ]
  },
  {
   "cell_type": "code",
   "execution_count": 5,
   "id": "occupied-enlargement",
   "metadata": {},
   "outputs": [],
   "source": [
    "# define paths\n",
    "path_dust = '/Users/runnojc1/Software/data/sfddata/' # this is where you saved sfddata/\n",
    "path_data = './spec/'                                # path where you will save fits files of spectra you download"
   ]
  },
  {
   "cell_type": "markdown",
   "id": "advance-percentage",
   "metadata": {},
   "source": [
    "# The Sloan Digital Sky Survey\n",
    "\n",
    "The Sloan Digital Sky Survey (SDSS) has been running for over 20 years and is a great source of quasar and galaxy spectra. The survey was conducted in five installments; the current iteration is SDSS V which is expected to run until 2026. Approximately annually, there are public data releases; the latest data release is DR17 (but there are some bugs in the associated tools and I'd recommend sticking to DR16 for now).\n",
    "\n",
    "Spectra in SDSS are identified based on three numbers: MJD-plate-fiber. Respectively, they are the mean Julian date (MJD) when the spectrum was taken, and number of the plate and fiber it was taken with. The SDSS telescope has a fiber-fed spectrograph so these numbers uniquely identify a spectrum.\n",
    "\n",
    "SDSS spectra are stored as fits files on the Science Archive Server (SAS). You can use your browser to see spectra for SDSS I-III <a href=\"https://data.sdss.org/sas/dr16/sdss/spectro/redux/26/spectra/\">here</a> and spectra for SDSS IV-V <a href=\"https://data.sdss.org/sas/dr16/eboss/spectro/redux/v5_13_0/spectra/\">here</a>. Spectra here are organized by their plates.\n",
    "\n",
    "Given the equatorial coordinates of a quasar, there are a few different ways for gathering the relevant MJD-plate-fiber so you can find its spectra in the SAS.\n",
    "\n",
    "1. If you have only one target, you can manually enter the coordinates on the latest <a href=\"http://skyserver.sdss.org/dr16/en/tools/chart/navi.aspx\">SDSS Navigate page</a>. If you click \"Explore\" on the right, it will take you to a page with lots of information for your target. If you click \"All Spectra\" on the left, you will see a list of all available spectra. Clicking one will give a version of the page for that spectrum, and then \"FITS\" will take you to a download page with a link that automatically grabs the spectrum from the SAS.\n",
    "2. You can <a href=\"https://dr16.sdss.org/optical/spectrum/search\">use this GUI</a> to do a bulk search of the SAS, but it is limited to 1000 objects.\n",
    "3. You can generate the commands to <a href=\"https://www.sdss.org/dr16/data_access/bulk/#OpticalSpectraPer-ObjectFiles\">use wget or rsync to bulk download</a> them from the SAS directly. You would need a <a href=\"https://www.sdss.org/dr16/algorithms/qso_catalog/\">quasar catalog</a> or <a href=\"http://skyserver.sdss.org/dr16/en/tools/search/sql.aspx\">SQL search</a> to obtain the MJD-plate-fiber to construct the wget query.\n",
    "    \n",
    "We will use the first option, but you could make automate this process using the other two."
   ]
  },
  {
   "cell_type": "markdown",
   "id": "psychological-netscape",
   "metadata": {},
   "source": [
    "# Download the spectra\n",
    "\n",
    "Go to the <a href=\"http://skyserver.sdss.org/dr16/en/tools/chart/navi.aspx\">DR16 Navigate</a> page and enter the coordinates below. Download a FITS file for the first spectrum of this object. "
   ]
  },
  {
   "cell_type": "code",
   "execution_count": 6,
   "id": "religious-memorabilia",
   "metadata": {},
   "outputs": [],
   "source": [
    "# http://skyserver.sdss.org/dr16/en/tools/explore/Summary.aspx?id=1237663783130497044\n",
    "ra = 15.60965549\n",
    "dec = -0.65125717"
   ]
  },
  {
   "cell_type": "markdown",
   "id": "growing-running",
   "metadata": {},
   "source": [
    "# Open the spectrum\n",
    "\n",
    "The <a href=\"https://data.sdss.org/datamodel/files/BOSS_SPECTRO_REDUX/RUN2D/spectra/PLATE4/spec.html\">SDSS spectral data model</a> describes what you have downloaded from the Explore page. These files include information from <a href=\"https://data.sdss.org/datamodel/files/SPECTRO_REDUX/specObj.html\">specObj</a>.\n",
    "\n",
    "Open a fits file, explore the header and data, and make a plot of the spectrum. If you are not familiar with reading FITS files in Python, read more <a href=\"https://docs.astropy.org/en/stable/io/fits/index.html#\">here</a>.\n",
    "\n",
    "Namely, you should read in the header data unit (HDU) which is a multi-extension stack of data and corresponding headers of information. Then, you can inspect the headers to learn what data are available, units, etc. You should identify the wavelength, flux, and flux uncertainty arrays to plot the spectrum, and pay particular attention to their units (check the data model)."
   ]
  },
  {
   "cell_type": "code",
   "execution_count": 7,
   "id": "acceptable-pittsburgh",
   "metadata": {},
   "outputs": [],
   "source": [
    "# the name of the file you downloaded\n",
    "file = 'spec-0396-51816-0276.fits'"
   ]
  },
  {
   "cell_type": "code",
   "execution_count": 8,
   "id": "remarkable-guard",
   "metadata": {},
   "outputs": [
    {
     "name": "stdout",
     "output_type": "stream",
     "text": [
      "Filename: ./spec/spec-0396-51816-0276.fits\n",
      "No.    Name      Ver    Type      Cards   Dimensions   Format\n",
      "  0  PRIMARY       1 PrimaryHDU     138   ()      \n",
      "  1  COADD         1 BinTableHDU     26   3820R x 8C   [E, E, E, J, J, E, E, E]   \n",
      "  2  SPECOBJ       1 BinTableHDU    262   1R x 126C   [6A, 4A, 16A, 23A, 16A, 8A, E, E, E, J, E, E, J, B, B, B, B, B, B, J, 22A, 19A, 19A, 22A, 19A, I, 3A, 3A, 1A, J, D, D, D, E, E, 19A, 8A, J, J, J, J, K, K, J, J, J, J, J, J, K, K, K, K, I, J, J, J, J, 5J, D, D, 6A, 21A, E, E, E, J, E, 24A, 10J, J, 10E, E, E, E, E, E, E, J, E, E, E, J, E, 5E, E, 10E, 10E, 10E, 5E, 5E, 5E, 5E, 5E, J, J, E, E, E, E, E, E, 25A, 21A, 10A, E, E, E, E, E, E, E, E, J, E, E, J, 1A, 1A, E, E, J, J, 1A, 5E, 5E]   \n",
      "  3  SPZLINE       1 BinTableHDU     48   29R x 19C   [J, J, J, 13A, D, E, E, E, E, E, E, E, E, E, E, J, J, E, E]   \n",
      "None\n"
     ]
    }
   ],
   "source": [
    "# read in the header data unit (HDU)\n",
    "hdu = fits.open(path_data+file)\n",
    "\n",
    "# print info about the HDU to see what the extensions are\n",
    "print(hdu.info())"
   ]
  },
  {
   "cell_type": "code",
   "execution_count": 9,
   "id": "manual-committee",
   "metadata": {},
   "outputs": [],
   "source": [
    "# grab the header and data for the extension with the spectrum\n",
    "hdr = hdu[1].header\n",
    "dat = hdu[1].data"
   ]
  },
  {
   "cell_type": "code",
   "execution_count": 10,
   "id": "lasting-acting",
   "metadata": {},
   "outputs": [],
   "source": [
    "# define the wavelength, flux, and uncertainty arrays\n",
    "# make sure to note the units, which are found in the data model description\n",
    "obs_wave    = 10**dat['LOGLAM']       # Angstroms\n",
    "obs_flux    = dat['FLUX']             # 1d-17 erg/s/cm2/A\n",
    "obs_fluxerr = 1./np.sqrt(dat['IVAR']) # 1d-17 erg/s/cm2/A "
   ]
  },
  {
   "cell_type": "code",
   "execution_count": 11,
   "id": "visible-hungary",
   "metadata": {},
   "outputs": [
    {
     "data": {
      "image/png": "[encoded data removed]",
      "text/plain": [
       "<Figure size 432x288 with 1 Axes>"
      ]
     },
     "metadata": {
      "needs_background": "light"
     },
     "output_type": "display_data"
    }
   ],
   "source": [
    "# plot flux versus wavelength\n",
    "# include units on axis labels\n",
    "# use drawstyle='steps-mid' to display spectra properly\n",
    "fig = plt.figure()\n",
    "ax  = plt.axes()\n",
    "ax.plot(obs_wave,obs_flux,drawstyle='steps-mid',color='black')\n",
    "ax.set_xlim(np.min(obs_wave),np.max(obs_wave))\n",
    "ax.set_xlabel(r'Wavelength [\\AA]')\n",
    "ax.set_ylabel(r'$f_\\lambda$ [10$^{-17}$ erg s$^{-1}$ cm$^{-2}$ \\AA$^{-1}$]')\n",
    "plt.tight_layout()  \n",
    "plt.show()\n",
    "\n",
    "# can you identify any of the emission lines?"
   ]
  },
  {
   "cell_type": "markdown",
   "id": "sharp-minnesota",
   "metadata": {},
   "source": [
    "# Get the redshift\n",
    "\n",
    "Quasars are at cosmological redshifts. SDSS spectra store a pipeline redshift, which is calculated by identifying emission lines with known wavelengths in the spectrum. It is usually (but not always) reliable."
   ]
  },
  {
   "cell_type": "code",
   "execution_count": 12,
   "id": "mysterious-complement",
   "metadata": {},
   "outputs": [],
   "source": [
    "# grab the best redshift\n",
    "z = hdu[2].data['Z']"
   ]
  },
  {
   "cell_type": "markdown",
   "id": "fossil-stand",
   "metadata": {},
   "source": [
    "# Correct the fluxes for Galactic extinction\n",
    "\n",
    "Light from quasars is attenuated by dust in our own Galaxy and SDSS spectra are not corrected for this effect.\n",
    "\n",
    "To correct for Galactic extinction, you will need to:\n",
    "1. Use <a href=\"https://github.com/kbarbary/sfdmap\">sfdmap</a> to load a map of dust in the Milky Way.\n",
    "2. Calculate the amount of reddening, given by the color excess $E(B-V)$, along the line of sight to your target.\n",
    "3. Calculate $A_{V}$, the magnitudes of extinction in the $V$ band, assuming $R_{V} = A_{V}/E(B-V) = 3.1$. This is appropriate for the Milky Way, but can differ in other galaxies.\n",
    "4. Use a dust law from the <a href=\"https://extinction.readthedocs.io/en/latest/\">extinction</a> package to translate magnitudes of extinction in the $V$ band to each wavelength in your wavelength array. Different grain compositions, grain sizes, etc. can cause different dust laws. The Fitzpatrick et al. (1999) is a good choice for Milky Way extinction.\n",
    "5. Correct the flux and flux uncertainty arrays for Galactic extinction, following $f_{\\lambda,\\textrm{dered}} = f_{\\lambda,\\textrm{obs}} \\times 10^{(0.4\\times A_{\\lambda})}$. Extinction has a built-in package for this."
   ]
  },
  {
   "cell_type": "code",
   "execution_count": 13,
   "id": "manual-defense",
   "metadata": {},
   "outputs": [],
   "source": [
    "# load the dust map\n",
    "m   = sfdmap.SFDMap(path_dust)"
   ]
  },
  {
   "cell_type": "code",
   "execution_count": 14,
   "id": "unable-emerald",
   "metadata": {},
   "outputs": [],
   "source": [
    "# calculate reddening along the line of sight\n",
    "ebv = m.ebv(ra,dec)"
   ]
  },
  {
   "cell_type": "code",
   "execution_count": 15,
   "id": "sitting-network",
   "metadata": {},
   "outputs": [],
   "source": [
    "# calculate magnitudes of extinction\n",
    "Av  = 3.1*ebv"
   ]
  },
  {
   "cell_type": "code",
   "execution_count": 16,
   "id": "traditional-responsibility",
   "metadata": {},
   "outputs": [],
   "source": [
    "# translate to other wavelengths\n",
    "Alam = extinction.fitzpatrick99(obs_wave.astype('double'),Av)"
   ]
  },
  {
   "cell_type": "code",
   "execution_count": 17,
   "id": "unlimited-treaty",
   "metadata": {},
   "outputs": [],
   "source": [
    "# correct for extinction\n",
    "flux = extinction.remove(Alam,obs_flux)"
   ]
  },
  {
   "cell_type": "code",
   "execution_count": 18,
   "id": "directed-morgan",
   "metadata": {},
   "outputs": [
    {
     "data": {
      "image/png": "[encoded data removed]",
      "text/plain": [
       "<Figure size 432x288 with 1 Axes>"
      ]
     },
     "metadata": {
      "needs_background": "light"
     },
     "output_type": "display_data"
    }
   ],
   "source": [
    "# plot and verify that the corrected flux is brighter\n",
    "fig = plt.figure()\n",
    "ax  = plt.axes()\n",
    "ax.plot(obs_wave,obs_flux,drawstyle='steps-mid',color='red')\n",
    "ax.plot(obs_wave,flux,drawstyle='steps-mid',color='blue')\n",
    "ax.set_xlim(np.min(obs_wave),np.max(obs_wave))\n",
    "ax.set_xlabel(r'Wavelength [\\AA]')\n",
    "ax.set_ylabel(r'$f_\\lambda$ [10$^{-17}$ erg s$^{-1}$ cm$^{-2}$ \\AA$^{-1}$]')\n",
    "plt.tight_layout()  \n",
    "plt.show()"
   ]
  },
  {
   "cell_type": "markdown",
   "id": "activated-juice",
   "metadata": {},
   "source": [
    "# Correct for cosmic expansion\n",
    "\n",
    "Remove the effect of redshift, by dividing wavelength array by $1+z$."
   ]
  },
  {
   "cell_type": "code",
   "execution_count": 19,
   "id": "bacterial-ordering",
   "metadata": {},
   "outputs": [],
   "source": [
    "# calculate the rest wavelength\n",
    "wave = obs_wave/(1+z)"
   ]
  },
  {
   "cell_type": "code",
   "execution_count": 20,
   "id": "selected-society",
   "metadata": {},
   "outputs": [
    {
     "data": {
      "image/png": "[encoded data removed]",
      "text/plain": [
       "<Figure size 432x288 with 1 Axes>"
      ]
     },
     "metadata": {
      "needs_background": "light"
     },
     "output_type": "display_data"
    }
   ],
   "source": [
    "# plot and verify that there are strong emission lines \n",
    "# for H-alpha and H-beta\n",
    "fig = plt.figure()\n",
    "ax  = plt.axes()\n",
    "ax.plot(wave,flux,drawstyle='steps-mid',color='blue')\n",
    "ax.axvline(6563,color='k',linestyle='--')\n",
    "ax.axvline(4863,color='k',linestyle='--')\n",
    "ax.set_xlim(np.min(wave),np.max(wave))\n",
    "ax.plot(wave,flux,drawstyle='steps-mid',color='blue')\n",
    "ax.set_xlabel(r'Wavelength [\\AA]')\n",
    "ax.set_ylabel(r'$f_\\lambda$ [10$^{-17}$ erg s$^{-1}$ cm$^{-2}$ \\AA$^{-1}$]')\n",
    "plt.tight_layout()  \n",
    "plt.show()"
   ]
  },
  {
   "cell_type": "markdown",
   "id": "comparable-insight",
   "metadata": {},
   "source": [
    "# What's next?\n",
    "\n",
    "Now you have a spectrum that's ready for further analysis. Other useful tasks include:\n",
    "\n",
    "- Explore the process of downloading spectra, with the aim of doing as many steps as possible in Python. It's possible to run the entire thing from a Jupyter notebook.\n",
    "- Automate all of the above steps, so that you can give a list of RAs and decs and obtain extinction corrected, rest-frame spectra.\n",
    "- What could scientific analysis look like? You might do a spectral decomposition, e.g. using a package like <a href=\"https://github.com/legolason/PyQSOFit\">this</a>, to isolate the continuum and width of a broad line so that you can <a href=\"https://ui.adsabs.harvard.edu/abs/2006ApJ...641..689V/abstract\">calculate black hole mass</a>."
   ]
  }
 ],
 "metadata": {
  "kernelspec": {
   "display_name": "Python [conda env:python37] *",
   "language": "python",
   "name": "conda-env-python37-py"
  },
  "language_info": {
   "codemirror_mode": {
    "name": "ipython",
    "version": 3
   },
   "file_extension": ".py",
   "mimetype": "text/x-python",
   "name": "python",
   "nbconvert_exporter": "python",
   "pygments_lexer": "ipython3",
   "version": "3.7.0"
  }
 },
 "nbformat": 4,
 "nbformat_minor": 5
}
