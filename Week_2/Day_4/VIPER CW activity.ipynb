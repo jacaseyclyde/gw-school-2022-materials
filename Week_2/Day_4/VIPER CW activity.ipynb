{
 "cells": [
  {
   "cell_type": "markdown",
   "metadata": {},
   "source": [
    "# Continuous Waves - Why do we do that??"
   ]
  },
  {
   "cell_type": "markdown",
   "metadata": {},
   "source": [
    "In addition to the stochastic background, we expect a number of closer, louder sources to stand out to us. These are high-mass, inspiraling black hole binaries with orbital frequencies between 1 and 300 nHz which are evolving very slowly over the course of PTA observations. As such, we term these signals \"continuous gravitational waves\" since PTA experiments don't witness these binaries changing much in orbital frequency. \n",
    "\n",
    "Continuous waves searches are a bit different than PTA searches for the GWB, because we can model the entire waveform for a single binary emitting GWs (this is why they're a type of \"deterministic\" signal!). While in theory this makes the search simpler, in reality, we need to model a lot of parameters to make this work.\n",
    "\n",
    "In this exercise, we'll start by injecting a continuous wave signal into some simulated pulsar timing data. First, we inspect the residuals by eye and then investigate how each parameter affects the delays induced by a CW. Then, we'll set up an enterprise run to conduct a full MCMC to see how much information we can recover. By doing so with a few different setups, by the end of this tutorial, you should have a good understanding of not only the numerous steps necessary to run a CW search, but also *why* they're necessary! "
   ]
  },
  {
   "cell_type": "code",
   "execution_count": null,
   "metadata": {},
   "outputs": [],
   "source": [
    "# Useful imports\n",
    "%matplotlib inline\n",
    "\n",
    "import numpy as np\n",
    "import libstempo.toasim as LT\n",
    "import libstempo.plot as LP\n",
    "import matplotlib.pyplot as plt\n",
    "from enterprise.pulsar import Pulsar\n",
    "\n",
    "\n",
    "\n",
    "import astropy.constants as const\n",
    "from libstempo import eccUtils as eu\n",
    "from enterprise import constants as econst\n",
    "\n",
    "import astropy.units as u\n",
    "from astropy.coordinates import SkyCoord\n",
    "\n",
    "colors = plt.rcParams['axes.prop_cycle'].by_key()['color']"
   ]
  },
  {
   "cell_type": "markdown",
   "metadata": {},
   "source": [
    "### 0.0 Make personalized directory "
   ]
  },
  {
   "cell_type": "code",
   "execution_count": null,
   "metadata": {},
   "outputs": [],
   "source": [
    "INIT = 'INIT'\n",
    "DIR = './cw_test'\n",
    "!mkdir 'cw_test'"
   ]
  },
  {
   "cell_type": "markdown",
   "metadata": {},
   "source": [
    "# 1.0 Simulate Pulsar Data\n",
    "### 1.1 Generate fake `.par` files"
   ]
  },
  {
   "cell_type": "code",
   "execution_count": null,
   "metadata": {},
   "outputs": [],
   "source": [
    "# this function creates a parameter file for a simulated pulsar\n",
    "# it randomizes sky location, name, pulse frequency and parallax\n",
    "\n",
    "def make_fake_pulsar(DIR):\n",
    "    '''\n",
    "    Makes a fake pulsar par file\n",
    "    '''\n",
    "    output = \"MODE 1\\n\"\n",
    "    \n",
    "    # Sphere Point Picking\n",
    "    u = np.random.uniform()\n",
    "    v = np.random.uniform()\n",
    "    phi = 2*np.pi*u #using standard physics notation\n",
    "    theta = np.arccos(2*v-1) - np.pi/2\n",
    "\n",
    "    c = SkyCoord(phi,theta,frame='icrs',unit='rad')\n",
    "    cstr = c.to_string('hmsdms')\n",
    "    #print cstr\n",
    "    RAJ = cstr.split(\" \")[0].replace(\"h\",\":\").replace(\"m\",\":\")[:-1]\n",
    "    DECJ = cstr.split(\" \")[1].replace(\"d\",\":\").replace(\"m\",\":\")[:-1]\n",
    "    cstr = cstr.replace(\" \",\"\")\n",
    "    name = \"J\"+RAJ[0:2]+RAJ[3:5]+DECJ[0]+DECJ[1:3]+DECJ[4:6]\n",
    "\n",
    "    output += \"PSR      %s\\n\"%name\n",
    "\n",
    "    \n",
    "    output += \"PEPOCH   50000.0\\n\"    \n",
    "    output += \"POSEPOCH   50000.0\\n\"\n",
    "\n",
    "    period = 0.001*np.random.uniform(1,10) #seconds\n",
    "    output += \"F0       %0.10f 1\\n\"%(1.0/period)\n",
    "\n",
    "    output += \"RAJ      %s 1\\n\"%RAJ\n",
    "    output += \"DECJ     %s 1\\n\"%DECJ\n",
    "\n",
    "    dist = 1.0 #np.random.uniform(0.1,5) #kpc\n",
    "    output += \"PX       %0.5f 1\\n\"%(1.0/dist) #mas\n",
    "\n",
    "    filename = \"%s/%s.par\"%(DIR,name)\n",
    "    print(filename)\n",
    "    with open(filename,'w') as FILE:\n",
    "        FILE.write(output)\n",
    "\n",
    "    return filename.encode('ascii','ignore')"
   ]
  },
  {
   "cell_type": "markdown",
   "metadata": {},
   "source": [
    "Let's start by making 3 pulsars. The `make_fake_pulsar` function will create three pulsars randomly placed anywhere on the sky at a distance of 1 kpc."
   ]
  },
  {
   "cell_type": "code",
   "execution_count": null,
   "metadata": {},
   "outputs": [],
   "source": [
    "n_psrs = 3 #try changing this later! \n",
    "\n",
    "pars =[]\n",
    "for p in range(n_psrs):\n",
    "    pars.append(make_fake_pulsar(DIR))"
   ]
  },
  {
   "cell_type": "code",
   "execution_count": null,
   "metadata": {},
   "outputs": [],
   "source": []
  },
  {
   "cell_type": "markdown",
   "metadata": {},
   "source": [
    "### 1.2  Generate fake `.tim` files with an injected single GW source\n"
   ]
  },
  {
   "cell_type": "code",
   "execution_count": null,
   "metadata": {},
   "outputs": [],
   "source": [
    "#input GW parameters - useful for later! \n",
    "\n",
    "# Let's add a source at the Virgo cluster: 12h27m +12d43', D_L = 15 Mpc\n",
    "gwtheta_in = np.pi/2-(12+43.0/60)*np.pi/180 #theta = pi/2 - dec\n",
    "gwphi_in = (12*15+27.0/60)*np.pi/180\n",
    "DL_in = 15\n",
    "phase0_in = 0\n",
    "psi_in = 0\n",
    "inc_in = 0\n",
    "fgw_in = 1e-8\n",
    "mass_in = 5e9\n",
    "\n",
    "strain = (2*(const.G*mass_in*u.Msun/const.c**3)**(5./3)*(np.pi*fgw_in*u.Hz)**(2./3)*const.c/(DL_in*u.Mpc)).to(u.dimensionless_unscaled)\n",
    "print(np.log10(strain))"
   ]
  },
  {
   "cell_type": "code",
   "execution_count": null,
   "metadata": {},
   "outputs": [],
   "source": [
    "# this function simulates a pulsar's timing file\n",
    "# and injects the TOAs with a CW source of given chirp and frequency [Hz]\n",
    "\n",
    "def observe(par,noise=0.5,mass=5e9,fgw=1e-8, psrTerm = True, evolve = True):\n",
    "    ''' Noise in microseconds, mass in solar masses'''\n",
    "    # let's set up some fake TOAs\n",
    "    t = np.arange(53000,56650,30.0) #observing dates for 10 years\n",
    "    t += np.random.randn(len(t)) #observe every 30+/-1 days\n",
    "    psr = LT.fakepulsar(parfile=par,\n",
    "                        obstimes=t,\n",
    "                        toaerr=noise)\n",
    "    LT.add_equad(psr,equad=noise*1e-6) #this is mildly correlated white noise \n",
    "    \n",
    "    \n",
    "    LT.add_cgw(psr, gwtheta=gwtheta_in, gwphi=gwphi_in, mc=mass, dist=DL_in, \n",
    "               fgw=fgw, phase0=phase0_in, psi=psi_in, inc=inc_in, pdist=1.0,\n",
    "               pphase=None, psrTerm=psrTerm, evolve=evolve,\n",
    "               phase_approx=False, tref=psr.toas()[-1]*86400)\n",
    "#     psr.fit()\n",
    "    psr.savetim('%s.tim'%par.split('.')[0])\n",
    "    print('%s.tim'%par.split('.')[0])\n",
    "#     psr.savepar(par)\n",
    "\n",
    "    return psr\n"
   ]
  },
  {
   "cell_type": "code",
   "execution_count": null,
   "metadata": {},
   "outputs": [],
   "source": [
    "tims = []\n",
    "\n",
    "for par in pars:\n",
    "    tims.append( observe(par.decode('utf-8'), fgw = fgw_in))"
   ]
  },
  {
   "cell_type": "markdown",
   "metadata": {},
   "source": [
    "# 1.3 What does this look like?\n",
    "Let's take a look at the timing residuals with this injected signal with the `LP.plotres` function. "
   ]
  },
  {
   "cell_type": "code",
   "execution_count": null,
   "metadata": {},
   "outputs": [],
   "source": [
    "# some space to work\n",
    "\n",
    "for tim in tims:\n",
    "    LP.plotres(tim)"
   ]
  },
  {
   "cell_type": "markdown",
   "metadata": {},
   "source": [
    "Notice that these residuals are not just a sinusoid! There are a few interesting pieces of these waveforms that are important to disentangle. To do this, let's first turn our `.par` and `.tim` files into `enterprise` `Pulsars`, since they're a bit easier to work with."
   ]
  },
  {
   "cell_type": "code",
   "execution_count": null,
   "metadata": {
    "scrolled": true
   },
   "outputs": [],
   "source": [
    "psrs = []\n",
    "for par, tim in zip(pars, tims):\n",
    "    psrs.append(Pulsar(par, tim))\n"
   ]
  },
  {
   "cell_type": "markdown",
   "metadata": {},
   "source": [
    "Since these are fake pulsars, enterprise doesn't have a distance measurement for them. \n",
    "Instead, it uses the assumption that they're approximately 1 kpc away; since we created them with `make_fake_pulsar`, which places the pulsars at a distance of 1 kpc, this assumption is correct!"
   ]
  },
  {
   "cell_type": "markdown",
   "metadata": {},
   "source": [
    "To have a good understanding of how to set up a CW search and why each piece is necessary, let's take a look at a few things that make the CW signals look so distinct. \n",
    "\n",
    "First is the antenna pattern response, which affects how strongly a pulsar at any position on the sky will be affected by a CW from a source in a given location."
   ]
  },
  {
   "cell_type": "code",
   "execution_count": null,
   "metadata": {},
   "outputs": [],
   "source": [
    "from enterprise.signals.utils import create_gw_antenna_pattern\n",
    "import healpy as hp"
   ]
  },
  {
   "cell_type": "code",
   "execution_count": null,
   "metadata": {},
   "outputs": [],
   "source": [
    "def plot_apf(psrs, gwtheta, gwphi):\n",
    "    npix = hp.nside2npix(8)\n",
    "\n",
    "    theta, phi = hp.pix2ang(8, range(768))\n",
    "    data_p_pos = np.zeros(npix)\n",
    "    data_x_pos = np.zeros(npix)\n",
    "    data_m_pos = np.zeros(npix)\n",
    "    for pix in range(npix):\n",
    "            theta, phi = hp.pix2ang(8, pix)\n",
    "            pos = np.array([np.sin(theta)*np.cos(phi), \n",
    "                         np.sin(theta)*np.sin(phi), \n",
    "                         np.cos(theta)])\n",
    "            data_p_pos[pix],data_x_pos[pix], data_m_pos[pix]  = create_gw_antenna_pattern(pos,gwtheta,gwphi)\n",
    "            \n",
    "    names = ['Plus', 'Cross', 'Cos Mu']\n",
    "    fig, axes = plt.subplots(1,3,figsize = (18,3))\n",
    "\n",
    "    for d, dat in enumerate([data_x_pos, data_p_pos, data_m_pos]):\n",
    "        plt.axes(axes[d])\n",
    "        mv = hp.mollview(dat, rot = 180, title = names[d], hold = True)\n",
    "\n",
    "\n",
    "    \n",
    "        for i, psr in enumerate(psrs):\n",
    "            hp.visufunc.projscatter(psr.theta, psr.phi, marker = '*', s = 300, edgecolor = 'w', color = colors[i])\n",
    "\n",
    "        #healpy isn't great at axis labels, so we have to do it by hand :( \n",
    "        for i in range(2,24,2):\n",
    "            text = hp.projtext( i*180/12+3, 4,  str(i)+'h', lonlat=True, coord='G', fontsize = 'large', fontweight = 100, zorder = 1, color = 'w')\n",
    "\n",
    "        for i in range(-75,0,15):\n",
    "            text = hp.projtext( 180,i,   str(i)+'$^\\circ$', lonlat=True, coord='G', fontsize = 'large', fontweight = 100, zorder = 10, color = 'w')\n",
    "        for i in range(15,90,15):\n",
    "            text = hp.projtext( 180,i,   str(i)+'$^\\circ$', lonlat=True, coord='G', fontsize = 'large', fontweight = 100, zorder = 10, color = 'w')\n",
    "        hp.graticule(15, 30)"
   ]
  },
  {
   "cell_type": "code",
   "execution_count": null,
   "metadata": {},
   "outputs": [],
   "source": [
    "plot_apf(psrs, gwtheta_in, gwphi_in)\n",
    "#try changing the input theta and phi values to see how the antenna pattern changes! "
   ]
  },
  {
   "cell_type": "markdown",
   "metadata": {},
   "source": [
    "Next, let's take a closer look at the form of a CW signal."
   ]
  },
  {
   "cell_type": "code",
   "execution_count": null,
   "metadata": {},
   "outputs": [],
   "source": [
    "from enterprise_extensions.deterministic import cw_delay"
   ]
  },
  {
   "cell_type": "code",
   "execution_count": null,
   "metadata": {},
   "outputs": [],
   "source": [
    "tmin = [p.toas.min() for p in psrs]\n",
    "tmax = [p.toas.max() for p in psrs]\n",
    "Tspan = np.max(tmax) - np.min(tmin)\n",
    "tref = max(tmax)\n",
    "# it's imporant to choose a logical reference time for your CW model! the default in most functions is t = 0, \n",
    "# which isn't actually useful to compare to binary orbital periods measured in at the current MJD. \n",
    "# Therefore, we use the last TOA in the data set."
   ]
  },
  {
   "cell_type": "markdown",
   "metadata": {},
   "source": [
    "The strain amplitude is a function of a few of the source parameters,  \n",
    "\n",
    "$$\n",
    "\\begin{equation}\n",
    "h_{0} = \\dfrac{2 \\mathcal{M}_c^{5/3}(\\pi f_{\\rm GW})^{2/3}}{d_{L}}\n",
    "\\end{equation}\n",
    "$$\n",
    "\n",
    "You'd anticipate that more massive systems are \"louder,\" as are closer systems. This is reflected in the strain's dependence on the binary's effective mass, called the chirp mass ($\\mathcal{M}_{c}$) and inverse dependence on a particular distance to the binary, called the luminosity distance ($d_L$).\n",
    "\n",
    "If we have no prior knowledge about our continuous wave source, the only information we can recover from our search is about the strain (i.e., $h_{0}$). And since that is a mix of chirp mass and luminosity distance, we need some other information in order to get estimates of these two values independently. Fortunately, there is a way to untangle these values: through the inclusion of the so-called pulsar term.\n",
    "\n",
    "The full influence of a gravitational wave passing through our pulsar array is a combination of the measurements of the signal at the Earth and at each pulsar individually. If the wave jiggles Earth, then the times of arrival for all the pulsars in the array will change. We encapsulate this particular portion of the signal effect into the \"Earth-term\". But, every pulsar experiences a jiggle too, and since the pulsar's pulses take time to reach us, we essentially see the signal in the past, before it reached Earth. This is the \"pulsar-term\" in our residuals. \n",
    "\n",
    "Theoretically, we understand this to provide information on the chirp mass of the system. By including both Earth- and pulsar-terms into our search, we're better able to recover the source properties. \n"
   ]
  },
  {
   "cell_type": "code",
   "execution_count": null,
   "metadata": {},
   "outputs": [],
   "source": [
    "#check out cw_delay\n"
   ]
  },
  {
   "cell_type": "code",
   "execution_count": null,
   "metadata": {},
   "outputs": [],
   "source": [
    "psr_num = 0\n",
    "names = ['earth', 'psr', 'total']\n",
    "fig, axes = plt.subplots(3,1, figsize = (5, 10))\n",
    "psr = psrs[psr_num]\n",
    "cw1 = cw_delay(psr.toas, psr.pos, pdist = (1.0, 0.2),\n",
    "               cos_gwtheta=np.cos(gwtheta_in), \n",
    "               gwphi=gwphi_in, log10_mc=np.log10(mass_in), log10_dist=np.log10(DL_in), \n",
    "               log10_fgw=np.log10(fgw_in), phase0=phase0_in, psi=psi_in, cos_inc=np.cos(inc_in), \n",
    "              psrTerm = True, evolve = True, tref =tref, p_dist = 0)\n",
    "\n",
    "axes[2].plot((psr.toas*u.second).to(u.day), cw1 , color = colors[psr_num], marker = '', alpha = 1)\n",
    "cw1_e = cw_delay(psr.toas, psr.pos, pdist = (1.0, 0.2),\n",
    "               cos_gwtheta=np.cos(gwtheta_in), \n",
    "               gwphi=gwphi_in, log10_mc=np.log10(mass_in), log10_dist=np.log10(DL_in), \n",
    "               log10_fgw=np.log10(fgw_in), phase0=phase0_in, psi=psi_in, cos_inc=np.cos(inc_in), \n",
    "              psrTerm = False, evolve = True, tref =tref, p_dist = 0)\n",
    "\n",
    "axes[0].plot((psr.toas*u.second).to(u.day), cw1_e , color = colors[psr_num], marker = '', alpha = 1)\n",
    "\n",
    "cwp = cw1+cw1_e\n",
    "axes[1].plot((psr.toas*u.second).to(u.day), cwp , color = colors[psr_num], marker = '', alpha = 1)\n",
    "\n",
    "axes[2].plot((psr.toas*u.second).to(u.day), cwp-cw1_e , color = colors[psr_num], marker = '', alpha = 1)\n",
    "for i,ax in enumerate(axes):\n",
    "    ax.set_ylim(-2.6e-5, 2.6e-5)\n",
    "    ax.set_xlabel('MJD')\n",
    "    ax.set_ylabel('Residual (s)')\n",
    "    ax.set_title(names[i], y=1.0, pad=-25)\n",
    "    \n"
   ]
  },
  {
   "cell_type": "markdown",
   "metadata": {},
   "source": [
    "In addition to the pulsar's location on the sky, the distance to the pulsar has a big effect on the residuals when we're modeling the pulsar term. Since the wavelength of our typical GWs are much smaller than the uncertainties on the distances to our pulsars, small changes in the pulsar distance can have a big effect on the shape of the residuals. In the block below, we'll draw a few values from a normal distribution of pulsar distances and plot the output of `cw_delay` to compare to the input signal. \n"
   ]
  },
  {
   "cell_type": "code",
   "execution_count": 1,
   "metadata": {},
   "outputs": [],
   "source": [
    "#calculate wavelength here\n"
   ]
  },
  {
   "cell_type": "code",
   "execution_count": null,
   "metadata": {},
   "outputs": [],
   "source": [
    "N = 5\n",
    "dists = np.random.randn(N,n_psrs)*0.2+1\n",
    "plt.figure(figsize=(25, 3.5*n_psrs))\n",
    "for i, psr in enumerate(psrs):\n",
    "    ax = plt.subplot(n_psrs, 3, i+1)\n",
    "    cw1 = cw_delay(psr.toas, psr.pos, pdist = (1.0, 0.2),\n",
    "                   cos_gwtheta=np.cos(gwtheta_in), \n",
    "                   gwphi=gwphi_in, log10_mc=np.log10(mass_in), log10_dist=np.log10(DL_in), \n",
    "                   log10_fgw=np.log10(fgw_in), phase0=phase0_in, psi=psi_in, cos_inc=np.cos(inc_in), \n",
    "                  psrTerm = True, evolve = True, tref =tref, p_dist = 0)\n",
    "    for d, dist in enumerate(dists):\n",
    "        cwd = cw_delay(psr.toas, psr.pos, pdist = (dist[i], 0.2),\n",
    "                       cos_gwtheta=np.cos(gwtheta_in), \n",
    "                       gwphi=gwphi_in, log10_mc=np.log10(mass_in), log10_dist=np.log10(DL_in), \n",
    "                       log10_fgw=np.log10(fgw_in), phase0=phase0_in, psi=psi_in, cos_inc=np.cos(inc_in), \n",
    "                      psrTerm = True, evolve = True, tref =tref, p_dist = 0)\n",
    "\n",
    "        ax.plot((psr.toas*u.second).to(u.day), cwd , color = colors[d], marker = '', alpha = 1/N)\n",
    "\n",
    "\n",
    "    ax.plot((psr.toas*u.second).to(u.day), cw1 , color = colors[i], marker = '', alpha = 1)\n",
    "    ax.set_ylim(-1.8e-5, 1.8e-5)\n",
    "    \n",
    "# Try choosing more distance values (or even some specific values of the pulsar distance) to see how much \n",
    "# of an effect this can have! Since everyone's random pulsars are in different locations, compare with friends too."
   ]
  },
  {
   "cell_type": "markdown",
   "metadata": {},
   "source": [
    "## 3.0 Construct CW Signal Search\n",
    "\n",
    "Now that we have a good understanding of why a CW looks the way it does, let's look for one in our simulated PTA with `enterprise`!"
   ]
  },
  {
   "cell_type": "code",
   "execution_count": null,
   "metadata": {},
   "outputs": [],
   "source": [
    "# More imports for GW detection codes\n",
    "import sys\n",
    "# Enterprise\n",
    "# sys.path.append(\"/home/jovyan/work/shared/enterprise/\")\n",
    "import enterprise.signals.parameter as parameter\n",
    "from enterprise.signals import utils\n",
    "from enterprise.signals import signal_base\n",
    "from enterprise.signals import selections\n",
    "from enterprise.signals.selections import Selection\n",
    "from enterprise.signals import white_signals\n",
    "from enterprise.signals import gp_signals\n",
    "import corner\n",
    "from PTMCMCSampler.PTMCMCSampler import PTSampler as ptmcmc\n",
    "import enterprise_extensions.model_utils as utils\n",
    "import enterprise_extensions.models as models\n",
    "\n",
    "from enterprise_extensions.sampler import get_parameter_groups, JumpProposal\n",
    "\n",
    "from enterprise_extensions.deterministic import cw_delay, CWSignal\n"
   ]
  },
  {
   "cell_type": "markdown",
   "metadata": {},
   "source": [
    "### 3.1 Add pulsars to model"
   ]
  },
  {
   "cell_type": "code",
   "execution_count": null,
   "metadata": {},
   "outputs": [],
   "source": [
    "# We've already created our enterprise pulsars, but to do so, remember:\n",
    "# psrs = []\n",
    "# for par, tim in zip(pars, tims):\n",
    "#     psrs.append(Pulsar(par, tim))\n"
   ]
  },
  {
   "cell_type": "markdown",
   "metadata": {},
   "source": [
    "### 3.2 Form timing model"
   ]
  },
  {
   "cell_type": "code",
   "execution_count": null,
   "metadata": {},
   "outputs": [],
   "source": [
    "# Create white noise parameter priors\n",
    "efac = parameter.Constant(1)\n",
    "equad = parameter.Uniform(-8.5,-5.0)\n",
    "\n",
    "##### Signals below #####\n",
    "\n",
    "# white noise parameters\n",
    "ef = white_signals.MeasurementNoise(efac=efac)\n",
    "eq = white_signals.EquadNoise(log10_equad=equad)\n",
    "\n",
    "# timing model\n",
    "tm = gp_signals.TimingModel()"
   ]
  },
  {
   "cell_type": "markdown",
   "metadata": {},
   "source": [
    "### 3.3 Initialize CW source parameter priors & add to signal model"
   ]
  },
  {
   "cell_type": "code",
   "execution_count": null,
   "metadata": {},
   "outputs": [],
   "source": [
    "# continuous GW parameters\n",
    "# note that we are pre-initializing them with names here so that they will be shared\n",
    "# across all pulsars in the PTA\n",
    "\n",
    "# Our standard CW search looks for a GW with a specific frequency and we hold log10_fgw constant,\n",
    "# as commented below. However, we will do a search in frequency\n",
    "#freq = 8e-09\n",
    "#log10_fgw = parameter.Constant(np.log10(freq))('log10_fgw')\n",
    "\n",
    "\n",
    "cos_gwtheta = parameter.Uniform(-1, 1)('cos_gwtheta') #position of source\n",
    "gwphi = parameter.Uniform(0, 2*np.pi)('gwphi') #position of source\n",
    "log10_mc = parameter.Uniform(7, 10)('log10_mc') #chirp mass of binary\n",
    "log10_fgw = parameter.Uniform(-9,-7)('log10_fgw') #gw frequency \n",
    "phase0 = parameter.Uniform(0, 2*np.pi)('phase0') #gw phase\n",
    "psi = parameter.Uniform(0, np.pi)('psi') #gw polarization \n",
    "cos_inc = parameter.Uniform(-1, 1)('cos_inc') #inclination of binary with respect to Earth \n",
    "\n",
    "log10_h = parameter.Uniform(-18, -11)('log10_h') #gw strain (linear exponential for an upper limit calculation)\n",
    "\n",
    "\n",
    "psrTerm = False\n",
    "# define CGW waveform and signal\n",
    "cw_wf = cw_delay(cos_gwtheta=cos_gwtheta, gwphi=gwphi, log10_mc=log10_mc, \n",
    "                     log10_h=log10_h, log10_fgw=log10_fgw, phase0=phase0, \n",
    "                     psi=psi, cos_inc=cos_inc, \n",
    "                 tref = tref, evolve = True, psrTerm = psrTerm, p_dist = 0)\n",
    "cw = CWSignal(cw_wf, ecc=False, psrTerm=psrTerm)"
   ]
  },
  {
   "cell_type": "markdown",
   "metadata": {},
   "source": [
    "### 3.4 Define the full model (includes noise + GW signals)"
   ]
  },
  {
   "cell_type": "code",
   "execution_count": null,
   "metadata": {},
   "outputs": [],
   "source": [
    "# full signal\n",
    "s = ef + eq + tm + cw"
   ]
  },
  {
   "cell_type": "markdown",
   "metadata": {},
   "source": [
    "### 3.5 With model and pulsars, create `enterprise` PTA object"
   ]
  },
  {
   "cell_type": "code",
   "execution_count": null,
   "metadata": {},
   "outputs": [],
   "source": [
    "# initialize PTA\n",
    "model = [s(psr) for psr in psrs]\n",
    "pta = signal_base.PTA(model)"
   ]
  },
  {
   "cell_type": "code",
   "execution_count": null,
   "metadata": {},
   "outputs": [],
   "source": []
  },
  {
   "cell_type": "markdown",
   "metadata": {},
   "source": [
    "### 3.6 Prepare the MCMC sampler"
   ]
  },
  {
   "cell_type": "code",
   "execution_count": null,
   "metadata": {},
   "outputs": [],
   "source": [
    "# Prepare sampler initial condition\n",
    "x0 = np.hstack(p.sample() for p in pta.params)\n",
    "ndim = len(x0)\n",
    "\n",
    "# initial jump covariance matrix\n",
    "cov = np.diag(np.ones(ndim) * 0.1**2)\n",
    "\n",
    "# parameter groupings\n",
    "groups = get_parameter_groups(pta)\n",
    "\n",
    "# define where you want to put the chains from the MCMC\n",
    "chaindir = DIR+'/chains/'\n",
    "\n",
    "# set up jump groups by red noise groups (need better way of doing this)\n",
    "sampler = ptmcmc(ndim, pta.get_lnlikelihood, pta.get_lnprior, cov, groups=groups, \n",
    "                 outDir=chaindir, resume=False)\n",
    "\n",
    "# write parameter file for convenience\n",
    "filename = chaindir + '/params.txt'\n",
    "np.savetxt(filename,list(map(str, pta.param_names)), fmt='%s')"
   ]
  },
  {
   "cell_type": "code",
   "execution_count": null,
   "metadata": {},
   "outputs": [],
   "source": [
    "# add prior draws to proposal cycle -- this helps prevent the sampler's walkers \n",
    "# from getting trapped in local minimum in parameter space\n",
    "jp = JumpProposal(pta)\n",
    "sampler.addProposalToCycle(jp.draw_from_prior, 50)\n",
    "sampler.addProposalToCycle(jp.draw_from_cw_log_uniform_distribution, 10)\n",
    "\n",
    "#these might be enough for our 3 pulsar PTA, but more might be needed for more complex searches. \n",
    "#Which ones would you add? Try adjusting these weights to see what happens!"
   ]
  },
  {
   "cell_type": "markdown",
   "metadata": {},
   "source": [
    "### 3.7 Sample!"
   ]
  },
  {
   "cell_type": "code",
   "execution_count": null,
   "metadata": {},
   "outputs": [],
   "source": [
    "N = 50000\n",
    "sampler.sample(x0, N, SCAMweight=30, AMweight=15, DEweight=5)"
   ]
  },
  {
   "cell_type": "code",
   "execution_count": null,
   "metadata": {},
   "outputs": [],
   "source": []
  },
  {
   "cell_type": "markdown",
   "metadata": {},
   "source": [
    "## 4.0 Visualize Results"
   ]
  },
  {
   "cell_type": "code",
   "execution_count": null,
   "metadata": {},
   "outputs": [],
   "source": [
    "#input values to compare\n",
    "noises_in = np.log10(np.ones(n_psrs)*0.5*1e-6)\n",
    "\n",
    "psr_correct = []\n",
    "for n in range(n_psrs):\n",
    "    if psrTerm:\n",
    "        dists_in = np.zeros(n_psrs)\n",
    "        phases_in = np.zeros(n_psrs)\n",
    "        # note: used as a placeholder to visualize likelihoods and create truth vector for corner plots.\n",
    "        # Homework! Can you use what you learned to calculate what this phase should be?\n",
    "        psr_correct.append(dists_in[n])\n",
    "        psr_correct.append(phases_in[n])\n",
    "    psr_correct.append(noises_in[n])\n",
    "\n",
    "psr_correct = np.array(psr_correct)\n",
    "correct = np.hstack((psr_correct, np.array([np.cos(gwtheta_in), \n",
    "                   np.cos(inc_in),gwphi_in, np.log10(fgw_in), np.log10(strain.to(u.dimensionless_unscaled)), \n",
    "                   np.log10(mass_in),phase0_in, psi_in] )))"
   ]
  },
  {
   "cell_type": "code",
   "execution_count": null,
   "metadata": {},
   "outputs": [],
   "source": [
    "# Load the MCMC chains and parameter names (if you need them)\n",
    "\n",
    "chain = np.loadtxt(chaindir + '/chain_1.txt')\n",
    "params = list(np.loadtxt(chaindir + '/params.txt', dtype='str'))\n",
    "\n",
    "# Value of burn-in to apply to the chains.\n",
    "burn = int(0.25*chain.shape[0])"
   ]
  },
  {
   "cell_type": "code",
   "execution_count": null,
   "metadata": {},
   "outputs": [],
   "source": [
    "# Convenience function to help plot the marginalized parameter distributions\n",
    "def plot_param(name, hist = True, correct = correct):\n",
    "    '''Given one of the CGW function names above, plot the distribution as a histogram or as a trace plot. \n",
    "    In traces, the burn in period is shown in red.'''\n",
    "    \n",
    "    if hist:\n",
    "        plt.hist(chain[burn:,params.index(name)], 50, density=True, lw=2, color='C0', histtype='step')\n",
    "        plt.axvline(correct[params.index(name)])\n",
    "    else:\n",
    "        plt.plot(chain[:,params.index(name)], lw=2, color='C0')\n",
    "        plt.plot(chain[:burn,params.index(name)], lw=2, color='C3')\n",
    "        plt.axhline(correct[params.index(name)])\n",
    "\n",
    "    if \"log10\" in name:\n",
    "        plt.xlabel(r\"$\\log_{10} \\mathrm{%s}$\"%(name.split('_')[-1]))\n",
    "    else:\n",
    "        plt.xlabel(name)"
   ]
  },
  {
   "cell_type": "code",
   "execution_count": null,
   "metadata": {},
   "outputs": [],
   "source": [
    "# some space to work"
   ]
  },
  {
   "cell_type": "code",
   "execution_count": null,
   "metadata": {},
   "outputs": [],
   "source": [
    "plot_param('log10_h', hist = False)"
   ]
  },
  {
   "cell_type": "code",
   "execution_count": null,
   "metadata": {},
   "outputs": [],
   "source": []
  },
  {
   "cell_type": "code",
   "execution_count": null,
   "metadata": {},
   "outputs": [],
   "source": []
  },
  {
   "cell_type": "code",
   "execution_count": null,
   "metadata": {},
   "outputs": [],
   "source": [
    "# corner plot of the GW parameters\n",
    "if psrTerm:\n",
    "    pars_per_pulsar = 3\n",
    "else:\n",
    "    pars_per_pulsar = 1\n",
    "corner.corner(chain[burn:,n_psrs*pars_per_pulsar:-4], labels=params[n_psrs*pars_per_pulsar:], \n",
    "              truths = correct[n_psrs*pars_per_pulsar:]);"
   ]
  },
  {
   "cell_type": "code",
   "execution_count": null,
   "metadata": {},
   "outputs": [],
   "source": [
    "#try making a corner plot of the per-pulsar parameters too!"
   ]
  },
  {
   "cell_type": "code",
   "execution_count": null,
   "metadata": {},
   "outputs": [],
   "source": [
    "#collect output values\n",
    "ind_ml = np.argmax(chain[burn:,-4])\n",
    "cos_gwtheta_out = chain[burn+ind_ml, params.index('cos_gwtheta')]\n",
    "cos_inc_out = chain[burn+ind_ml, params.index('cos_inc')]\n",
    "gwphi_out = chain[burn+ind_ml, params.index('gwphi')]\n",
    "log10_fgw_out = chain[burn+ind_ml, params.index('log10_fgw')]\n",
    "log10_h_out = chain[burn+ind_ml, params.index('log10_h')]\n",
    "log10_mc_out = chain[burn+ind_ml, params.index('log10_mc')]\n",
    "phase0_out = chain[burn+ind_ml, params.index('phase0')]\n",
    "psi_out = chain[burn+ind_ml, params.index('psi')]\n"
   ]
  },
  {
   "cell_type": "code",
   "execution_count": null,
   "metadata": {},
   "outputs": [],
   "source": [
    "log10_dl_out = np.log10(((const.G*10**log10_mc_out*u.Msun/(const.c**3))**(5./3)*\n",
    "                         (np.pi*10**log10_fgw_out*u.Hz)**(2./3)*const.c/(10**log10_h_out)).to(u.Mpc).value)\n",
    "print(10**log10_dl_out)\n",
    "#is this close to the input value?"
   ]
  },
  {
   "cell_type": "code",
   "execution_count": null,
   "metadata": {},
   "outputs": [],
   "source": [
    "#needed if using pulsar term\n",
    "dist_pars = [p for p in params if \"dist\" in p]\n",
    "dists_out = [chain[burn+ind_ml, params.index(p)] for p in dist_pars]\n",
    "\n",
    "phase_pars = [p for p in params if \"p_phase\" in p]\n",
    "phases_out = [chain[burn+ind_ml, params.index(p)] for p in phase_pars]"
   ]
  },
  {
   "cell_type": "markdown",
   "metadata": {},
   "source": [
    "In addition to our MCMC chain output, it can be helpful to visualize our results by comparing the signal made by the injected parameters with the results."
   ]
  },
  {
   "cell_type": "code",
   "execution_count": null,
   "metadata": {},
   "outputs": [],
   "source": [
    "plt.figure(figsize=(25, 3.5*n_psrs))\n",
    "\n",
    "for i, psr in enumerate(psrs):\n",
    "    ax = plt.subplot(n_psrs, 3, i+1)\n",
    "    cw1 = cw_delay(psr.toas, psr.pos, pdist = (1.0, 0.2),\n",
    "               cos_gwtheta=np.cos(gwtheta_in), \n",
    "               gwphi=gwphi_in, log10_mc=np.log10(mass_in), log10_dist=np.log10(DL_in), \n",
    "               log10_fgw=np.log10(fgw_in), phase0=phase0_in, psi=psi_in, cos_inc=np.cos(inc_in), \n",
    "              psrTerm = True, evolve = True, tref =tref, p_dist = 0)\n",
    "    \n",
    "    cw_out = cw_delay(psr.toas, psr.pos, pdist = (1.0, 0.2),\n",
    "               cos_gwtheta=cos_gwtheta_out, \n",
    "               gwphi=gwphi_out, log10_mc=log10_mc_out, log10_h = log10_h_out, \n",
    "               log10_fgw=log10_fgw_out, phase0=phase0_out, psi=psi_out, cos_inc=cos_inc_out, \n",
    "              psrTerm = False, evolve = True, tref =tref, p_dist = 0) #dists_out[i], p_phase = phases_out[i])\n",
    "\n",
    "    ax.plot((psr.toas*u.second).to(u.day), cw1 , color = colors[i], marker = '', alpha = 1)\n",
    "    ax.plot((psr.toas*u.second).to(u.day), cw_out , color = colors[i], marker = '', alpha = 1, ls = '--')\n",
    "\n",
    "    ax.set_ylim(-1.8e-5, 1.8e-5)"
   ]
  },
  {
   "cell_type": "markdown",
   "metadata": {},
   "source": [
    "## 5.0 Likelihood Visualization "
   ]
  },
  {
   "cell_type": "markdown",
   "metadata": {},
   "source": [
    "Did your CW search work perfectly? If not, it might be useful to try to understand why the MCMC returned what it did. The PTA likelihood is complex and VERY difficult to move around. Let's take a look!"
   ]
  },
  {
   "cell_type": "code",
   "execution_count": null,
   "metadata": {},
   "outputs": [],
   "source": [
    "def like_plotter_1d(xpar, xgrid, pars = pta.param_names, correct = correct, like = pta.get_lnlikelihood):\n",
    "    #function to visualize the likelihood against one parameter\n",
    "    #xpar\n",
    "    ind = pars.index(xpar)\n",
    "    l= []\n",
    "    c = correct.copy()\n",
    "    for x in xgrid:\n",
    "        c[ind] = x\n",
    "        l.append(like(c))\n",
    "    plt.plot(xgrid, l)\n",
    "    plt.xlabel(xpar)\n",
    "    plt.ylabel('lnlike')\n",
    "    plt.axvline(correct[ind], color = 'C3', alpha = 0.5)\n",
    "    i = np.argmax(l)\n",
    "    plt.axvline(xgrid[i], color = 'C1', alpha = 0.5)\n",
    "    return l\n",
    "                \n"
   ]
  },
  {
   "cell_type": "code",
   "execution_count": null,
   "metadata": {},
   "outputs": [],
   "source": [
    "l = like_plotter_1d('log10_fgw', np.linspace(-9, -7, 1000))\n",
    "#try a few!"
   ]
  },
  {
   "cell_type": "code",
   "execution_count": null,
   "metadata": {},
   "outputs": [],
   "source": []
  },
  {
   "cell_type": "code",
   "execution_count": null,
   "metadata": {},
   "outputs": [],
   "source": []
  },
  {
   "cell_type": "code",
   "execution_count": null,
   "metadata": {},
   "outputs": [],
   "source": [
    "def like_plotter_2d(xpar, xgrid, ypar, ygrid, pars = pta.param_names, correct = correct, like = pta.get_lnlikelihood):\n",
    "    xind = pars.index(xpar)\n",
    "    yind = pars.index(ypar)\n",
    "    l= []\n",
    "    c = correct.copy()\n",
    "    for x in xgrid:\n",
    "        for y in ygrid:\n",
    "            c[xind] = x\n",
    "            c[yind] = y\n",
    "            l.append(like(c))\n",
    "    l = np.array(l)\n",
    "    l = l.reshape(len(xgrid), len(ygrid))\n",
    "    fig = plt.figure()\n",
    "    plt.pcolormesh(xgrid, ygrid, l.transpose(), shading = 'auto', vmin = np.percentile(l, 15), vmax = np.percentile(l, 99.5))\n",
    "    plt.xlabel(xpar)\n",
    "    plt.ylabel(ypar)\n",
    "    plt.colorbar(label = 'lnlike')\n",
    "    plt.scatter(correct[xind], correct[yind], marker ='o', facecolor ='none', \n",
    "                edgecolors = 'C3', s =200, linewidths = 2, label = 'Input')\n",
    "    i = np.unravel_index(np.argmax(l.transpose()), l.transpose().shape)\n",
    "    plt.scatter(xgrid[i[1]], ygrid[i[0]] , marker ='o', facecolor ='none', \n",
    "                edgecolors = 'C1', s =150, linewidths = 2, label = 'Grid Max')\n",
    "    plt.legend(loc = 'lower right', bbox_to_anchor=(1.7, 0.8))\n",
    "    return fig"
   ]
  },
  {
   "cell_type": "code",
   "execution_count": null,
   "metadata": {},
   "outputs": [],
   "source": [
    "fig = like_plotter_2d('gwphi', np.linspace(0,2*np.pi, 100), 'cos_gwtheta', np.linspace(-1, 1, 100))"
   ]
  },
  {
   "cell_type": "code",
   "execution_count": null,
   "metadata": {},
   "outputs": [],
   "source": [
    "fig = like_plotter_2d('log10_fgw', np.linspace(-9,-7, 1000), 'log10_h', np.linspace(-18, -12, 50))"
   ]
  },
  {
   "cell_type": "code",
   "execution_count": null,
   "metadata": {},
   "outputs": [],
   "source": [
    "#try a few!"
   ]
  },
  {
   "cell_type": "code",
   "execution_count": null,
   "metadata": {},
   "outputs": [],
   "source": []
  },
  {
   "cell_type": "code",
   "execution_count": null,
   "metadata": {},
   "outputs": [],
   "source": []
  },
  {
   "cell_type": "markdown",
   "metadata": {},
   "source": [
    "## 6+ And beyond:"
   ]
  },
  {
   "cell_type": "markdown",
   "metadata": {},
   "source": [
    "Now that you are an expert, re-run the code in the following ways and see how your answers change:\n",
    "\n",
    "* Use the pulsar term in the `enterprise` search (necessary code snippet below)"
   ]
  },
  {
   "cell_type": "code",
   "execution_count": null,
   "metadata": {},
   "outputs": [],
   "source": [
    "#define the pulsar distance and pulsar phase in your enterprise model, and add to cw_delay\n",
    "p_phase = parameter.Uniform(0, 2*np.pi)\n",
    "p_dist = parameter.Normal(0, 1)\n"
   ]
  },
  {
   "cell_type": "markdown",
   "metadata": {},
   "source": [
    "* Reduce the simulated mass of the system in `observe()` to make the observed strain even weaker. How well can you do?\n"
   ]
  },
  {
   "cell_type": "markdown",
   "metadata": {},
   "source": [
    "* Try only injecting noise into your simulated pulsars. Then, take an upper limit on the GW strain at a constant frequency (code below). This is similar to how current CW searches operate.\n"
   ]
  },
  {
   "cell_type": "code",
   "execution_count": null,
   "metadata": {},
   "outputs": [],
   "source": [
    "from enterprise_extensions.model_utils import bayes_fac, ul\n",
    "bf = bayes_fac(chain[burn:, params.index('log10_h')]) #this should be done on a chain run with a LinearExp log10h prior\n",
    "upper = ul(chain[burn:, params.index('log10_h')])"
   ]
  },
  {
   "cell_type": "markdown",
   "metadata": {},
   "source": [
    "* Constrain some parameters of the system to create a multi-messenger search (such as `cos_gwtheta`, `gwphi`, and `log10_dL` (which can be used instead of `log10_h` if it's known)\n"
   ]
  },
  {
   "cell_type": "markdown",
   "metadata": {},
   "source": [
    "* Add some extra jump proposals to your MCMC to help the parameters move around. Try adjusting the weights of the jump proposals to see how they change your MCMC results. (examples below)\n"
   ]
  },
  {
   "cell_type": "code",
   "execution_count": null,
   "metadata": {},
   "outputs": [],
   "source": [
    "sampler.addProposalToCycle(jp.draw_from_par_prior(['log10_mc']), 5) \n",
    "#this jump will take a list of parameters to add a prior draw in\n"
   ]
  },
  {
   "cell_type": "markdown",
   "metadata": {},
   "source": [
    "* Add red noise into the `observe()` function using `LT.add_rednoise(psr,A,gamma)`. $A$ will be in GW strain amplitude units and you can vary $\\gamma$ in steepness, typically somewhere between 1 and 5. How does this affect the results? What new correlations do you see amongst the parameters? \n"
   ]
  },
  {
   "cell_type": "markdown",
   "metadata": {},
   "source": [
    "Remember: try adding more pulsars into your array if you need some additional signal boost! However, you might need more samples in each of these tasks, especially if you have added pulsars. "
   ]
  },
  {
   "cell_type": "code",
   "execution_count": null,
   "metadata": {},
   "outputs": [],
   "source": []
  }
 ],
 "metadata": {
  "kernelspec": {
   "display_name": "Python 3 (ipykernel)",
   "language": "python",
   "name": "python3"
  },
  "language_info": {
   "codemirror_mode": {
    "name": "ipython",
    "version": 3
   },
   "file_extension": ".py",
   "mimetype": "text/x-python",
   "name": "python",
   "nbconvert_exporter": "python",
   "pygments_lexer": "ipython3",
   "version": "3.9.5"
  }
 },
 "nbformat": 4,
 "nbformat_minor": 2
}
